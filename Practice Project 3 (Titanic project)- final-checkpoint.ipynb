{
 "cells": [
  {
   "cell_type": "markdown",
   "id": "57b9f79e",
   "metadata": {},
   "source": [
    "\n",
    "# Problem Statement"
   ]
  },
  {
   "cell_type": "markdown",
   "id": "6d5853b5",
   "metadata": {},
   "source": [
    " The Titanic Problem is based on the sinking of the ‘Unsinkable’ ship Titanic in early 1912. It gives you information about multiple people like their ages, sexes, sibling counts, embarkment points, and whether or not they survived the disaster. Based on these features, you have to predict if an arbitrary passenger on Titanic would survive the sinking or not. "
   ]
  },
  {
   "cell_type": "code",
   "execution_count": 1,
   "id": "d72ec560",
   "metadata": {},
   "outputs": [],
   "source": [
    "# Importing Libraries I will be using for project\n",
    "import pandas as pd\n",
    "import numpy as np\n",
    "import matplotlib.pyplot as plt\n",
    "import seaborn as sns\n",
    "\n",
    "\n",
    "\n",
    "import warnings\n",
    "warnings.filterwarnings('ignore')"
   ]
  },
  {
   "cell_type": "markdown",
   "id": "20fac688",
   "metadata": {},
   "source": [
    "# Loading Dataset "
   ]
  },
  {
   "cell_type": "code",
   "execution_count": 2,
   "id": "64e11d23",
   "metadata": {},
   "outputs": [
    {
     "data": {
      "text/html": [
       "<div>\n",
       "<style scoped>\n",
       "    .dataframe tbody tr th:only-of-type {\n",
       "        vertical-align: middle;\n",
       "    }\n",
       "\n",
       "    .dataframe tbody tr th {\n",
       "        vertical-align: top;\n",
       "    }\n",
       "\n",
       "    .dataframe thead th {\n",
       "        text-align: right;\n",
       "    }\n",
       "</style>\n",
       "<table border=\"1\" class=\"dataframe\">\n",
       "  <thead>\n",
       "    <tr style=\"text-align: right;\">\n",
       "      <th></th>\n",
       "      <th>PassengerId</th>\n",
       "      <th>Survived</th>\n",
       "      <th>Pclass</th>\n",
       "      <th>Name</th>\n",
       "      <th>Sex</th>\n",
       "      <th>Age</th>\n",
       "      <th>SibSp</th>\n",
       "      <th>Parch</th>\n",
       "      <th>Ticket</th>\n",
       "      <th>Fare</th>\n",
       "      <th>Cabin</th>\n",
       "      <th>Embarked</th>\n",
       "    </tr>\n",
       "  </thead>\n",
       "  <tbody>\n",
       "    <tr>\n",
       "      <th>0</th>\n",
       "      <td>1</td>\n",
       "      <td>0</td>\n",
       "      <td>3</td>\n",
       "      <td>Braund, Mr. Owen Harris</td>\n",
       "      <td>male</td>\n",
       "      <td>22.0</td>\n",
       "      <td>1</td>\n",
       "      <td>0</td>\n",
       "      <td>A/5 21171</td>\n",
       "      <td>7.2500</td>\n",
       "      <td>NaN</td>\n",
       "      <td>S</td>\n",
       "    </tr>\n",
       "    <tr>\n",
       "      <th>1</th>\n",
       "      <td>2</td>\n",
       "      <td>1</td>\n",
       "      <td>1</td>\n",
       "      <td>Cumings, Mrs. John Bradley (Florence Briggs Th...</td>\n",
       "      <td>female</td>\n",
       "      <td>38.0</td>\n",
       "      <td>1</td>\n",
       "      <td>0</td>\n",
       "      <td>PC 17599</td>\n",
       "      <td>71.2833</td>\n",
       "      <td>C85</td>\n",
       "      <td>C</td>\n",
       "    </tr>\n",
       "    <tr>\n",
       "      <th>2</th>\n",
       "      <td>3</td>\n",
       "      <td>1</td>\n",
       "      <td>3</td>\n",
       "      <td>Heikkinen, Miss. Laina</td>\n",
       "      <td>female</td>\n",
       "      <td>26.0</td>\n",
       "      <td>0</td>\n",
       "      <td>0</td>\n",
       "      <td>STON/O2. 3101282</td>\n",
       "      <td>7.9250</td>\n",
       "      <td>NaN</td>\n",
       "      <td>S</td>\n",
       "    </tr>\n",
       "    <tr>\n",
       "      <th>3</th>\n",
       "      <td>4</td>\n",
       "      <td>1</td>\n",
       "      <td>1</td>\n",
       "      <td>Futrelle, Mrs. Jacques Heath (Lily May Peel)</td>\n",
       "      <td>female</td>\n",
       "      <td>35.0</td>\n",
       "      <td>1</td>\n",
       "      <td>0</td>\n",
       "      <td>113803</td>\n",
       "      <td>53.1000</td>\n",
       "      <td>C123</td>\n",
       "      <td>S</td>\n",
       "    </tr>\n",
       "    <tr>\n",
       "      <th>4</th>\n",
       "      <td>5</td>\n",
       "      <td>0</td>\n",
       "      <td>3</td>\n",
       "      <td>Allen, Mr. William Henry</td>\n",
       "      <td>male</td>\n",
       "      <td>35.0</td>\n",
       "      <td>0</td>\n",
       "      <td>0</td>\n",
       "      <td>373450</td>\n",
       "      <td>8.0500</td>\n",
       "      <td>NaN</td>\n",
       "      <td>S</td>\n",
       "    </tr>\n",
       "    <tr>\n",
       "      <th>...</th>\n",
       "      <td>...</td>\n",
       "      <td>...</td>\n",
       "      <td>...</td>\n",
       "      <td>...</td>\n",
       "      <td>...</td>\n",
       "      <td>...</td>\n",
       "      <td>...</td>\n",
       "      <td>...</td>\n",
       "      <td>...</td>\n",
       "      <td>...</td>\n",
       "      <td>...</td>\n",
       "      <td>...</td>\n",
       "    </tr>\n",
       "    <tr>\n",
       "      <th>886</th>\n",
       "      <td>887</td>\n",
       "      <td>0</td>\n",
       "      <td>2</td>\n",
       "      <td>Montvila, Rev. Juozas</td>\n",
       "      <td>male</td>\n",
       "      <td>27.0</td>\n",
       "      <td>0</td>\n",
       "      <td>0</td>\n",
       "      <td>211536</td>\n",
       "      <td>13.0000</td>\n",
       "      <td>NaN</td>\n",
       "      <td>S</td>\n",
       "    </tr>\n",
       "    <tr>\n",
       "      <th>887</th>\n",
       "      <td>888</td>\n",
       "      <td>1</td>\n",
       "      <td>1</td>\n",
       "      <td>Graham, Miss. Margaret Edith</td>\n",
       "      <td>female</td>\n",
       "      <td>19.0</td>\n",
       "      <td>0</td>\n",
       "      <td>0</td>\n",
       "      <td>112053</td>\n",
       "      <td>30.0000</td>\n",
       "      <td>B42</td>\n",
       "      <td>S</td>\n",
       "    </tr>\n",
       "    <tr>\n",
       "      <th>888</th>\n",
       "      <td>889</td>\n",
       "      <td>0</td>\n",
       "      <td>3</td>\n",
       "      <td>Johnston, Miss. Catherine Helen \"Carrie\"</td>\n",
       "      <td>female</td>\n",
       "      <td>NaN</td>\n",
       "      <td>1</td>\n",
       "      <td>2</td>\n",
       "      <td>W./C. 6607</td>\n",
       "      <td>23.4500</td>\n",
       "      <td>NaN</td>\n",
       "      <td>S</td>\n",
       "    </tr>\n",
       "    <tr>\n",
       "      <th>889</th>\n",
       "      <td>890</td>\n",
       "      <td>1</td>\n",
       "      <td>1</td>\n",
       "      <td>Behr, Mr. Karl Howell</td>\n",
       "      <td>male</td>\n",
       "      <td>26.0</td>\n",
       "      <td>0</td>\n",
       "      <td>0</td>\n",
       "      <td>111369</td>\n",
       "      <td>30.0000</td>\n",
       "      <td>C148</td>\n",
       "      <td>C</td>\n",
       "    </tr>\n",
       "    <tr>\n",
       "      <th>890</th>\n",
       "      <td>891</td>\n",
       "      <td>0</td>\n",
       "      <td>3</td>\n",
       "      <td>Dooley, Mr. Patrick</td>\n",
       "      <td>male</td>\n",
       "      <td>32.0</td>\n",
       "      <td>0</td>\n",
       "      <td>0</td>\n",
       "      <td>370376</td>\n",
       "      <td>7.7500</td>\n",
       "      <td>NaN</td>\n",
       "      <td>Q</td>\n",
       "    </tr>\n",
       "  </tbody>\n",
       "</table>\n",
       "<p>891 rows × 12 columns</p>\n",
       "</div>"
      ],
      "text/plain": [
       "     PassengerId  Survived  Pclass  \\\n",
       "0              1         0       3   \n",
       "1              2         1       1   \n",
       "2              3         1       3   \n",
       "3              4         1       1   \n",
       "4              5         0       3   \n",
       "..           ...       ...     ...   \n",
       "886          887         0       2   \n",
       "887          888         1       1   \n",
       "888          889         0       3   \n",
       "889          890         1       1   \n",
       "890          891         0       3   \n",
       "\n",
       "                                                  Name     Sex   Age  SibSp  \\\n",
       "0                              Braund, Mr. Owen Harris    male  22.0      1   \n",
       "1    Cumings, Mrs. John Bradley (Florence Briggs Th...  female  38.0      1   \n",
       "2                               Heikkinen, Miss. Laina  female  26.0      0   \n",
       "3         Futrelle, Mrs. Jacques Heath (Lily May Peel)  female  35.0      1   \n",
       "4                             Allen, Mr. William Henry    male  35.0      0   \n",
       "..                                                 ...     ...   ...    ...   \n",
       "886                              Montvila, Rev. Juozas    male  27.0      0   \n",
       "887                       Graham, Miss. Margaret Edith  female  19.0      0   \n",
       "888           Johnston, Miss. Catherine Helen \"Carrie\"  female   NaN      1   \n",
       "889                              Behr, Mr. Karl Howell    male  26.0      0   \n",
       "890                                Dooley, Mr. Patrick    male  32.0      0   \n",
       "\n",
       "     Parch            Ticket     Fare Cabin Embarked  \n",
       "0        0         A/5 21171   7.2500   NaN        S  \n",
       "1        0          PC 17599  71.2833   C85        C  \n",
       "2        0  STON/O2. 3101282   7.9250   NaN        S  \n",
       "3        0            113803  53.1000  C123        S  \n",
       "4        0            373450   8.0500   NaN        S  \n",
       "..     ...               ...      ...   ...      ...  \n",
       "886      0            211536  13.0000   NaN        S  \n",
       "887      0            112053  30.0000   B42        S  \n",
       "888      2        W./C. 6607  23.4500   NaN        S  \n",
       "889      0            111369  30.0000  C148        C  \n",
       "890      0            370376   7.7500   NaN        Q  \n",
       "\n",
       "[891 rows x 12 columns]"
      ]
     },
     "execution_count": 2,
     "metadata": {},
     "output_type": "execute_result"
    }
   ],
   "source": [
    "df=pd.read_csv('https://raw.githubusercontent.com/dsrscientist/dataset1/master/titanic_train.csv')\n",
    "df"
   ]
  },
  {
   "cell_type": "code",
   "execution_count": 3,
   "id": "17da3164",
   "metadata": {},
   "outputs": [
    {
     "data": {
      "text/html": [
       "<div>\n",
       "<style scoped>\n",
       "    .dataframe tbody tr th:only-of-type {\n",
       "        vertical-align: middle;\n",
       "    }\n",
       "\n",
       "    .dataframe tbody tr th {\n",
       "        vertical-align: top;\n",
       "    }\n",
       "\n",
       "    .dataframe thead th {\n",
       "        text-align: right;\n",
       "    }\n",
       "</style>\n",
       "<table border=\"1\" class=\"dataframe\">\n",
       "  <thead>\n",
       "    <tr style=\"text-align: right;\">\n",
       "      <th></th>\n",
       "      <th>PassengerId</th>\n",
       "      <th>Survived</th>\n",
       "      <th>Pclass</th>\n",
       "      <th>Name</th>\n",
       "      <th>Sex</th>\n",
       "      <th>Age</th>\n",
       "      <th>SibSp</th>\n",
       "      <th>Parch</th>\n",
       "      <th>Ticket</th>\n",
       "      <th>Fare</th>\n",
       "      <th>Cabin</th>\n",
       "      <th>Embarked</th>\n",
       "    </tr>\n",
       "  </thead>\n",
       "  <tbody>\n",
       "    <tr>\n",
       "      <th>584</th>\n",
       "      <td>585</td>\n",
       "      <td>0</td>\n",
       "      <td>3</td>\n",
       "      <td>Paulner, Mr. Uscher</td>\n",
       "      <td>male</td>\n",
       "      <td>NaN</td>\n",
       "      <td>0</td>\n",
       "      <td>0</td>\n",
       "      <td>3411</td>\n",
       "      <td>8.7125</td>\n",
       "      <td>NaN</td>\n",
       "      <td>C</td>\n",
       "    </tr>\n",
       "    <tr>\n",
       "      <th>257</th>\n",
       "      <td>258</td>\n",
       "      <td>1</td>\n",
       "      <td>1</td>\n",
       "      <td>Cherry, Miss. Gladys</td>\n",
       "      <td>female</td>\n",
       "      <td>30.0</td>\n",
       "      <td>0</td>\n",
       "      <td>0</td>\n",
       "      <td>110152</td>\n",
       "      <td>86.5000</td>\n",
       "      <td>B77</td>\n",
       "      <td>S</td>\n",
       "    </tr>\n",
       "    <tr>\n",
       "      <th>649</th>\n",
       "      <td>650</td>\n",
       "      <td>1</td>\n",
       "      <td>3</td>\n",
       "      <td>Stanley, Miss. Amy Zillah Elsie</td>\n",
       "      <td>female</td>\n",
       "      <td>23.0</td>\n",
       "      <td>0</td>\n",
       "      <td>0</td>\n",
       "      <td>CA. 2314</td>\n",
       "      <td>7.5500</td>\n",
       "      <td>NaN</td>\n",
       "      <td>S</td>\n",
       "    </tr>\n",
       "    <tr>\n",
       "      <th>589</th>\n",
       "      <td>590</td>\n",
       "      <td>0</td>\n",
       "      <td>3</td>\n",
       "      <td>Murdlin, Mr. Joseph</td>\n",
       "      <td>male</td>\n",
       "      <td>NaN</td>\n",
       "      <td>0</td>\n",
       "      <td>0</td>\n",
       "      <td>A./5. 3235</td>\n",
       "      <td>8.0500</td>\n",
       "      <td>NaN</td>\n",
       "      <td>S</td>\n",
       "    </tr>\n",
       "    <tr>\n",
       "      <th>328</th>\n",
       "      <td>329</td>\n",
       "      <td>1</td>\n",
       "      <td>3</td>\n",
       "      <td>Goldsmith, Mrs. Frank John (Emily Alice Brown)</td>\n",
       "      <td>female</td>\n",
       "      <td>31.0</td>\n",
       "      <td>1</td>\n",
       "      <td>1</td>\n",
       "      <td>363291</td>\n",
       "      <td>20.5250</td>\n",
       "      <td>NaN</td>\n",
       "      <td>S</td>\n",
       "    </tr>\n",
       "    <tr>\n",
       "      <th>533</th>\n",
       "      <td>534</td>\n",
       "      <td>1</td>\n",
       "      <td>3</td>\n",
       "      <td>Peter, Mrs. Catherine (Catherine Rizk)</td>\n",
       "      <td>female</td>\n",
       "      <td>NaN</td>\n",
       "      <td>0</td>\n",
       "      <td>2</td>\n",
       "      <td>2668</td>\n",
       "      <td>22.3583</td>\n",
       "      <td>NaN</td>\n",
       "      <td>C</td>\n",
       "    </tr>\n",
       "    <tr>\n",
       "      <th>226</th>\n",
       "      <td>227</td>\n",
       "      <td>1</td>\n",
       "      <td>2</td>\n",
       "      <td>Mellors, Mr. William John</td>\n",
       "      <td>male</td>\n",
       "      <td>19.0</td>\n",
       "      <td>0</td>\n",
       "      <td>0</td>\n",
       "      <td>SW/PP 751</td>\n",
       "      <td>10.5000</td>\n",
       "      <td>NaN</td>\n",
       "      <td>S</td>\n",
       "    </tr>\n",
       "    <tr>\n",
       "      <th>119</th>\n",
       "      <td>120</td>\n",
       "      <td>0</td>\n",
       "      <td>3</td>\n",
       "      <td>Andersson, Miss. Ellis Anna Maria</td>\n",
       "      <td>female</td>\n",
       "      <td>2.0</td>\n",
       "      <td>4</td>\n",
       "      <td>2</td>\n",
       "      <td>347082</td>\n",
       "      <td>31.2750</td>\n",
       "      <td>NaN</td>\n",
       "      <td>S</td>\n",
       "    </tr>\n",
       "    <tr>\n",
       "      <th>451</th>\n",
       "      <td>452</td>\n",
       "      <td>0</td>\n",
       "      <td>3</td>\n",
       "      <td>Hagland, Mr. Ingvald Olai Olsen</td>\n",
       "      <td>male</td>\n",
       "      <td>NaN</td>\n",
       "      <td>1</td>\n",
       "      <td>0</td>\n",
       "      <td>65303</td>\n",
       "      <td>19.9667</td>\n",
       "      <td>NaN</td>\n",
       "      <td>S</td>\n",
       "    </tr>\n",
       "    <tr>\n",
       "      <th>815</th>\n",
       "      <td>816</td>\n",
       "      <td>0</td>\n",
       "      <td>1</td>\n",
       "      <td>Fry, Mr. Richard</td>\n",
       "      <td>male</td>\n",
       "      <td>NaN</td>\n",
       "      <td>0</td>\n",
       "      <td>0</td>\n",
       "      <td>112058</td>\n",
       "      <td>0.0000</td>\n",
       "      <td>B102</td>\n",
       "      <td>S</td>\n",
       "    </tr>\n",
       "  </tbody>\n",
       "</table>\n",
       "</div>"
      ],
      "text/plain": [
       "     PassengerId  Survived  Pclass  \\\n",
       "584          585         0       3   \n",
       "257          258         1       1   \n",
       "649          650         1       3   \n",
       "589          590         0       3   \n",
       "328          329         1       3   \n",
       "533          534         1       3   \n",
       "226          227         1       2   \n",
       "119          120         0       3   \n",
       "451          452         0       3   \n",
       "815          816         0       1   \n",
       "\n",
       "                                               Name     Sex   Age  SibSp  \\\n",
       "584                             Paulner, Mr. Uscher    male   NaN      0   \n",
       "257                            Cherry, Miss. Gladys  female  30.0      0   \n",
       "649                 Stanley, Miss. Amy Zillah Elsie  female  23.0      0   \n",
       "589                             Murdlin, Mr. Joseph    male   NaN      0   \n",
       "328  Goldsmith, Mrs. Frank John (Emily Alice Brown)  female  31.0      1   \n",
       "533          Peter, Mrs. Catherine (Catherine Rizk)  female   NaN      0   \n",
       "226                       Mellors, Mr. William John    male  19.0      0   \n",
       "119               Andersson, Miss. Ellis Anna Maria  female   2.0      4   \n",
       "451                 Hagland, Mr. Ingvald Olai Olsen    male   NaN      1   \n",
       "815                                Fry, Mr. Richard    male   NaN      0   \n",
       "\n",
       "     Parch      Ticket     Fare Cabin Embarked  \n",
       "584      0        3411   8.7125   NaN        C  \n",
       "257      0      110152  86.5000   B77        S  \n",
       "649      0    CA. 2314   7.5500   NaN        S  \n",
       "589      0  A./5. 3235   8.0500   NaN        S  \n",
       "328      1      363291  20.5250   NaN        S  \n",
       "533      2        2668  22.3583   NaN        C  \n",
       "226      0   SW/PP 751  10.5000   NaN        S  \n",
       "119      2      347082  31.2750   NaN        S  \n",
       "451      0       65303  19.9667   NaN        S  \n",
       "815      0      112058   0.0000  B102        S  "
      ]
     },
     "execution_count": 3,
     "metadata": {},
     "output_type": "execute_result"
    }
   ],
   "source": [
    "df.sample(10)"
   ]
  },
  {
   "cell_type": "code",
   "execution_count": 4,
   "id": "8aba3c1d",
   "metadata": {},
   "outputs": [
    {
     "data": {
      "text/plain": [
       "PassengerId      int64\n",
       "Survived         int64\n",
       "Pclass           int64\n",
       "Name            object\n",
       "Sex             object\n",
       "Age            float64\n",
       "SibSp            int64\n",
       "Parch            int64\n",
       "Ticket          object\n",
       "Fare           float64\n",
       "Cabin           object\n",
       "Embarked        object\n",
       "dtype: object"
      ]
     },
     "execution_count": 4,
     "metadata": {},
     "output_type": "execute_result"
    }
   ],
   "source": [
    "# Checking type of the columns\n",
    "df.dtypes"
   ]
  },
  {
   "cell_type": "markdown",
   "id": "b6109648",
   "metadata": {},
   "source": [
    "**observation**\n",
    "1. Survived is the target column\n",
    "2. name, sex, Ticket and embark are categorical columns\n",
    "3. in cabin there is alphanumeric values are present but type of this column is object\n",
    "4. the cabin column need to be treated or dropped"
   ]
  },
  {
   "cell_type": "code",
   "execution_count": 5,
   "id": "d757f179",
   "metadata": {},
   "outputs": [
    {
     "data": {
      "text/plain": [
       "count        891\n",
       "unique       681\n",
       "top       347082\n",
       "freq           7\n",
       "Name: Ticket, dtype: object"
      ]
     },
     "execution_count": 5,
     "metadata": {},
     "output_type": "execute_result"
    }
   ],
   "source": [
    "# Checking for univariate analysis\n",
    "df['Ticket'].describe()"
   ]
  },
  {
   "cell_type": "code",
   "execution_count": 6,
   "id": "bee27c64",
   "metadata": {},
   "outputs": [
    {
     "data": {
      "text/plain": [
       "count         204\n",
       "unique        147\n",
       "top       B96 B98\n",
       "freq            4\n",
       "Name: Cabin, dtype: object"
      ]
     },
     "execution_count": 6,
     "metadata": {},
     "output_type": "execute_result"
    }
   ],
   "source": [
    "# Checking for unique values and null data seen in sample method \n",
    "df['Cabin'].describe()"
   ]
  },
  {
   "cell_type": "code",
   "execution_count": 7,
   "id": "8569bc63",
   "metadata": {},
   "outputs": [
    {
     "data": {
      "text/plain": [
       "PassengerId      0\n",
       "Survived         0\n",
       "Pclass           0\n",
       "Name             0\n",
       "Sex              0\n",
       "Age            177\n",
       "SibSp            0\n",
       "Parch            0\n",
       "Ticket           0\n",
       "Fare             0\n",
       "Cabin          687\n",
       "Embarked         2\n",
       "dtype: int64"
      ]
     },
     "execution_count": 7,
     "metadata": {},
     "output_type": "execute_result"
    }
   ],
   "source": [
    "# Checking for null values\n",
    "df.isnull().sum()"
   ]
  },
  {
   "cell_type": "code",
   "execution_count": 8,
   "id": "8949b204",
   "metadata": {},
   "outputs": [
    {
     "data": {
      "text/plain": [
       "<AxesSubplot:>"
      ]
     },
     "execution_count": 8,
     "metadata": {},
     "output_type": "execute_result"
    },
    {
     "data": {
      "image/png": "[encoded data removed]",
      "text/plain": [
       "<Figure size 432x288 with 2 Axes>"
      ]
     },
     "metadata": {
      "needs_background": "light"
     },
     "output_type": "display_data"
    }
   ],
   "source": [
    "# plotting null values from heat map\n",
    "sns.heatmap(df.isnull())"
   ]
  },
  {
   "cell_type": "markdown",
   "id": "7e7317fc",
   "metadata": {},
   "source": [
    "**Observations**\n",
    "1. This dataset is 12 columns and out of these the column named Survived is the target.\n",
    "2. the dataset is having passenger id and ticket no. and Name columns may not add any information in prediction hence may be dropped\n",
    "3. As it is seen from describe on ticket column unique no. are 681 from 891 max frequency is 7, so it is advisable to drop that column \n",
    "4. It is seen that many nan values are there in cabin, 687 nan values are there then it is to be dropped from data.\n",
    "5. There are 177 null values in age can be fill with mean age as this is a continuous column\n",
    "6. There are 2 nan values in embarked can be filled with mode as this column is categorical values\n"
   ]
  },
  {
   "cell_type": "code",
   "execution_count": 9,
   "id": "d18be7c2",
   "metadata": {},
   "outputs": [
    {
     "data": {
      "text/html": [
       "<div>\n",
       "<style scoped>\n",
       "    .dataframe tbody tr th:only-of-type {\n",
       "        vertical-align: middle;\n",
       "    }\n",
       "\n",
       "    .dataframe tbody tr th {\n",
       "        vertical-align: top;\n",
       "    }\n",
       "\n",
       "    .dataframe thead th {\n",
       "        text-align: right;\n",
       "    }\n",
       "</style>\n",
       "<table border=\"1\" class=\"dataframe\">\n",
       "  <thead>\n",
       "    <tr style=\"text-align: right;\">\n",
       "      <th></th>\n",
       "      <th>PassengerId</th>\n",
       "      <th>Survived</th>\n",
       "      <th>Pclass</th>\n",
       "      <th>Age</th>\n",
       "      <th>SibSp</th>\n",
       "      <th>Parch</th>\n",
       "      <th>Fare</th>\n",
       "    </tr>\n",
       "  </thead>\n",
       "  <tbody>\n",
       "    <tr>\n",
       "      <th>count</th>\n",
       "      <td>891.000000</td>\n",
       "      <td>891.000000</td>\n",
       "      <td>891.000000</td>\n",
       "      <td>714.000000</td>\n",
       "      <td>891.000000</td>\n",
       "      <td>891.000000</td>\n",
       "      <td>891.000000</td>\n",
       "    </tr>\n",
       "    <tr>\n",
       "      <th>mean</th>\n",
       "      <td>446.000000</td>\n",
       "      <td>0.383838</td>\n",
       "      <td>2.308642</td>\n",
       "      <td>29.699118</td>\n",
       "      <td>0.523008</td>\n",
       "      <td>0.381594</td>\n",
       "      <td>32.204208</td>\n",
       "    </tr>\n",
       "    <tr>\n",
       "      <th>std</th>\n",
       "      <td>257.353842</td>\n",
       "      <td>0.486592</td>\n",
       "      <td>0.836071</td>\n",
       "      <td>14.526497</td>\n",
       "      <td>1.102743</td>\n",
       "      <td>0.806057</td>\n",
       "      <td>49.693429</td>\n",
       "    </tr>\n",
       "    <tr>\n",
       "      <th>min</th>\n",
       "      <td>1.000000</td>\n",
       "      <td>0.000000</td>\n",
       "      <td>1.000000</td>\n",
       "      <td>0.420000</td>\n",
       "      <td>0.000000</td>\n",
       "      <td>0.000000</td>\n",
       "      <td>0.000000</td>\n",
       "    </tr>\n",
       "    <tr>\n",
       "      <th>25%</th>\n",
       "      <td>223.500000</td>\n",
       "      <td>0.000000</td>\n",
       "      <td>2.000000</td>\n",
       "      <td>20.125000</td>\n",
       "      <td>0.000000</td>\n",
       "      <td>0.000000</td>\n",
       "      <td>7.910400</td>\n",
       "    </tr>\n",
       "    <tr>\n",
       "      <th>50%</th>\n",
       "      <td>446.000000</td>\n",
       "      <td>0.000000</td>\n",
       "      <td>3.000000</td>\n",
       "      <td>28.000000</td>\n",
       "      <td>0.000000</td>\n",
       "      <td>0.000000</td>\n",
       "      <td>14.454200</td>\n",
       "    </tr>\n",
       "    <tr>\n",
       "      <th>75%</th>\n",
       "      <td>668.500000</td>\n",
       "      <td>1.000000</td>\n",
       "      <td>3.000000</td>\n",
       "      <td>38.000000</td>\n",
       "      <td>1.000000</td>\n",
       "      <td>0.000000</td>\n",
       "      <td>31.000000</td>\n",
       "    </tr>\n",
       "    <tr>\n",
       "      <th>max</th>\n",
       "      <td>891.000000</td>\n",
       "      <td>1.000000</td>\n",
       "      <td>3.000000</td>\n",
       "      <td>80.000000</td>\n",
       "      <td>8.000000</td>\n",
       "      <td>6.000000</td>\n",
       "      <td>512.329200</td>\n",
       "    </tr>\n",
       "  </tbody>\n",
       "</table>\n",
       "</div>"
      ],
      "text/plain": [
       "       PassengerId    Survived      Pclass         Age       SibSp  \\\n",
       "count   891.000000  891.000000  891.000000  714.000000  891.000000   \n",
       "mean    446.000000    0.383838    2.308642   29.699118    0.523008   \n",
       "std     257.353842    0.486592    0.836071   14.526497    1.102743   \n",
       "min       1.000000    0.000000    1.000000    0.420000    0.000000   \n",
       "25%     223.500000    0.000000    2.000000   20.125000    0.000000   \n",
       "50%     446.000000    0.000000    3.000000   28.000000    0.000000   \n",
       "75%     668.500000    1.000000    3.000000   38.000000    1.000000   \n",
       "max     891.000000    1.000000    3.000000   80.000000    8.000000   \n",
       "\n",
       "            Parch        Fare  \n",
       "count  891.000000  891.000000  \n",
       "mean     0.381594   32.204208  \n",
       "std      0.806057   49.693429  \n",
       "min      0.000000    0.000000  \n",
       "25%      0.000000    7.910400  \n",
       "50%      0.000000   14.454200  \n",
       "75%      0.000000   31.000000  \n",
       "max      6.000000  512.329200  "
      ]
     },
     "execution_count": 9,
     "metadata": {},
     "output_type": "execute_result"
    }
   ],
   "source": [
    "# checking central tendancy of data\n",
    "df.describe()"
   ]
  },
  {
   "cell_type": "markdown",
   "id": "405a0ae4",
   "metadata": {},
   "source": [
    "**Observation**\n",
    "1. the survived column is showing mean as 38.38% rate of survival from this dataset\n",
    "2. Age starts from 0.4 to 80 years old category with some outliers\n",
    "3. fare column is also having some outliers because of high rate of ticket for may be first class people but our model has to learn that so cannot be dropped.\n",
    "4. Sibsp and parch are the no. of relatives of that particular person should be kept\n"
   ]
  },
  {
   "cell_type": "markdown",
   "id": "7b83c734",
   "metadata": {},
   "source": [
    "# EDA"
   ]
  },
  {
   "cell_type": "code",
   "execution_count": 10,
   "id": "dd71077a",
   "metadata": {},
   "outputs": [
    {
     "data": {
      "text/plain": [
       "<AxesSubplot:xlabel='Age', ylabel='Count'>"
      ]
     },
     "execution_count": 10,
     "metadata": {},
     "output_type": "execute_result"
    },
    {
     "data": {
      "image/png": "[encoded data removed]",
      "text/plain": [
       "<Figure size 432x288 with 1 Axes>"
      ]
     },
     "metadata": {
      "needs_background": "light"
     },
     "output_type": "display_data"
    }
   ],
   "source": [
    "# plotting age and with survied column\n",
    "sns.histplot(data=df, x=\"Age\", hue=\"Survived\", multiple=\"stack\")"
   ]
  },
  {
   "cell_type": "markdown",
   "id": "42eb20d6",
   "metadata": {},
   "source": [
    "It is seen that from this age plot against the survival rate is higher in age group 20 to 40"
   ]
  },
  {
   "cell_type": "code",
   "execution_count": 11,
   "id": "08ebcbcf",
   "metadata": {},
   "outputs": [
    {
     "data": {
      "text/plain": [
       "<AxesSubplot:xlabel='Sex', ylabel='Count'>"
      ]
     },
     "execution_count": 11,
     "metadata": {},
     "output_type": "execute_result"
    },
    {
     "data": {
      "image/png": "[encoded data removed]",
      "text/plain": [
       "<Figure size 432x288 with 1 Axes>"
      ]
     },
     "metadata": {
      "needs_background": "light"
     },
     "output_type": "display_data"
    }
   ],
   "source": [
    "# plotting sex and with survied column\n",
    "sns.histplot(data=df, x=\"Sex\", hue=\"Survived\", multiple=\"stack\")"
   ]
  },
  {
   "cell_type": "markdown",
   "id": "ecec817e",
   "metadata": {},
   "source": [
    "It is clear from the graph that the womens are survived more than the mens"
   ]
  },
  {
   "cell_type": "code",
   "execution_count": 12,
   "id": "2227a2e7",
   "metadata": {},
   "outputs": [
    {
     "data": {
      "text/plain": [
       "0    549\n",
       "1    342\n",
       "Name: Survived, dtype: int64"
      ]
     },
     "execution_count": 12,
     "metadata": {},
     "output_type": "execute_result"
    },
    {
     "data": {
      "image/png": "[encoded data removed]",
      "text/plain": [
       "<Figure size 432x288 with 1 Axes>"
      ]
     },
     "metadata": {
      "needs_background": "light"
     },
     "output_type": "display_data"
    }
   ],
   "source": [
    "sns.countplot(df['Survived'])\n",
    "df['Survived'].value_counts()"
   ]
  },
  {
   "cell_type": "markdown",
   "id": "74c945a6",
   "metadata": {},
   "source": [
    "549 are dead in the vent and 342 survived out of this dataset"
   ]
  },
  {
   "cell_type": "code",
   "execution_count": 13,
   "id": "f9c6b68e",
   "metadata": {},
   "outputs": [
    {
     "data": {
      "text/plain": [
       "<AxesSubplot:xlabel='Pclass', ylabel='Count'>"
      ]
     },
     "execution_count": 13,
     "metadata": {},
     "output_type": "execute_result"
    },
    {
     "data": {
      "image/png": "[encoded data removed]",
      "text/plain": [
       "<Figure size 432x288 with 1 Axes>"
      ]
     },
     "metadata": {
      "needs_background": "light"
     },
     "output_type": "display_data"
    }
   ],
   "source": [
    "# plotting Pclass and with survied column\n",
    "sns.histplot(data=df, x=\"Pclass\", hue=\"Survived\",multiple=\"stack\")"
   ]
  },
  {
   "cell_type": "markdown",
   "id": "0adb585c",
   "metadata": {},
   "source": [
    "the people from 1st class passengers are more than others"
   ]
  },
  {
   "cell_type": "code",
   "execution_count": 14,
   "id": "071dc811",
   "metadata": {},
   "outputs": [
    {
     "data": {
      "text/plain": [
       "<AxesSubplot:xlabel='SibSp', ylabel='Count'>"
      ]
     },
     "execution_count": 14,
     "metadata": {},
     "output_type": "execute_result"
    },
    {
     "data": {
      "image/png": "[encoded data removed]",
      "text/plain": [
       "<Figure size 432x288 with 1 Axes>"
      ]
     },
     "metadata": {
      "needs_background": "light"
     },
     "output_type": "display_data"
    }
   ],
   "source": [
    "# plotting Pclass and with survied column\n",
    "sns.histplot(data=df, x=\"SibSp\", hue=\"Survived\", multiple=\"stack\")"
   ]
  },
  {
   "cell_type": "markdown",
   "id": "836983a8",
   "metadata": {},
   "source": [
    "it is seen from graph sibsp (siblings and spouses aboard the titatnic) having 1 to 2 and very rarely 3 are survived"
   ]
  },
  {
   "cell_type": "code",
   "execution_count": 15,
   "id": "8be55074",
   "metadata": {},
   "outputs": [
    {
     "data": {
      "text/plain": [
       "<AxesSubplot:xlabel='Parch', ylabel='Count'>"
      ]
     },
     "execution_count": 15,
     "metadata": {},
     "output_type": "execute_result"
    },
    {
     "data": {
      "image/png": "[encoded data removed]",
      "text/plain": [
       "<Figure size 432x288 with 1 Axes>"
      ]
     },
     "metadata": {
      "needs_background": "light"
     },
     "output_type": "display_data"
    }
   ],
   "source": [
    "# plotting Pclass and with survied column\n",
    "sns.histplot(data=df, x=\"Parch\", hue=\"Survived\", multiple=\"stack\")"
   ]
  },
  {
   "cell_type": "markdown",
   "id": "4930ff13",
   "metadata": {},
   "source": [
    "the parents and children having less no. (i.e. 1 to 2) are survived"
   ]
  },
  {
   "cell_type": "code",
   "execution_count": 16,
   "id": "697811a6",
   "metadata": {},
   "outputs": [
    {
     "data": {
      "text/plain": [
       "<AxesSubplot:xlabel='Embarked', ylabel='Count'>"
      ]
     },
     "execution_count": 16,
     "metadata": {},
     "output_type": "execute_result"
    },
    {
     "data": {
      "image/png": "[encoded data removed]",
      "text/plain": [
       "<Figure size 432x288 with 1 Axes>"
      ]
     },
     "metadata": {
      "needs_background": "light"
     },
     "output_type": "display_data"
    }
   ],
   "source": [
    "# plotting Pclass and with survied column\n",
    "sns.histplot(data=df, x=\"Embarked\", hue=\"Survived\", multiple=\"stack\")"
   ]
  },
  {
   "cell_type": "markdown",
   "id": "b1338bec",
   "metadata": {},
   "source": [
    "the city embarked s and c are having more survival rate"
   ]
  },
  {
   "cell_type": "code",
   "execution_count": 17,
   "id": "70098763",
   "metadata": {},
   "outputs": [
    {
     "data": {
      "text/plain": [
       "<AxesSubplot:xlabel='Pclass', ylabel='Survived'>"
      ]
     },
     "execution_count": 17,
     "metadata": {},
     "output_type": "execute_result"
    },
    {
     "data": {
      "image/png": "[encoded data removed]",
      "text/plain": [
       "<Figure size 432x288 with 1 Axes>"
      ]
     },
     "metadata": {
      "needs_background": "light"
     },
     "output_type": "display_data"
    }
   ],
   "source": [
    "sns.barplot(x='Pclass', y='Survived', data=df)"
   ]
  },
  {
   "cell_type": "markdown",
   "id": "1435b639",
   "metadata": {},
   "source": [
    "Chances of survival is more in 1st class people"
   ]
  },
  {
   "cell_type": "code",
   "execution_count": 18,
   "id": "a93de2a6",
   "metadata": {},
   "outputs": [
    {
     "data": {
      "text/plain": [
       "<AxesSubplot:xlabel='SibSp', ylabel='Survived'>"
      ]
     },
     "execution_count": 18,
     "metadata": {},
     "output_type": "execute_result"
    },
    {
     "data": {
      "image/png": "[encoded data removed]",
      "text/plain": [
       "<Figure size 432x288 with 1 Axes>"
      ]
     },
     "metadata": {
      "needs_background": "light"
     },
     "output_type": "display_data"
    }
   ],
   "source": [
    "sns.barplot(x='SibSp', y='Survived', data=df)"
   ]
  },
  {
   "cell_type": "markdown",
   "id": "99cd69c8",
   "metadata": {},
   "source": [
    "the sibling parents and children having less no. (i.e. 1 to 2) are survived"
   ]
  },
  {
   "cell_type": "code",
   "execution_count": 19,
   "id": "ab41f049",
   "metadata": {},
   "outputs": [
    {
     "data": {
      "text/plain": [
       "<AxesSubplot:xlabel='Parch', ylabel='Survived'>"
      ]
     },
     "execution_count": 19,
     "metadata": {},
     "output_type": "execute_result"
    },
    {
     "data": {
      "image/png": "[encoded data removed]",
      "text/plain": [
       "<Figure size 432x288 with 1 Axes>"
      ]
     },
     "metadata": {
      "needs_background": "light"
     },
     "output_type": "display_data"
    }
   ],
   "source": [
    "sns.barplot(x='Parch', y='Survived', data=df)"
   ]
  },
  {
   "cell_type": "markdown",
   "id": "f89dfdd8",
   "metadata": {},
   "source": [
    "the parents and children having less no. (i.e. 1 to 3) are survived"
   ]
  },
  {
   "cell_type": "code",
   "execution_count": 20,
   "id": "73cd70b8",
   "metadata": {},
   "outputs": [
    {
     "data": {
      "text/html": [
       "<div>\n",
       "<style scoped>\n",
       "    .dataframe tbody tr th:only-of-type {\n",
       "        vertical-align: middle;\n",
       "    }\n",
       "\n",
       "    .dataframe tbody tr th {\n",
       "        vertical-align: top;\n",
       "    }\n",
       "\n",
       "    .dataframe thead th {\n",
       "        text-align: right;\n",
       "    }\n",
       "</style>\n",
       "<table border=\"1\" class=\"dataframe\">\n",
       "  <thead>\n",
       "    <tr style=\"text-align: right;\">\n",
       "      <th></th>\n",
       "      <th>PassengerId</th>\n",
       "      <th>Survived</th>\n",
       "      <th>Pclass</th>\n",
       "      <th>Age</th>\n",
       "      <th>SibSp</th>\n",
       "      <th>Parch</th>\n",
       "      <th>Fare</th>\n",
       "    </tr>\n",
       "  </thead>\n",
       "  <tbody>\n",
       "    <tr>\n",
       "      <th>PassengerId</th>\n",
       "      <td>1.000000</td>\n",
       "      <td>-0.005007</td>\n",
       "      <td>-0.035144</td>\n",
       "      <td>0.036847</td>\n",
       "      <td>-0.057527</td>\n",
       "      <td>-0.001652</td>\n",
       "      <td>0.012658</td>\n",
       "    </tr>\n",
       "    <tr>\n",
       "      <th>Survived</th>\n",
       "      <td>-0.005007</td>\n",
       "      <td>1.000000</td>\n",
       "      <td>-0.338481</td>\n",
       "      <td>-0.077221</td>\n",
       "      <td>-0.035322</td>\n",
       "      <td>0.081629</td>\n",
       "      <td>0.257307</td>\n",
       "    </tr>\n",
       "    <tr>\n",
       "      <th>Pclass</th>\n",
       "      <td>-0.035144</td>\n",
       "      <td>-0.338481</td>\n",
       "      <td>1.000000</td>\n",
       "      <td>-0.369226</td>\n",
       "      <td>0.083081</td>\n",
       "      <td>0.018443</td>\n",
       "      <td>-0.549500</td>\n",
       "    </tr>\n",
       "    <tr>\n",
       "      <th>Age</th>\n",
       "      <td>0.036847</td>\n",
       "      <td>-0.077221</td>\n",
       "      <td>-0.369226</td>\n",
       "      <td>1.000000</td>\n",
       "      <td>-0.308247</td>\n",
       "      <td>-0.189119</td>\n",
       "      <td>0.096067</td>\n",
       "    </tr>\n",
       "    <tr>\n",
       "      <th>SibSp</th>\n",
       "      <td>-0.057527</td>\n",
       "      <td>-0.035322</td>\n",
       "      <td>0.083081</td>\n",
       "      <td>-0.308247</td>\n",
       "      <td>1.000000</td>\n",
       "      <td>0.414838</td>\n",
       "      <td>0.159651</td>\n",
       "    </tr>\n",
       "    <tr>\n",
       "      <th>Parch</th>\n",
       "      <td>-0.001652</td>\n",
       "      <td>0.081629</td>\n",
       "      <td>0.018443</td>\n",
       "      <td>-0.189119</td>\n",
       "      <td>0.414838</td>\n",
       "      <td>1.000000</td>\n",
       "      <td>0.216225</td>\n",
       "    </tr>\n",
       "    <tr>\n",
       "      <th>Fare</th>\n",
       "      <td>0.012658</td>\n",
       "      <td>0.257307</td>\n",
       "      <td>-0.549500</td>\n",
       "      <td>0.096067</td>\n",
       "      <td>0.159651</td>\n",
       "      <td>0.216225</td>\n",
       "      <td>1.000000</td>\n",
       "    </tr>\n",
       "  </tbody>\n",
       "</table>\n",
       "</div>"
      ],
      "text/plain": [
       "             PassengerId  Survived    Pclass       Age     SibSp     Parch  \\\n",
       "PassengerId     1.000000 -0.005007 -0.035144  0.036847 -0.057527 -0.001652   \n",
       "Survived       -0.005007  1.000000 -0.338481 -0.077221 -0.035322  0.081629   \n",
       "Pclass         -0.035144 -0.338481  1.000000 -0.369226  0.083081  0.018443   \n",
       "Age             0.036847 -0.077221 -0.369226  1.000000 -0.308247 -0.189119   \n",
       "SibSp          -0.057527 -0.035322  0.083081 -0.308247  1.000000  0.414838   \n",
       "Parch          -0.001652  0.081629  0.018443 -0.189119  0.414838  1.000000   \n",
       "Fare            0.012658  0.257307 -0.549500  0.096067  0.159651  0.216225   \n",
       "\n",
       "                 Fare  \n",
       "PassengerId  0.012658  \n",
       "Survived     0.257307  \n",
       "Pclass      -0.549500  \n",
       "Age          0.096067  \n",
       "SibSp        0.159651  \n",
       "Parch        0.216225  \n",
       "Fare         1.000000  "
      ]
     },
     "execution_count": 20,
     "metadata": {},
     "output_type": "execute_result"
    }
   ],
   "source": [
    "# Bivariate analysis by doing correlation check\n",
    "df.corr()"
   ]
  },
  {
   "cell_type": "code",
   "execution_count": 21,
   "id": "eb974cd2",
   "metadata": {},
   "outputs": [
    {
     "data": {
      "text/plain": [
       "<AxesSubplot:>"
      ]
     },
     "execution_count": 21,
     "metadata": {},
     "output_type": "execute_result"
    },
    {
     "data": {
      "image/png": "[encoded data removed]",
      "text/plain": [
       "<Figure size 720x432 with 2 Axes>"
      ]
     },
     "metadata": {
      "needs_background": "light"
     },
     "output_type": "display_data"
    }
   ],
   "source": [
    "# Plotting the correlation on heat map\n",
    "plt.figure(figsize=(10,6))\n",
    "sns.heatmap(df.corr(), annot=True, cmap='YlGnBu')"
   ]
  },
  {
   "cell_type": "markdown",
   "id": "e675da50",
   "metadata": {},
   "source": [
    "**No two or more variables are having more then 0.5 correlation, means they are not intercorrelated with each other, so no multicollinearity present** hence we will not deal with multicollinearity."
   ]
  },
  {
   "cell_type": "code",
   "execution_count": 22,
   "id": "704ef08f",
   "metadata": {},
   "outputs": [
    {
     "data": {
      "text/plain": [
       "Survived       1.000000\n",
       "Fare           0.257307\n",
       "Parch          0.081629\n",
       "PassengerId   -0.005007\n",
       "SibSp         -0.035322\n",
       "Age           -0.077221\n",
       "Pclass        -0.338481\n",
       "Name: Survived, dtype: float64"
      ]
     },
     "execution_count": 22,
     "metadata": {},
     "output_type": "execute_result"
    }
   ],
   "source": [
    "# arranging data descending order\n",
    "df_mat=df.corr()\n",
    "df_mat['Survived'].sort_values(ascending=False)"
   ]
  },
  {
   "cell_type": "markdown",
   "id": "7d2f2f62",
   "metadata": {},
   "source": [
    "**observations**\n",
    "1. Fare is positively low correlated 25.75% with Survival rate\n",
    "2. Pclass is negatively low correlated with 33.84%\n",
    "3. other columns are not thatmuch correlated with each other\n",
    "4. pclass and fare is also highly correlated witheach other\n",
    "5. siblingspouse and parentchildren are correlated with each other"
   ]
  },
  {
   "cell_type": "code",
   "execution_count": 23,
   "id": "875227d4",
   "metadata": {},
   "outputs": [
    {
     "data": {
      "text/plain": [
       "<seaborn.axisgrid.PairGrid at 0xda5d4c4a30>"
      ]
     },
     "execution_count": 23,
     "metadata": {},
     "output_type": "execute_result"
    },
    {
     "data": {
      "image/png": "[encoded data removed]",
      "text/plain": [
       "<Figure size 1260x1260 with 56 Axes>"
      ]
     },
     "metadata": {
      "needs_background": "light"
     },
     "output_type": "display_data"
    }
   ],
   "source": [
    "# Multivariate analysis\n",
    "sns.pairplot(df)"
   ]
  },
  {
   "cell_type": "code",
   "execution_count": 24,
   "id": "68376d27",
   "metadata": {},
   "outputs": [
    {
     "data": {
      "text/plain": [
       "array([[<AxesSubplot:ylabel='Density'>, <AxesSubplot:ylabel='Density'>,\n",
       "        <AxesSubplot:ylabel='Density'>],\n",
       "       [<AxesSubplot:ylabel='Density'>, <AxesSubplot:ylabel='Density'>,\n",
       "        <AxesSubplot:ylabel='Density'>],\n",
       "       [<AxesSubplot:ylabel='Density'>, <AxesSubplot:ylabel='Density'>,\n",
       "        <AxesSubplot:ylabel='Density'>],\n",
       "       [<AxesSubplot:ylabel='Density'>, <AxesSubplot:ylabel='Density'>,\n",
       "        <AxesSubplot:ylabel='Density'>],\n",
       "       [<AxesSubplot:ylabel='Density'>, <AxesSubplot:ylabel='Density'>,\n",
       "        <AxesSubplot:ylabel='Density'>],\n",
       "       [<AxesSubplot:ylabel='Density'>, <AxesSubplot:ylabel='Density'>,\n",
       "        <AxesSubplot:ylabel='Density'>]], dtype=object)"
      ]
     },
     "execution_count": 24,
     "metadata": {},
     "output_type": "execute_result"
    },
    {
     "data": {
      "image/png": "[encoded data removed]",
      "text/plain": [
       "<Figure size 1440x1080 with 18 Axes>"
      ]
     },
     "metadata": {
      "needs_background": "light"
     },
     "output_type": "display_data"
    }
   ],
   "source": [
    "# Checking Distribution of the columns\n",
    "df.plot(kind='density', subplots=True, layout=(6,3), sharex=False, legend=True, fontsize=2,figsize=(20,15))"
   ]
  },
  {
   "cell_type": "markdown",
   "id": "11a72ebd",
   "metadata": {},
   "source": [
    "Age, fare, SibSp, Parch are right skewed"
   ]
  },
  {
   "cell_type": "code",
   "execution_count": 25,
   "id": "62ac998f",
   "metadata": {},
   "outputs": [
    {
     "data": {
      "text/plain": [
       "PassengerId    0.000000\n",
       "Survived       0.478523\n",
       "Pclass        -0.630548\n",
       "Age            0.389108\n",
       "SibSp          3.695352\n",
       "Parch          2.749117\n",
       "Fare           4.787317\n",
       "dtype: float64"
      ]
     },
     "execution_count": 25,
     "metadata": {},
     "output_type": "execute_result"
    }
   ],
   "source": [
    "# Checking skewness of the column\n",
    "df.skew()"
   ]
  },
  {
   "cell_type": "markdown",
   "id": "759ce6a1",
   "metadata": {},
   "source": [
    "**SibSp, Parch, Fare are rightskewed maybe having outliers too**"
   ]
  },
  {
   "cell_type": "markdown",
   "id": "a650183f",
   "metadata": {},
   "source": [
    "# Preprocessing the data"
   ]
  },
  {
   "cell_type": "markdown",
   "id": "f3dbf71d",
   "metadata": {},
   "source": [
    "**Dropping columns will not add any value to the model like PassengerId, Name, Ticket and cabin**\n",
    "dropping cabin beacuse (more than 70% values are nan)"
   ]
  },
  {
   "cell_type": "code",
   "execution_count": 26,
   "id": "5efcbc6c",
   "metadata": {},
   "outputs": [],
   "source": [
    "#dropping the columns\n",
    "df=df.drop(['PassengerId','Name','Ticket','Cabin'], axis=1)"
   ]
  },
  {
   "cell_type": "code",
   "execution_count": 27,
   "id": "1d4a6261",
   "metadata": {},
   "outputs": [
    {
     "data": {
      "text/plain": [
       "Survived      int64\n",
       "Pclass        int64\n",
       "Sex          object\n",
       "Age         float64\n",
       "SibSp         int64\n",
       "Parch         int64\n",
       "Fare        float64\n",
       "Embarked     object\n",
       "dtype: object"
      ]
     },
     "execution_count": 27,
     "metadata": {},
     "output_type": "execute_result"
    }
   ],
   "source": [
    "df.dtypes"
   ]
  },
  {
   "cell_type": "markdown",
   "id": "2ada6daa",
   "metadata": {},
   "source": [
    "**Filling the null values**"
   ]
  },
  {
   "cell_type": "code",
   "execution_count": 28,
   "id": "3ef1d2e9",
   "metadata": {},
   "outputs": [],
   "source": [
    "# Filling 177 nan values from age column with mean of it\n",
    "df['Age']=df['Age'].fillna(df['Age'].mean())"
   ]
  },
  {
   "cell_type": "code",
   "execution_count": 29,
   "id": "ded4d69b",
   "metadata": {},
   "outputs": [],
   "source": [
    "# filling 2 embarked values with mode for a categorical value\n",
    "df['Embarked']=df['Embarked'].fillna(df['Embarked'].mode()[0])"
   ]
  },
  {
   "cell_type": "code",
   "execution_count": 30,
   "id": "b6d50dbe",
   "metadata": {},
   "outputs": [
    {
     "data": {
      "text/plain": [
       "Survived    0\n",
       "Pclass      0\n",
       "Sex         0\n",
       "Age         0\n",
       "SibSp       0\n",
       "Parch       0\n",
       "Fare        0\n",
       "Embarked    0\n",
       "dtype: int64"
      ]
     },
     "execution_count": 30,
     "metadata": {},
     "output_type": "execute_result"
    }
   ],
   "source": [
    "#Cheking for null values again\n",
    "df.isnull().sum()"
   ]
  },
  {
   "cell_type": "code",
   "execution_count": 31,
   "id": "9c330cd8",
   "metadata": {},
   "outputs": [
    {
     "data": {
      "text/html": [
       "<div>\n",
       "<style scoped>\n",
       "    .dataframe tbody tr th:only-of-type {\n",
       "        vertical-align: middle;\n",
       "    }\n",
       "\n",
       "    .dataframe tbody tr th {\n",
       "        vertical-align: top;\n",
       "    }\n",
       "\n",
       "    .dataframe thead th {\n",
       "        text-align: right;\n",
       "    }\n",
       "</style>\n",
       "<table border=\"1\" class=\"dataframe\">\n",
       "  <thead>\n",
       "    <tr style=\"text-align: right;\">\n",
       "      <th></th>\n",
       "      <th>Survived</th>\n",
       "      <th>Pclass</th>\n",
       "      <th>Sex</th>\n",
       "      <th>Age</th>\n",
       "      <th>SibSp</th>\n",
       "      <th>Parch</th>\n",
       "      <th>Fare</th>\n",
       "      <th>Embarked</th>\n",
       "    </tr>\n",
       "  </thead>\n",
       "  <tbody>\n",
       "    <tr>\n",
       "      <th>0</th>\n",
       "      <td>0</td>\n",
       "      <td>3</td>\n",
       "      <td>1</td>\n",
       "      <td>22.000000</td>\n",
       "      <td>1</td>\n",
       "      <td>0</td>\n",
       "      <td>7.2500</td>\n",
       "      <td>2</td>\n",
       "    </tr>\n",
       "    <tr>\n",
       "      <th>1</th>\n",
       "      <td>1</td>\n",
       "      <td>1</td>\n",
       "      <td>0</td>\n",
       "      <td>38.000000</td>\n",
       "      <td>1</td>\n",
       "      <td>0</td>\n",
       "      <td>71.2833</td>\n",
       "      <td>0</td>\n",
       "    </tr>\n",
       "    <tr>\n",
       "      <th>2</th>\n",
       "      <td>1</td>\n",
       "      <td>3</td>\n",
       "      <td>0</td>\n",
       "      <td>26.000000</td>\n",
       "      <td>0</td>\n",
       "      <td>0</td>\n",
       "      <td>7.9250</td>\n",
       "      <td>2</td>\n",
       "    </tr>\n",
       "    <tr>\n",
       "      <th>3</th>\n",
       "      <td>1</td>\n",
       "      <td>1</td>\n",
       "      <td>0</td>\n",
       "      <td>35.000000</td>\n",
       "      <td>1</td>\n",
       "      <td>0</td>\n",
       "      <td>53.1000</td>\n",
       "      <td>2</td>\n",
       "    </tr>\n",
       "    <tr>\n",
       "      <th>4</th>\n",
       "      <td>0</td>\n",
       "      <td>3</td>\n",
       "      <td>1</td>\n",
       "      <td>35.000000</td>\n",
       "      <td>0</td>\n",
       "      <td>0</td>\n",
       "      <td>8.0500</td>\n",
       "      <td>2</td>\n",
       "    </tr>\n",
       "    <tr>\n",
       "      <th>...</th>\n",
       "      <td>...</td>\n",
       "      <td>...</td>\n",
       "      <td>...</td>\n",
       "      <td>...</td>\n",
       "      <td>...</td>\n",
       "      <td>...</td>\n",
       "      <td>...</td>\n",
       "      <td>...</td>\n",
       "    </tr>\n",
       "    <tr>\n",
       "      <th>886</th>\n",
       "      <td>0</td>\n",
       "      <td>2</td>\n",
       "      <td>1</td>\n",
       "      <td>27.000000</td>\n",
       "      <td>0</td>\n",
       "      <td>0</td>\n",
       "      <td>13.0000</td>\n",
       "      <td>2</td>\n",
       "    </tr>\n",
       "    <tr>\n",
       "      <th>887</th>\n",
       "      <td>1</td>\n",
       "      <td>1</td>\n",
       "      <td>0</td>\n",
       "      <td>19.000000</td>\n",
       "      <td>0</td>\n",
       "      <td>0</td>\n",
       "      <td>30.0000</td>\n",
       "      <td>2</td>\n",
       "    </tr>\n",
       "    <tr>\n",
       "      <th>888</th>\n",
       "      <td>0</td>\n",
       "      <td>3</td>\n",
       "      <td>0</td>\n",
       "      <td>29.699118</td>\n",
       "      <td>1</td>\n",
       "      <td>2</td>\n",
       "      <td>23.4500</td>\n",
       "      <td>2</td>\n",
       "    </tr>\n",
       "    <tr>\n",
       "      <th>889</th>\n",
       "      <td>1</td>\n",
       "      <td>1</td>\n",
       "      <td>1</td>\n",
       "      <td>26.000000</td>\n",
       "      <td>0</td>\n",
       "      <td>0</td>\n",
       "      <td>30.0000</td>\n",
       "      <td>0</td>\n",
       "    </tr>\n",
       "    <tr>\n",
       "      <th>890</th>\n",
       "      <td>0</td>\n",
       "      <td>3</td>\n",
       "      <td>1</td>\n",
       "      <td>32.000000</td>\n",
       "      <td>0</td>\n",
       "      <td>0</td>\n",
       "      <td>7.7500</td>\n",
       "      <td>1</td>\n",
       "    </tr>\n",
       "  </tbody>\n",
       "</table>\n",
       "<p>891 rows × 8 columns</p>\n",
       "</div>"
      ],
      "text/plain": [
       "     Survived  Pclass  Sex        Age  SibSp  Parch     Fare  Embarked\n",
       "0           0       3    1  22.000000      1      0   7.2500         2\n",
       "1           1       1    0  38.000000      1      0  71.2833         0\n",
       "2           1       3    0  26.000000      0      0   7.9250         2\n",
       "3           1       1    0  35.000000      1      0  53.1000         2\n",
       "4           0       3    1  35.000000      0      0   8.0500         2\n",
       "..        ...     ...  ...        ...    ...    ...      ...       ...\n",
       "886         0       2    1  27.000000      0      0  13.0000         2\n",
       "887         1       1    0  19.000000      0      0  30.0000         2\n",
       "888         0       3    0  29.699118      1      2  23.4500         2\n",
       "889         1       1    1  26.000000      0      0  30.0000         0\n",
       "890         0       3    1  32.000000      0      0   7.7500         1\n",
       "\n",
       "[891 rows x 8 columns]"
      ]
     },
     "execution_count": 31,
     "metadata": {},
     "output_type": "execute_result"
    }
   ],
   "source": [
    "# Encoding the categorical data\n",
    "#importing library\n",
    "from sklearn.preprocessing import LabelEncoder\n",
    "le=LabelEncoder()\n",
    "\n",
    "for i in df.columns:\n",
    "    if df[i].dtypes=='object':\n",
    "        df[i]=le.fit_transform(df[i].values.reshape(-1,1))\n",
    "        \n",
    "df"
   ]
  },
  {
   "cell_type": "code",
   "execution_count": 32,
   "id": "f9b3214a",
   "metadata": {},
   "outputs": [
    {
     "data": {
      "text/html": [
       "<div>\n",
       "<style scoped>\n",
       "    .dataframe tbody tr th:only-of-type {\n",
       "        vertical-align: middle;\n",
       "    }\n",
       "\n",
       "    .dataframe tbody tr th {\n",
       "        vertical-align: top;\n",
       "    }\n",
       "\n",
       "    .dataframe thead th {\n",
       "        text-align: right;\n",
       "    }\n",
       "</style>\n",
       "<table border=\"1\" class=\"dataframe\">\n",
       "  <thead>\n",
       "    <tr style=\"text-align: right;\">\n",
       "      <th></th>\n",
       "      <th>Pclass</th>\n",
       "      <th>Sex</th>\n",
       "      <th>Age</th>\n",
       "      <th>SibSp</th>\n",
       "      <th>Parch</th>\n",
       "      <th>Fare</th>\n",
       "      <th>Embarked</th>\n",
       "    </tr>\n",
       "  </thead>\n",
       "  <tbody>\n",
       "    <tr>\n",
       "      <th>0</th>\n",
       "      <td>3</td>\n",
       "      <td>1</td>\n",
       "      <td>22.000000</td>\n",
       "      <td>1</td>\n",
       "      <td>0</td>\n",
       "      <td>7.2500</td>\n",
       "      <td>2</td>\n",
       "    </tr>\n",
       "    <tr>\n",
       "      <th>1</th>\n",
       "      <td>1</td>\n",
       "      <td>0</td>\n",
       "      <td>38.000000</td>\n",
       "      <td>1</td>\n",
       "      <td>0</td>\n",
       "      <td>71.2833</td>\n",
       "      <td>0</td>\n",
       "    </tr>\n",
       "    <tr>\n",
       "      <th>2</th>\n",
       "      <td>3</td>\n",
       "      <td>0</td>\n",
       "      <td>26.000000</td>\n",
       "      <td>0</td>\n",
       "      <td>0</td>\n",
       "      <td>7.9250</td>\n",
       "      <td>2</td>\n",
       "    </tr>\n",
       "    <tr>\n",
       "      <th>3</th>\n",
       "      <td>1</td>\n",
       "      <td>0</td>\n",
       "      <td>35.000000</td>\n",
       "      <td>1</td>\n",
       "      <td>0</td>\n",
       "      <td>53.1000</td>\n",
       "      <td>2</td>\n",
       "    </tr>\n",
       "    <tr>\n",
       "      <th>4</th>\n",
       "      <td>3</td>\n",
       "      <td>1</td>\n",
       "      <td>35.000000</td>\n",
       "      <td>0</td>\n",
       "      <td>0</td>\n",
       "      <td>8.0500</td>\n",
       "      <td>2</td>\n",
       "    </tr>\n",
       "    <tr>\n",
       "      <th>...</th>\n",
       "      <td>...</td>\n",
       "      <td>...</td>\n",
       "      <td>...</td>\n",
       "      <td>...</td>\n",
       "      <td>...</td>\n",
       "      <td>...</td>\n",
       "      <td>...</td>\n",
       "    </tr>\n",
       "    <tr>\n",
       "      <th>886</th>\n",
       "      <td>2</td>\n",
       "      <td>1</td>\n",
       "      <td>27.000000</td>\n",
       "      <td>0</td>\n",
       "      <td>0</td>\n",
       "      <td>13.0000</td>\n",
       "      <td>2</td>\n",
       "    </tr>\n",
       "    <tr>\n",
       "      <th>887</th>\n",
       "      <td>1</td>\n",
       "      <td>0</td>\n",
       "      <td>19.000000</td>\n",
       "      <td>0</td>\n",
       "      <td>0</td>\n",
       "      <td>30.0000</td>\n",
       "      <td>2</td>\n",
       "    </tr>\n",
       "    <tr>\n",
       "      <th>888</th>\n",
       "      <td>3</td>\n",
       "      <td>0</td>\n",
       "      <td>29.699118</td>\n",
       "      <td>1</td>\n",
       "      <td>2</td>\n",
       "      <td>23.4500</td>\n",
       "      <td>2</td>\n",
       "    </tr>\n",
       "    <tr>\n",
       "      <th>889</th>\n",
       "      <td>1</td>\n",
       "      <td>1</td>\n",
       "      <td>26.000000</td>\n",
       "      <td>0</td>\n",
       "      <td>0</td>\n",
       "      <td>30.0000</td>\n",
       "      <td>0</td>\n",
       "    </tr>\n",
       "    <tr>\n",
       "      <th>890</th>\n",
       "      <td>3</td>\n",
       "      <td>1</td>\n",
       "      <td>32.000000</td>\n",
       "      <td>0</td>\n",
       "      <td>0</td>\n",
       "      <td>7.7500</td>\n",
       "      <td>1</td>\n",
       "    </tr>\n",
       "  </tbody>\n",
       "</table>\n",
       "<p>891 rows × 7 columns</p>\n",
       "</div>"
      ],
      "text/plain": [
       "     Pclass  Sex        Age  SibSp  Parch     Fare  Embarked\n",
       "0         3    1  22.000000      1      0   7.2500         2\n",
       "1         1    0  38.000000      1      0  71.2833         0\n",
       "2         3    0  26.000000      0      0   7.9250         2\n",
       "3         1    0  35.000000      1      0  53.1000         2\n",
       "4         3    1  35.000000      0      0   8.0500         2\n",
       "..      ...  ...        ...    ...    ...      ...       ...\n",
       "886       2    1  27.000000      0      0  13.0000         2\n",
       "887       1    0  19.000000      0      0  30.0000         2\n",
       "888       3    0  29.699118      1      2  23.4500         2\n",
       "889       1    1  26.000000      0      0  30.0000         0\n",
       "890       3    1  32.000000      0      0   7.7500         1\n",
       "\n",
       "[891 rows x 7 columns]"
      ]
     },
     "execution_count": 32,
     "metadata": {},
     "output_type": "execute_result"
    }
   ],
   "source": [
    "#dividing data into inputs and output\n",
    "x=df.drop('Survived',axis=1)\n",
    "x"
   ]
  },
  {
   "cell_type": "code",
   "execution_count": 33,
   "id": "78929c64",
   "metadata": {},
   "outputs": [
    {
     "data": {
      "text/plain": [
       "0      0\n",
       "1      1\n",
       "2      1\n",
       "3      1\n",
       "4      0\n",
       "      ..\n",
       "886    0\n",
       "887    1\n",
       "888    0\n",
       "889    1\n",
       "890    0\n",
       "Name: Survived, Length: 891, dtype: int64"
      ]
     },
     "execution_count": 33,
     "metadata": {},
     "output_type": "execute_result"
    }
   ],
   "source": [
    "y=df['Survived']\n",
    "y"
   ]
  },
  {
   "cell_type": "code",
   "execution_count": 34,
   "id": "adc77900",
   "metadata": {},
   "outputs": [
    {
     "data": {
      "text/plain": [
       "(891, 7)"
      ]
     },
     "execution_count": 34,
     "metadata": {},
     "output_type": "execute_result"
    }
   ],
   "source": [
    "x.shape"
   ]
  },
  {
   "cell_type": "code",
   "execution_count": 35,
   "id": "d55fba7e",
   "metadata": {},
   "outputs": [
    {
     "data": {
      "text/plain": [
       "(891,)"
      ]
     },
     "execution_count": 35,
     "metadata": {},
     "output_type": "execute_result"
    }
   ],
   "source": [
    "y.shape"
   ]
  },
  {
   "cell_type": "code",
   "execution_count": 36,
   "id": "37ab42cf",
   "metadata": {},
   "outputs": [
    {
     "data": {
      "text/plain": [
       "Survived       AxesSubplot(0.125,0.536818;0.168478x0.343182)\n",
       "Pclass      AxesSubplot(0.327174,0.536818;0.168478x0.343182)\n",
       "Sex         AxesSubplot(0.529348,0.536818;0.168478x0.343182)\n",
       "Age         AxesSubplot(0.731522,0.536818;0.168478x0.343182)\n",
       "SibSp             AxesSubplot(0.125,0.125;0.168478x0.343182)\n",
       "Parch          AxesSubplot(0.327174,0.125;0.168478x0.343182)\n",
       "Fare           AxesSubplot(0.529348,0.125;0.168478x0.343182)\n",
       "Embarked       AxesSubplot(0.731522,0.125;0.168478x0.343182)\n",
       "dtype: object"
      ]
     },
     "execution_count": 36,
     "metadata": {},
     "output_type": "execute_result"
    },
    {
     "data": {
      "image/png": "[encoded data removed]",
      "text/plain": [
       "<Figure size 432x288 with 8 Axes>"
      ]
     },
     "metadata": {
      "needs_background": "light"
     },
     "output_type": "display_data"
    }
   ],
   "source": [
    "#CHECKING FOR OUTLIERS\n",
    "df.plot(kind='box',subplots=True, layout=(2,4))"
   ]
  },
  {
   "cell_type": "markdown",
   "id": "c2bf5181",
   "metadata": {},
   "source": [
    "**As the fare, age, SibSp and Parch are important as far as model learmning is concern we do not remove them from dataset** "
   ]
  },
  {
   "cell_type": "code",
   "execution_count": 37,
   "id": "d8eb5a09",
   "metadata": {},
   "outputs": [
    {
     "data": {
      "text/plain": [
       "(891, 7)"
      ]
     },
     "execution_count": 37,
     "metadata": {},
     "output_type": "execute_result"
    }
   ],
   "source": [
    "from scipy.stats import zscore\n",
    "z=np.abs(zscore(x))\n",
    "z.shape"
   ]
  },
  {
   "cell_type": "code",
   "execution_count": 38,
   "id": "114214d5",
   "metadata": {},
   "outputs": [
    {
     "name": "stdout",
     "output_type": "stream",
     "text": [
      "(array([ 13,  16,  25,  27,  50,  59,  68,  71,  86,  88,  96, 116, 118,\n",
      "       119, 159, 164, 167, 171, 180, 182, 201, 233, 258, 261, 266, 278,\n",
      "       299, 311, 324, 341, 360, 377, 380, 386, 437, 438, 438, 480, 493,\n",
      "       527, 541, 542, 557, 567, 610, 630, 638, 672, 678, 679, 683, 686,\n",
      "       689, 700, 716, 730, 736, 737, 742, 745, 774, 779, 787, 792, 813,\n",
      "       824, 846, 850, 851, 858, 863, 885], dtype=int64), array([4, 3, 4, 5, 3, 3, 3, 3, 4, 5, 2, 2, 5, 3, 3, 3, 4, 3, 3, 3, 3, 3,\n",
      "       5, 3, 3, 3, 5, 5, 3, 5, 4, 5, 5, 3, 4, 4, 5, 3, 2, 5, 3, 3, 5, 4,\n",
      "       4, 2, 4, 2, 4, 5, 3, 3, 5, 5, 5, 5, 4, 5, 5, 2, 4, 5, 3, 3, 3, 3,\n",
      "       3, 3, 2, 4, 3, 4], dtype=int64))\n"
     ]
    }
   ],
   "source": [
    "threshold=3\n",
    "print(np.where(z>3))"
   ]
  },
  {
   "cell_type": "code",
   "execution_count": 39,
   "id": "e48e53ec",
   "metadata": {},
   "outputs": [
    {
     "data": {
      "text/plain": [
       "(820, 7)"
      ]
     },
     "execution_count": 39,
     "metadata": {},
     "output_type": "execute_result"
    }
   ],
   "source": [
    "x=x[(z<3).all(axis=1)]\n",
    "x.shape"
   ]
  },
  {
   "cell_type": "code",
   "execution_count": 40,
   "id": "b6512024",
   "metadata": {},
   "outputs": [
    {
     "data": {
      "text/plain": [
       "(820,)"
      ]
     },
     "execution_count": 40,
     "metadata": {},
     "output_type": "execute_result"
    }
   ],
   "source": [
    "y=y[(z<3).all(axis=1)]\n",
    "y.shape"
   ]
  },
  {
   "cell_type": "code",
   "execution_count": 41,
   "id": "eb444836",
   "metadata": {},
   "outputs": [
    {
     "data": {
      "text/plain": [
       "7.968574635241302"
      ]
     },
     "execution_count": 41,
     "metadata": {},
     "output_type": "execute_result"
    }
   ],
   "source": [
    "# calculating percentage data loss\n",
    "loss=(891-820)/891*100\n",
    "loss\n"
   ]
  },
  {
   "cell_type": "markdown",
   "id": "c12f7c97",
   "metadata": {},
   "source": [
    "**data loss is almost 7%, the outliers can be deleted but as this are important to us we will go ahead with it** "
   ]
  },
  {
   "cell_type": "code",
   "execution_count": 42,
   "id": "a66b5a6e",
   "metadata": {},
   "outputs": [
    {
     "data": {
      "text/plain": [
       "array([[ 0.87283049,  0.72203588, -0.61846778, ..., -0.48469263,\n",
       "        -0.83470177,  0.60778719],\n",
       "       [-1.47067587, -1.38497273,  0.68588353, ..., -0.48469263,\n",
       "         1.55364494, -1.78767552],\n",
       "       [ 0.87283049, -1.38497273, -0.28381447, ..., -0.48469263,\n",
       "        -0.74331399,  0.60778719],\n",
       "       ...,\n",
       "       [ 0.87283049, -1.38497273,  0.0200539 , ...,  2.08665417,\n",
       "         0.39490799,  0.60778719],\n",
       "       [-1.47067587,  0.72203588, -0.28381447, ..., -0.48469263,\n",
       "         0.65432009, -1.78767552],\n",
       "       [ 0.87283049,  0.72203588,  0.20668289, ..., -0.48469263,\n",
       "        -0.76629016, -1.24967343]])"
      ]
     },
     "execution_count": 42,
     "metadata": {},
     "output_type": "execute_result"
    }
   ],
   "source": [
    "# **Removing skewness**\n",
    "# Importing library to use PowerTransform\n",
    "from sklearn.preprocessing import power_transform\n",
    "x=power_transform(x,method='yeo-johnson')\n",
    "x"
   ]
  },
  {
   "cell_type": "code",
   "execution_count": 43,
   "id": "dc3c6e15",
   "metadata": {},
   "outputs": [
    {
     "data": {
      "text/plain": [
       "0   -0.429718\n",
       "1   -0.664152\n",
       "2    0.071813\n",
       "3    0.948944\n",
       "4    1.581505\n",
       "5   -0.018602\n",
       "6   -1.073724\n",
       "dtype: float64"
      ]
     },
     "execution_count": 43,
     "metadata": {},
     "output_type": "execute_result"
    }
   ],
   "source": [
    "# showing skewness is removed or not\n",
    "df_new=pd.DataFrame(x)\n",
    "df_new.skew()"
   ]
  },
  {
   "cell_type": "markdown",
   "id": "8882db86",
   "metadata": {},
   "source": [
    "**the skewness is removed from the data according to data set the acceptable range of skewness will be +/- 1 **"
   ]
  },
  {
   "cell_type": "code",
   "execution_count": 45,
   "id": "de913e04",
   "metadata": {},
   "outputs": [
    {
     "data": {
      "text/plain": [
       "array([[ 0.87283049,  0.72203588, -0.61846778, ..., -0.48469263,\n",
       "        -0.83470177,  0.60778719],\n",
       "       [-1.47067587, -1.38497273,  0.68588353, ..., -0.48469263,\n",
       "         1.55364494, -1.78767552],\n",
       "       [ 0.87283049, -1.38497273, -0.28381447, ..., -0.48469263,\n",
       "        -0.74331399,  0.60778719],\n",
       "       ...,\n",
       "       [ 0.87283049, -1.38497273,  0.0200539 , ...,  2.08665417,\n",
       "         0.39490799,  0.60778719],\n",
       "       [-1.47067587,  0.72203588, -0.28381447, ..., -0.48469263,\n",
       "         0.65432009, -1.78767552],\n",
       "       [ 0.87283049,  0.72203588,  0.20668289, ..., -0.48469263,\n",
       "        -0.76629016, -1.24967343]])"
      ]
     },
     "execution_count": 45,
     "metadata": {},
     "output_type": "execute_result"
    }
   ],
   "source": [
    "#scaling the data\n",
    "# importing libraries\n",
    "from sklearn.preprocessing import StandardScaler\n",
    "sc=StandardScaler()\n",
    "x=sc.fit_transform(x)\n",
    "x\n"
   ]
  },
  {
   "cell_type": "markdown",
   "id": "69e5c569",
   "metadata": {},
   "source": [
    "**balancing the data**"
   ]
  },
  {
   "cell_type": "code",
   "execution_count": 46,
   "id": "9786d593",
   "metadata": {},
   "outputs": [
    {
     "data": {
      "text/plain": [
       "0    500\n",
       "1    320\n",
       "Name: Survived, dtype: int64"
      ]
     },
     "execution_count": 46,
     "metadata": {},
     "output_type": "execute_result"
    }
   ],
   "source": [
    "y.value_counts()"
   ]
  },
  {
   "cell_type": "markdown",
   "id": "6a525d7d",
   "metadata": {},
   "source": [
    "**data is imbalance hence balancing it by oversampling technique SMOTE**"
   ]
  },
  {
   "cell_type": "code",
   "execution_count": 47,
   "id": "8adc0adc",
   "metadata": {},
   "outputs": [
    {
     "data": {
      "text/plain": [
       "0    500\n",
       "1    500\n",
       "Name: Survived, dtype: int64"
      ]
     },
     "execution_count": 47,
     "metadata": {},
     "output_type": "execute_result"
    }
   ],
   "source": [
    "# Importing Libraries for it \n",
    "from imblearn.over_sampling import SMOTE\n",
    "sm=SMOTE()\n",
    "x,y=sm.fit_resample(x,y)\n",
    "y.value_counts()"
   ]
  },
  {
   "cell_type": "markdown",
   "id": "654f34ff",
   "metadata": {},
   "source": [
    "# Modelling"
   ]
  },
  {
   "cell_type": "code",
   "execution_count": 48,
   "id": "a43adc87",
   "metadata": {},
   "outputs": [],
   "source": [
    "# importing necessary libraries\n",
    "from sklearn.model_selection import train_test_split\n",
    "from sklearn.linear_model import LogisticRegression\n",
    "from sklearn.metrics import accuracy_score, confusion_matrix, classification_report\n",
    "lr=LogisticRegression()"
   ]
  },
  {
   "cell_type": "markdown",
   "id": "a0e49fcc",
   "metadata": {},
   "source": [
    "To find best random state"
   ]
  },
  {
   "cell_type": "code",
   "execution_count": 52,
   "id": "a1ada89a",
   "metadata": {},
   "outputs": [
    {
     "name": "stdout",
     "output_type": "stream",
     "text": [
      "testing accuracy 0.715 randon state 1\n",
      "max accuracy 0.715 max_random_state 1\n",
      "testing accuracy 0.77 randon state 2\n",
      "max accuracy 0.77 max_random_state 2\n",
      "testing accuracy 0.78 randon state 3\n",
      "max accuracy 0.78 max_random_state 3\n",
      "testing accuracy 0.8 randon state 4\n",
      "max accuracy 0.8 max_random_state 4\n",
      "testing accuracy 0.755 randon state 5\n",
      "testing accuracy 0.775 randon state 6\n",
      "testing accuracy 0.81 randon state 7\n",
      "max accuracy 0.81 max_random_state 7\n",
      "testing accuracy 0.785 randon state 8\n",
      "testing accuracy 0.795 randon state 9\n",
      "testing accuracy 0.78 randon state 10\n",
      "testing accuracy 0.815 randon state 11\n",
      "max accuracy 0.815 max_random_state 11\n",
      "testing accuracy 0.84 randon state 12\n",
      "max accuracy 0.84 max_random_state 12\n",
      "testing accuracy 0.795 randon state 13\n",
      "testing accuracy 0.815 randon state 14\n",
      "testing accuracy 0.77 randon state 15\n",
      "testing accuracy 0.765 randon state 16\n",
      "testing accuracy 0.79 randon state 17\n",
      "testing accuracy 0.825 randon state 18\n",
      "testing accuracy 0.73 randon state 19\n",
      "testing accuracy 0.78 randon state 20\n",
      "testing accuracy 0.795 randon state 21\n",
      "testing accuracy 0.825 randon state 22\n",
      "testing accuracy 0.795 randon state 23\n",
      "testing accuracy 0.805 randon state 24\n",
      "testing accuracy 0.76 randon state 25\n",
      "testing accuracy 0.83 randon state 26\n",
      "testing accuracy 0.82 randon state 27\n",
      "testing accuracy 0.725 randon state 28\n",
      "testing accuracy 0.745 randon state 29\n",
      "testing accuracy 0.805 randon state 30\n",
      "testing accuracy 0.765 randon state 31\n",
      "testing accuracy 0.77 randon state 32\n",
      "testing accuracy 0.8 randon state 33\n",
      "testing accuracy 0.835 randon state 34\n",
      "testing accuracy 0.8 randon state 35\n",
      "testing accuracy 0.785 randon state 36\n",
      "testing accuracy 0.795 randon state 37\n",
      "testing accuracy 0.805 randon state 38\n",
      "testing accuracy 0.725 randon state 39\n",
      "testing accuracy 0.79 randon state 40\n",
      "testing accuracy 0.835 randon state 41\n",
      "testing accuracy 0.78 randon state 42\n",
      "testing accuracy 0.795 randon state 43\n",
      "testing accuracy 0.8 randon state 44\n",
      "testing accuracy 0.76 randon state 45\n",
      "testing accuracy 0.785 randon state 46\n",
      "testing accuracy 0.86 randon state 47\n",
      "max accuracy 0.86 max_random_state 47\n",
      "testing accuracy 0.805 randon state 48\n",
      "testing accuracy 0.775 randon state 49\n",
      "testing accuracy 0.77 randon state 50\n",
      "testing accuracy 0.79 randon state 51\n",
      "testing accuracy 0.815 randon state 52\n",
      "testing accuracy 0.835 randon state 53\n",
      "testing accuracy 0.79 randon state 54\n",
      "testing accuracy 0.715 randon state 55\n",
      "testing accuracy 0.78 randon state 56\n",
      "testing accuracy 0.8 randon state 57\n",
      "testing accuracy 0.79 randon state 58\n",
      "testing accuracy 0.79 randon state 59\n",
      "testing accuracy 0.79 randon state 60\n",
      "testing accuracy 0.75 randon state 61\n",
      "testing accuracy 0.79 randon state 62\n",
      "testing accuracy 0.805 randon state 63\n",
      "testing accuracy 0.775 randon state 64\n",
      "testing accuracy 0.79 randon state 65\n",
      "testing accuracy 0.78 randon state 66\n",
      "testing accuracy 0.775 randon state 67\n",
      "testing accuracy 0.79 randon state 68\n",
      "testing accuracy 0.785 randon state 69\n",
      "testing accuracy 0.78 randon state 70\n",
      "testing accuracy 0.735 randon state 71\n",
      "testing accuracy 0.75 randon state 72\n",
      "testing accuracy 0.745 randon state 73\n",
      "testing accuracy 0.82 randon state 74\n",
      "testing accuracy 0.855 randon state 75\n",
      "testing accuracy 0.785 randon state 76\n",
      "testing accuracy 0.78 randon state 77\n",
      "testing accuracy 0.765 randon state 78\n",
      "testing accuracy 0.815 randon state 79\n",
      "testing accuracy 0.785 randon state 80\n",
      "testing accuracy 0.76 randon state 81\n",
      "testing accuracy 0.755 randon state 82\n",
      "testing accuracy 0.825 randon state 83\n",
      "testing accuracy 0.745 randon state 84\n",
      "testing accuracy 0.81 randon state 85\n",
      "testing accuracy 0.77 randon state 86\n",
      "testing accuracy 0.77 randon state 87\n",
      "testing accuracy 0.785 randon state 88\n",
      "testing accuracy 0.77 randon state 89\n",
      "testing accuracy 0.795 randon state 90\n",
      "testing accuracy 0.78 randon state 91\n",
      "testing accuracy 0.82 randon state 92\n",
      "testing accuracy 0.79 randon state 93\n",
      "testing accuracy 0.85 randon state 94\n",
      "testing accuracy 0.8 randon state 95\n",
      "testing accuracy 0.795 randon state 96\n",
      "testing accuracy 0.78 randon state 97\n",
      "testing accuracy 0.8 randon state 98\n",
      "testing accuracy 0.795 randon state 99\n",
      "testing accuracy 0.815 randon state 100\n",
      "testing accuracy 0.8 randon state 101\n",
      "testing accuracy 0.81 randon state 102\n",
      "testing accuracy 0.745 randon state 103\n",
      "testing accuracy 0.775 randon state 104\n",
      "testing accuracy 0.765 randon state 105\n",
      "testing accuracy 0.825 randon state 106\n",
      "testing accuracy 0.785 randon state 107\n",
      "testing accuracy 0.78 randon state 108\n",
      "testing accuracy 0.79 randon state 109\n",
      "testing accuracy 0.81 randon state 110\n",
      "testing accuracy 0.725 randon state 111\n",
      "testing accuracy 0.765 randon state 112\n",
      "testing accuracy 0.79 randon state 113\n",
      "testing accuracy 0.785 randon state 114\n",
      "testing accuracy 0.78 randon state 115\n",
      "testing accuracy 0.815 randon state 116\n",
      "testing accuracy 0.775 randon state 117\n",
      "testing accuracy 0.815 randon state 118\n",
      "testing accuracy 0.8 randon state 119\n",
      "testing accuracy 0.82 randon state 120\n",
      "testing accuracy 0.745 randon state 121\n",
      "testing accuracy 0.765 randon state 122\n",
      "testing accuracy 0.79 randon state 123\n",
      "testing accuracy 0.79 randon state 124\n",
      "testing accuracy 0.765 randon state 125\n",
      "testing accuracy 0.73 randon state 126\n",
      "testing accuracy 0.77 randon state 127\n",
      "testing accuracy 0.77 randon state 128\n",
      "testing accuracy 0.775 randon state 129\n",
      "testing accuracy 0.795 randon state 130\n",
      "testing accuracy 0.735 randon state 131\n",
      "testing accuracy 0.775 randon state 132\n",
      "testing accuracy 0.805 randon state 133\n",
      "testing accuracy 0.805 randon state 134\n",
      "testing accuracy 0.85 randon state 135\n",
      "testing accuracy 0.845 randon state 136\n",
      "testing accuracy 0.82 randon state 137\n",
      "testing accuracy 0.82 randon state 138\n",
      "testing accuracy 0.78 randon state 139\n",
      "testing accuracy 0.76 randon state 140\n",
      "testing accuracy 0.785 randon state 141\n",
      "testing accuracy 0.815 randon state 142\n",
      "testing accuracy 0.75 randon state 143\n",
      "testing accuracy 0.82 randon state 144\n",
      "testing accuracy 0.8 randon state 145\n",
      "testing accuracy 0.79 randon state 146\n",
      "testing accuracy 0.8 randon state 147\n",
      "testing accuracy 0.8 randon state 148\n",
      "testing accuracy 0.77 randon state 149\n",
      "testing accuracy 0.81 randon state 150\n",
      "testing accuracy 0.81 randon state 151\n",
      "testing accuracy 0.795 randon state 152\n",
      "testing accuracy 0.805 randon state 153\n",
      "testing accuracy 0.835 randon state 154\n",
      "testing accuracy 0.8 randon state 155\n",
      "testing accuracy 0.805 randon state 156\n",
      "testing accuracy 0.81 randon state 157\n",
      "testing accuracy 0.725 randon state 158\n",
      "testing accuracy 0.795 randon state 159\n",
      "testing accuracy 0.77 randon state 160\n",
      "testing accuracy 0.76 randon state 161\n",
      "testing accuracy 0.76 randon state 162\n",
      "testing accuracy 0.8 randon state 163\n",
      "testing accuracy 0.805 randon state 164\n",
      "testing accuracy 0.76 randon state 165\n",
      "testing accuracy 0.78 randon state 166\n",
      "testing accuracy 0.765 randon state 167\n",
      "testing accuracy 0.825 randon state 168\n",
      "testing accuracy 0.81 randon state 169\n",
      "testing accuracy 0.8 randon state 170\n",
      "testing accuracy 0.825 randon state 171\n",
      "testing accuracy 0.84 randon state 172\n",
      "testing accuracy 0.77 randon state 173\n",
      "testing accuracy 0.835 randon state 174\n",
      "testing accuracy 0.775 randon state 175\n",
      "testing accuracy 0.785 randon state 176\n",
      "testing accuracy 0.795 randon state 177\n",
      "testing accuracy 0.795 randon state 178\n",
      "testing accuracy 0.77 randon state 179\n",
      "testing accuracy 0.795 randon state 180\n",
      "testing accuracy 0.795 randon state 181\n",
      "testing accuracy 0.8 randon state 182\n",
      "testing accuracy 0.8 randon state 183\n",
      "testing accuracy 0.82 randon state 184\n",
      "testing accuracy 0.765 randon state 185\n",
      "testing accuracy 0.785 randon state 186\n",
      "testing accuracy 0.815 randon state 187\n",
      "testing accuracy 0.805 randon state 188\n",
      "testing accuracy 0.78 randon state 189\n",
      "testing accuracy 0.765 randon state 190\n",
      "testing accuracy 0.8 randon state 191\n",
      "testing accuracy 0.785 randon state 192\n",
      "testing accuracy 0.825 randon state 193\n",
      "testing accuracy 0.77 randon state 194\n",
      "testing accuracy 0.78 randon state 195\n",
      "testing accuracy 0.795 randon state 196\n",
      "testing accuracy 0.795 randon state 197\n",
      "testing accuracy 0.805 randon state 198\n",
      "testing accuracy 0.765 randon state 199\n",
      "testing accuracy 0.82 randon state 200\n",
      "testing accuracy 0.775 randon state 201\n",
      "testing accuracy 0.805 randon state 202\n",
      "testing accuracy 0.81 randon state 203\n",
      "testing accuracy 0.775 randon state 204\n",
      "testing accuracy 0.795 randon state 205\n",
      "testing accuracy 0.78 randon state 206\n",
      "testing accuracy 0.795 randon state 207\n",
      "testing accuracy 0.805 randon state 208\n",
      "testing accuracy 0.81 randon state 209\n",
      "testing accuracy 0.74 randon state 210\n",
      "testing accuracy 0.78 randon state 211\n",
      "testing accuracy 0.795 randon state 212\n",
      "testing accuracy 0.815 randon state 213\n",
      "testing accuracy 0.84 randon state 214\n",
      "testing accuracy 0.775 randon state 215\n",
      "testing accuracy 0.795 randon state 216\n",
      "testing accuracy 0.8 randon state 217\n",
      "testing accuracy 0.735 randon state 218\n",
      "testing accuracy 0.8 randon state 219\n",
      "testing accuracy 0.79 randon state 220\n"
     ]
    },
    {
     "name": "stdout",
     "output_type": "stream",
     "text": [
      "testing accuracy 0.825 randon state 221\n",
      "testing accuracy 0.785 randon state 222\n",
      "testing accuracy 0.74 randon state 223\n",
      "testing accuracy 0.78 randon state 224\n",
      "testing accuracy 0.765 randon state 225\n",
      "testing accuracy 0.79 randon state 226\n",
      "testing accuracy 0.785 randon state 227\n",
      "testing accuracy 0.83 randon state 228\n",
      "testing accuracy 0.8 randon state 229\n",
      "testing accuracy 0.775 randon state 230\n",
      "testing accuracy 0.825 randon state 231\n",
      "testing accuracy 0.82 randon state 232\n",
      "testing accuracy 0.79 randon state 233\n",
      "testing accuracy 0.785 randon state 234\n",
      "testing accuracy 0.8 randon state 235\n",
      "testing accuracy 0.785 randon state 236\n",
      "testing accuracy 0.8 randon state 237\n",
      "testing accuracy 0.76 randon state 238\n",
      "testing accuracy 0.74 randon state 239\n",
      "testing accuracy 0.76 randon state 240\n",
      "testing accuracy 0.805 randon state 241\n",
      "testing accuracy 0.81 randon state 242\n",
      "testing accuracy 0.79 randon state 243\n",
      "testing accuracy 0.775 randon state 244\n",
      "testing accuracy 0.795 randon state 245\n",
      "testing accuracy 0.785 randon state 246\n",
      "testing accuracy 0.795 randon state 247\n",
      "testing accuracy 0.8 randon state 248\n",
      "testing accuracy 0.78 randon state 249\n",
      "testing accuracy 0.805 randon state 250\n",
      "testing accuracy 0.77 randon state 251\n",
      "testing accuracy 0.745 randon state 252\n",
      "testing accuracy 0.8 randon state 253\n",
      "testing accuracy 0.81 randon state 254\n",
      "testing accuracy 0.82 randon state 255\n",
      "testing accuracy 0.79 randon state 256\n",
      "testing accuracy 0.76 randon state 257\n",
      "testing accuracy 0.75 randon state 258\n",
      "testing accuracy 0.78 randon state 259\n",
      "testing accuracy 0.81 randon state 260\n",
      "testing accuracy 0.805 randon state 261\n",
      "testing accuracy 0.765 randon state 262\n",
      "testing accuracy 0.775 randon state 263\n",
      "testing accuracy 0.765 randon state 264\n",
      "testing accuracy 0.79 randon state 265\n",
      "testing accuracy 0.79 randon state 266\n",
      "testing accuracy 0.785 randon state 267\n",
      "testing accuracy 0.835 randon state 268\n",
      "testing accuracy 0.805 randon state 269\n",
      "testing accuracy 0.805 randon state 270\n",
      "testing accuracy 0.83 randon state 271\n",
      "testing accuracy 0.745 randon state 272\n",
      "testing accuracy 0.755 randon state 273\n",
      "testing accuracy 0.785 randon state 274\n",
      "testing accuracy 0.8 randon state 275\n",
      "testing accuracy 0.745 randon state 276\n",
      "testing accuracy 0.745 randon state 277\n",
      "testing accuracy 0.78 randon state 278\n",
      "testing accuracy 0.82 randon state 279\n",
      "testing accuracy 0.775 randon state 280\n",
      "testing accuracy 0.79 randon state 281\n",
      "testing accuracy 0.78 randon state 282\n",
      "testing accuracy 0.83 randon state 283\n",
      "testing accuracy 0.86 randon state 284\n",
      "testing accuracy 0.805 randon state 285\n",
      "testing accuracy 0.84 randon state 286\n",
      "testing accuracy 0.815 randon state 287\n",
      "testing accuracy 0.825 randon state 288\n",
      "testing accuracy 0.81 randon state 289\n",
      "testing accuracy 0.795 randon state 290\n",
      "testing accuracy 0.75 randon state 291\n",
      "testing accuracy 0.81 randon state 292\n",
      "testing accuracy 0.815 randon state 293\n",
      "testing accuracy 0.775 randon state 294\n",
      "testing accuracy 0.805 randon state 295\n",
      "testing accuracy 0.8 randon state 296\n",
      "testing accuracy 0.805 randon state 297\n",
      "testing accuracy 0.795 randon state 298\n",
      "testing accuracy 0.78 randon state 299\n"
     ]
    }
   ],
   "source": [
    "maxaccu=0\n",
    "maxrs=0\n",
    "for i in range(1,300):\n",
    "    xtrain,xtest,ytrain,ytest=train_test_split(x,y,test_size=.20, random_state=i)\n",
    "    lr.fit(xtrain,ytrain)\n",
    "    predlr=lr.predict(xtest)\n",
    "    acc=accuracy_score(ytest,predlr)\n",
    "    print('testing accuracy', acc, 'randon state',i)\n",
    "    \n",
    "    if acc>maxaccu:\n",
    "        maxaccu=acc\n",
    "        maxrs=i\n",
    "        print('max accuracy', maxaccu , 'max_random_state', i)"
   ]
  },
  {
   "cell_type": "code",
   "execution_count": 53,
   "id": "2e626fef",
   "metadata": {},
   "outputs": [
    {
     "name": "stdout",
     "output_type": "stream",
     "text": [
      "best accuracy is  0.86 best randon state is  47\n"
     ]
    }
   ],
   "source": [
    "print('best accuracy is ',maxaccu,'best randon state is ',maxrs)"
   ]
  },
  {
   "cell_type": "markdown",
   "id": "8b580e57",
   "metadata": {},
   "source": [
    "**Doing train test split accoring to best random state**"
   ]
  },
  {
   "cell_type": "code",
   "execution_count": 54,
   "id": "c053829f",
   "metadata": {},
   "outputs": [],
   "source": [
    "# train test split for the data with suggested random state\n",
    "x_train,x_test,y_train,y_test=train_test_split(x,y,test_size=.20,random_state=47)"
   ]
  },
  {
   "cell_type": "code",
   "execution_count": 55,
   "id": "c8fc2b78",
   "metadata": {},
   "outputs": [
    {
     "data": {
      "text/plain": [
       "(800, 7)"
      ]
     },
     "execution_count": 55,
     "metadata": {},
     "output_type": "execute_result"
    }
   ],
   "source": [
    "x_train.shape"
   ]
  },
  {
   "cell_type": "code",
   "execution_count": 56,
   "id": "8f84bbaa",
   "metadata": {},
   "outputs": [
    {
     "data": {
      "text/plain": [
       "(200, 7)"
      ]
     },
     "execution_count": 56,
     "metadata": {},
     "output_type": "execute_result"
    }
   ],
   "source": [
    "x_test.shape"
   ]
  },
  {
   "cell_type": "code",
   "execution_count": 57,
   "id": "60a56186",
   "metadata": {},
   "outputs": [
    {
     "data": {
      "text/plain": [
       "(800,)"
      ]
     },
     "execution_count": 57,
     "metadata": {},
     "output_type": "execute_result"
    }
   ],
   "source": [
    "y_train.shape"
   ]
  },
  {
   "cell_type": "code",
   "execution_count": 58,
   "id": "611e88e3",
   "metadata": {},
   "outputs": [
    {
     "data": {
      "text/plain": [
       "(200,)"
      ]
     },
     "execution_count": 58,
     "metadata": {},
     "output_type": "execute_result"
    }
   ],
   "source": [
    "y_test.shape"
   ]
  },
  {
   "cell_type": "code",
   "execution_count": 60,
   "id": "076b8d42",
   "metadata": {},
   "outputs": [
    {
     "name": "stdout",
     "output_type": "stream",
     "text": [
      "0.86\n",
      "[[80 16]\n",
      " [12 92]]\n",
      "              precision    recall  f1-score   support\n",
      "\n",
      "           0       0.87      0.83      0.85        96\n",
      "           1       0.85      0.88      0.87       104\n",
      "\n",
      "    accuracy                           0.86       200\n",
      "   macro avg       0.86      0.86      0.86       200\n",
      "weighted avg       0.86      0.86      0.86       200\n",
      "\n"
     ]
    }
   ],
   "source": [
    "# Checking score again for the the lr model \n",
    "lr=LogisticRegression()\n",
    "lr.fit(x_train,y_train)\n",
    "predlr=lr.predict(x_test)\n",
    "print(accuracy_score(y_test,predlr))\n",
    "print(confusion_matrix(y_test,predlr))\n",
    "print(classification_report(y_test,predlr))"
   ]
  },
  {
   "cell_type": "markdown",
   "id": "f78e0db5",
   "metadata": {},
   "source": [
    "AUC ROC Curve"
   ]
  },
  {
   "cell_type": "code",
   "execution_count": 61,
   "id": "f62fe933",
   "metadata": {},
   "outputs": [],
   "source": [
    "# Importing libraries\n",
    "from sklearn.metrics import roc_curve\n",
    "from sklearn.metrics import roc_auc_score"
   ]
  },
  {
   "cell_type": "code",
   "execution_count": 64,
   "id": "4afd6d25",
   "metadata": {},
   "outputs": [
    {
     "data": {
      "image/png": "[encoded data removed]",
      "text/plain": [
       "<Figure size 432x288 with 1 Axes>"
      ]
     },
     "metadata": {
      "needs_background": "light"
     },
     "output_type": "display_data"
    },
    {
     "data": {
      "text/plain": [
       "0.8589743589743589"
      ]
     },
     "execution_count": 64,
     "metadata": {},
     "output_type": "execute_result"
    }
   ],
   "source": [
    "#AUC ROC curve for Decision Tree Classifier\n",
    "y_pred_prob=lr.predict_proba(x_test)[:,1]\n",
    "fpr,tpr,threshold=roc_curve(y_test,y_pred_prob)\n",
    "plt.plot([0,1],[0,1],'k--')\n",
    "plt.plot(fpr,tpr,label='Decision Tree Classifier')\n",
    "plt.xlabel('False positive rate')\n",
    "plt.ylabel('True positive rate')\n",
    "plt.title('Decision Tree Classifier')\n",
    "plt.show()\n",
    "\n",
    "auc_score=roc_auc_score(y_test,lr.predict(x_test))\n",
    "\n",
    "auc_score"
   ]
  },
  {
   "cell_type": "markdown",
   "id": "c65a7cc3",
   "metadata": {},
   "source": [
    "AUC ROC score and the actual model score are almost same "
   ]
  },
  {
   "cell_type": "markdown",
   "id": "a3621b2a",
   "metadata": {},
   "source": [
    "**using Decision tree classifier**"
   ]
  },
  {
   "cell_type": "code",
   "execution_count": 65,
   "id": "dc3838f1",
   "metadata": {},
   "outputs": [
    {
     "name": "stdout",
     "output_type": "stream",
     "text": [
      "0.81\n",
      "[[80 16]\n",
      " [22 82]]\n",
      "              precision    recall  f1-score   support\n",
      "\n",
      "           0       0.78      0.83      0.81        96\n",
      "           1       0.84      0.79      0.81       104\n",
      "\n",
      "    accuracy                           0.81       200\n",
      "   macro avg       0.81      0.81      0.81       200\n",
      "weighted avg       0.81      0.81      0.81       200\n",
      "\n"
     ]
    }
   ],
   "source": [
    "from sklearn.tree import DecisionTreeClassifier\n",
    "dtc=DecisionTreeClassifier()\n",
    "dtc.fit(x_train,y_train)\n",
    "preddtc=dtc.predict(x_test)\n",
    "print(accuracy_score(y_test,preddtc))\n",
    "print(confusion_matrix(y_test,preddtc))\n",
    "print(classification_report(y_test,preddtc))"
   ]
  },
  {
   "cell_type": "code",
   "execution_count": 66,
   "id": "05eb853c",
   "metadata": {
    "scrolled": true
   },
   "outputs": [
    {
     "data": {
      "image/png": "[encoded data removed]",
      "text/plain": [
       "<Figure size 432x288 with 1 Axes>"
      ]
     },
     "metadata": {
      "needs_background": "light"
     },
     "output_type": "display_data"
    },
    {
     "data": {
      "text/plain": [
       "0.8108974358974359"
      ]
     },
     "execution_count": 66,
     "metadata": {},
     "output_type": "execute_result"
    }
   ],
   "source": [
    "#AUC ROC curve for Decision Tree Classifier\n",
    "y_pred_prob=dtc.predict_proba(x_test)[:,1]\n",
    "fpr,tpr,threshold=roc_curve(y_test,y_pred_prob)\n",
    "plt.plot([0,1],[0,1],'k--')\n",
    "plt.plot(fpr,tpr,label='Decision Tree Classifier')\n",
    "plt.xlabel('False positive rate')\n",
    "plt.ylabel('True positive rate')\n",
    "plt.title('Decision Tree Classifier')\n",
    "plt.show()\n",
    "\n",
    "auc_score=roc_auc_score(y_test,dtc.predict(x_test))\n",
    "\n",
    "auc_score"
   ]
  },
  {
   "cell_type": "markdown",
   "id": "d365f1af",
   "metadata": {},
   "source": [
    "AUC ROC score and the actual model score are almost same "
   ]
  },
  {
   "cell_type": "markdown",
   "id": "84839b48",
   "metadata": {},
   "source": [
    "**using Random Forest classifier**"
   ]
  },
  {
   "cell_type": "code",
   "execution_count": 67,
   "id": "8dfaa1cc",
   "metadata": {},
   "outputs": [
    {
     "name": "stdout",
     "output_type": "stream",
     "text": [
      "0.865\n",
      "[[85 11]\n",
      " [16 88]]\n",
      "              precision    recall  f1-score   support\n",
      "\n",
      "           0       0.84      0.89      0.86        96\n",
      "           1       0.89      0.85      0.87       104\n",
      "\n",
      "    accuracy                           0.86       200\n",
      "   macro avg       0.87      0.87      0.86       200\n",
      "weighted avg       0.87      0.86      0.87       200\n",
      "\n"
     ]
    }
   ],
   "source": [
    "from sklearn.ensemble import RandomForestClassifier\n",
    "rf=RandomForestClassifier(n_estimators=200)\n",
    "rf.fit(x_train,y_train)\n",
    "predrf=rf.predict(x_test)\n",
    "print(accuracy_score(y_test,predrf))\n",
    "print(confusion_matrix(y_test,predrf))\n",
    "print(classification_report(y_test,predrf))"
   ]
  },
  {
   "cell_type": "code",
   "execution_count": 68,
   "id": "0e911b2c",
   "metadata": {},
   "outputs": [
    {
     "data": {
      "image/png": "[encoded data removed]",
      "text/plain": [
       "<Figure size 432x288 with 1 Axes>"
      ]
     },
     "metadata": {
      "needs_background": "light"
     },
     "output_type": "display_data"
    },
    {
     "data": {
      "text/plain": [
       "0.8657852564102564"
      ]
     },
     "execution_count": 68,
     "metadata": {},
     "output_type": "execute_result"
    }
   ],
   "source": [
    "#AUC ROC curve for Random Forest Classifier Classifier\n",
    "y_pred_prob=rf.predict_proba(x_test)[:,1]\n",
    "fpr,tpr,threshold=roc_curve(y_test,y_pred_prob)\n",
    "plt.plot([0,1],[0,1],'k--')\n",
    "plt.plot(fpr,tpr,label='Random Forest Classifier')\n",
    "plt.xlabel('False positive rate')\n",
    "plt.ylabel('True positive rate')\n",
    "plt.title('Random Forest Classifier')\n",
    "plt.show()\n",
    "\n",
    "auc_score=roc_auc_score(y_test,rf.predict(x_test))\n",
    "\n",
    "auc_score"
   ]
  },
  {
   "cell_type": "markdown",
   "id": "adb72503",
   "metadata": {},
   "source": [
    "AUC ROC score and the actual model score are almost same "
   ]
  },
  {
   "cell_type": "markdown",
   "id": "a22258ae",
   "metadata": {},
   "source": [
    "**using SVC**"
   ]
  },
  {
   "cell_type": "code",
   "execution_count": 69,
   "id": "946c92b8",
   "metadata": {},
   "outputs": [
    {
     "name": "stdout",
     "output_type": "stream",
     "text": [
      "0.835\n",
      "[[83 13]\n",
      " [20 84]]\n",
      "              precision    recall  f1-score   support\n",
      "\n",
      "           0       0.81      0.86      0.83        96\n",
      "           1       0.87      0.81      0.84       104\n",
      "\n",
      "    accuracy                           0.83       200\n",
      "   macro avg       0.84      0.84      0.83       200\n",
      "weighted avg       0.84      0.83      0.84       200\n",
      "\n"
     ]
    }
   ],
   "source": [
    "from sklearn.svm import SVC\n",
    "svc=SVC(probability=True)\n",
    "svc.fit(x_train,y_train)\n",
    "predsvc=svc.predict(x_test)\n",
    "print(accuracy_score(y_test,predsvc))\n",
    "print(confusion_matrix(y_test,predsvc))\n",
    "print(classification_report(y_test,predsvc))"
   ]
  },
  {
   "cell_type": "code",
   "execution_count": 70,
   "id": "755085d5",
   "metadata": {},
   "outputs": [
    {
     "data": {
      "image/png": "[encoded data removed]",
      "text/plain": [
       "<Figure size 432x288 with 1 Axes>"
      ]
     },
     "metadata": {
      "needs_background": "light"
     },
     "output_type": "display_data"
    },
    {
     "data": {
      "text/plain": [
       "0.8361378205128206"
      ]
     },
     "execution_count": 70,
     "metadata": {},
     "output_type": "execute_result"
    }
   ],
   "source": [
    "#AUC ROC curve for  SVC\n",
    "y_pred_prob=svc.predict_proba(x_test)[:,1]\n",
    "fpr,tpr,threshold=roc_curve(y_test,y_pred_prob)\n",
    "plt.plot([0,1],[0,1],'k--')\n",
    "plt.plot(fpr,tpr,label='SVC')\n",
    "plt.xlabel('False positive rate')\n",
    "plt.ylabel('True positive rate')\n",
    "plt.title('SVC')\n",
    "plt.show()\n",
    "\n",
    "auc_score=roc_auc_score(y_test,svc.predict(x_test))\n",
    "\n",
    "auc_score"
   ]
  },
  {
   "cell_type": "markdown",
   "id": "c7ea6b95",
   "metadata": {},
   "source": [
    "AUC ROC score and the actual model score are almost same "
   ]
  },
  {
   "cell_type": "markdown",
   "id": "c4633731",
   "metadata": {},
   "source": [
    "**using KNN**"
   ]
  },
  {
   "cell_type": "code",
   "execution_count": 71,
   "id": "36814d04",
   "metadata": {},
   "outputs": [
    {
     "name": "stdout",
     "output_type": "stream",
     "text": [
      "0.835\n",
      "[[78 18]\n",
      " [15 89]]\n",
      "              precision    recall  f1-score   support\n",
      "\n",
      "           0       0.84      0.81      0.83        96\n",
      "           1       0.83      0.86      0.84       104\n",
      "\n",
      "    accuracy                           0.83       200\n",
      "   macro avg       0.84      0.83      0.83       200\n",
      "weighted avg       0.84      0.83      0.83       200\n",
      "\n"
     ]
    }
   ],
   "source": [
    "from sklearn.neighbors import KNeighborsClassifier\n",
    "knn=KNeighborsClassifier()\n",
    "knn.fit(x_train,y_train)\n",
    "predknn=knn.predict(x_test)\n",
    "print(accuracy_score(y_test,predknn))\n",
    "print(confusion_matrix(y_test,predknn))\n",
    "print(classification_report(y_test,predknn))"
   ]
  },
  {
   "cell_type": "code",
   "execution_count": 72,
   "id": "1d71637e",
   "metadata": {},
   "outputs": [
    {
     "data": {
      "image/png": "[encoded data removed]",
      "text/plain": [
       "<Figure size 432x288 with 1 Axes>"
      ]
     },
     "metadata": {
      "needs_background": "light"
     },
     "output_type": "display_data"
    },
    {
     "data": {
      "text/plain": [
       "0.8341346153846154"
      ]
     },
     "execution_count": 72,
     "metadata": {},
     "output_type": "execute_result"
    }
   ],
   "source": [
    "#AUC ROC curve for  KNeighborsClassifier\n",
    "y_pred_prob=knn.predict_proba(x_test)[:,1]\n",
    "fpr,tpr,threshold=roc_curve(y_test,y_pred_prob)\n",
    "plt.plot([0,1],[0,1],'k--')\n",
    "plt.plot(fpr,tpr,label='KNeighborsClassifier')\n",
    "plt.xlabel('False positive rate')\n",
    "plt.ylabel('True positive rate')\n",
    "plt.title('KNeighborsClassifier')\n",
    "plt.show()\n",
    "\n",
    "auc_score=roc_auc_score(y_test,knn.predict(x_test))\n",
    "\n",
    "auc_score"
   ]
  },
  {
   "cell_type": "markdown",
   "id": "05b4dd5e",
   "metadata": {},
   "source": [
    "AUC ROC score and the actual model score are almost same "
   ]
  },
  {
   "cell_type": "markdown",
   "id": "0c8b7fa7",
   "metadata": {},
   "source": [
    "**using GradientBoostingClassifier**"
   ]
  },
  {
   "cell_type": "code",
   "execution_count": 73,
   "id": "d2b4c2a1",
   "metadata": {},
   "outputs": [
    {
     "name": "stdout",
     "output_type": "stream",
     "text": [
      "0.835\n",
      "[[78 18]\n",
      " [15 89]]\n",
      "              precision    recall  f1-score   support\n",
      "\n",
      "           0       0.84      0.81      0.83        96\n",
      "           1       0.83      0.86      0.84       104\n",
      "\n",
      "    accuracy                           0.83       200\n",
      "   macro avg       0.84      0.83      0.83       200\n",
      "weighted avg       0.84      0.83      0.83       200\n",
      "\n"
     ]
    }
   ],
   "source": [
    "from sklearn.ensemble import GradientBoostingClassifier\n",
    "xgb=KNeighborsClassifier()\n",
    "xgb.fit(x_train,y_train)\n",
    "predxgb=xgb.predict(x_test)\n",
    "print(accuracy_score(y_test,predxgb))\n",
    "print(confusion_matrix(y_test,predxgb))\n",
    "print(classification_report(y_test,predxgb))"
   ]
  },
  {
   "cell_type": "code",
   "execution_count": 74,
   "id": "e5984903",
   "metadata": {},
   "outputs": [
    {
     "data": {
      "image/png": "[encoded data removed]",
      "text/plain": [
       "<Figure size 432x288 with 1 Axes>"
      ]
     },
     "metadata": {
      "needs_background": "light"
     },
     "output_type": "display_data"
    },
    {
     "data": {
      "text/plain": [
       "0.8341346153846154"
      ]
     },
     "execution_count": 74,
     "metadata": {},
     "output_type": "execute_result"
    }
   ],
   "source": [
    "#AUC ROC curve for  GradientBoostingClassifier\n",
    "y_pred_prob=xgb.predict_proba(x_test)[:,1]\n",
    "fpr,tpr,threshold=roc_curve(y_test,y_pred_prob)\n",
    "plt.plot([0,1],[0,1],'k--')\n",
    "plt.plot(fpr,tpr,label='GradientBoostingClassifier')\n",
    "plt.xlabel('False positive rate')\n",
    "plt.ylabel('True positive rate')\n",
    "plt.title('GradientBoostingClassifier')\n",
    "plt.show()\n",
    "\n",
    "auc_score=roc_auc_score(y_test,xgb.predict(x_test))\n",
    "\n",
    "auc_score"
   ]
  },
  {
   "cell_type": "markdown",
   "id": "c04129f5",
   "metadata": {},
   "source": [
    "AUC ROC score and the actual model score are almost same"
   ]
  },
  {
   "cell_type": "markdown",
   "id": "b858d762",
   "metadata": {},
   "source": [
    "**using Adaboostclassifier**"
   ]
  },
  {
   "cell_type": "code",
   "execution_count": 75,
   "id": "3dc22eec",
   "metadata": {},
   "outputs": [
    {
     "name": "stdout",
     "output_type": "stream",
     "text": [
      "0.835\n",
      "[[78 18]\n",
      " [15 89]]\n",
      "              precision    recall  f1-score   support\n",
      "\n",
      "           0       0.84      0.81      0.83        96\n",
      "           1       0.83      0.86      0.84       104\n",
      "\n",
      "    accuracy                           0.83       200\n",
      "   macro avg       0.84      0.83      0.83       200\n",
      "weighted avg       0.84      0.83      0.83       200\n",
      "\n"
     ]
    }
   ],
   "source": [
    "from sklearn.ensemble import AdaBoostClassifier\n",
    "ada=KNeighborsClassifier()\n",
    "ada.fit(x_train,y_train)\n",
    "predada=ada.predict(x_test)\n",
    "print(accuracy_score(y_test,predada))\n",
    "print(confusion_matrix(y_test,predada))\n",
    "print(classification_report(y_test,predada))"
   ]
  },
  {
   "cell_type": "code",
   "execution_count": 76,
   "id": "8416cc21",
   "metadata": {},
   "outputs": [
    {
     "data": {
      "image/png": "[encoded data removed]",
      "text/plain": [
       "<Figure size 432x288 with 1 Axes>"
      ]
     },
     "metadata": {
      "needs_background": "light"
     },
     "output_type": "display_data"
    },
    {
     "data": {
      "text/plain": [
       "0.8341346153846154"
      ]
     },
     "execution_count": 76,
     "metadata": {},
     "output_type": "execute_result"
    }
   ],
   "source": [
    "#AUC ROC curve for  AdaBoostClassifier\n",
    "y_pred_prob=ada.predict_proba(x_test)[:,1]\n",
    "fpr,tpr,threshold=roc_curve(y_test,y_pred_prob)\n",
    "plt.plot([0,1],[0,1],'k--')\n",
    "plt.plot(fpr,tpr,label='AdaBoostClassifier')\n",
    "plt.xlabel('False positive rate')\n",
    "plt.ylabel('True positive rate')\n",
    "plt.title('AdaBoostClassifier')\n",
    "plt.show()\n",
    "\n",
    "auc_score=roc_auc_score(y_test,ada.predict(x_test))\n",
    "\n",
    "auc_score"
   ]
  },
  {
   "cell_type": "markdown",
   "id": "a134138d",
   "metadata": {},
   "source": [
    "AUC ROC score and the actual model score are almost same"
   ]
  },
  {
   "cell_type": "markdown",
   "id": "ef66cd8a",
   "metadata": {},
   "source": [
    "**naive bayes algorithm**"
   ]
  },
  {
   "cell_type": "code",
   "execution_count": 77,
   "id": "1954d9c6",
   "metadata": {},
   "outputs": [
    {
     "name": "stdout",
     "output_type": "stream",
     "text": [
      "0.825\n",
      "[[75 21]\n",
      " [14 90]]\n",
      "              precision    recall  f1-score   support\n",
      "\n",
      "           0       0.84      0.78      0.81        96\n",
      "           1       0.81      0.87      0.84       104\n",
      "\n",
      "    accuracy                           0.82       200\n",
      "   macro avg       0.83      0.82      0.82       200\n",
      "weighted avg       0.83      0.82      0.82       200\n",
      "\n"
     ]
    }
   ],
   "source": [
    "from sklearn.naive_bayes import GaussianNB\n",
    "gnb = GaussianNB()\n",
    "gnb.fit(x_train, y_train)\n",
    "predgnb = gnb.predict(x_test)\n",
    "print(accuracy_score(y_test,predgnb))\n",
    "print(confusion_matrix(y_test,predgnb))\n",
    "print(classification_report(y_test,predgnb))"
   ]
  },
  {
   "cell_type": "code",
   "execution_count": 79,
   "id": "f084ce1b",
   "metadata": {},
   "outputs": [
    {
     "data": {
      "image/png": "[encoded data removed]",
      "text/plain": [
       "<Figure size 432x288 with 1 Axes>"
      ]
     },
     "metadata": {
      "needs_background": "light"
     },
     "output_type": "display_data"
    },
    {
     "data": {
      "text/plain": [
       "0.8233173076923077"
      ]
     },
     "execution_count": 79,
     "metadata": {},
     "output_type": "execute_result"
    }
   ],
   "source": [
    "#AUC ROC curve for  GaussianNB\n",
    "y_pred_prob=gnb.predict_proba(x_test)[:,1]\n",
    "fpr,tpr,threshold=roc_curve(y_test,y_pred_prob)\n",
    "plt.plot([0,1],[0,1],'k--')\n",
    "plt.plot(fpr,tpr,label=' GaussianNB')\n",
    "plt.xlabel('False positive rate')\n",
    "plt.ylabel('True positive rate')\n",
    "plt.title(' GaussianNB')\n",
    "plt.show()\n",
    "\n",
    "auc_score=roc_auc_score(y_test,gnb.predict(x_test))\n",
    "\n",
    "auc_score"
   ]
  },
  {
   "cell_type": "markdown",
   "id": "ae9a1f61",
   "metadata": {},
   "source": [
    "AUC ROC score and the actual model score are almost same"
   ]
  },
  {
   "cell_type": "markdown",
   "id": "3a4bd49b",
   "metadata": {},
   "source": [
    "# cross validation score"
   ]
  },
  {
   "cell_type": "code",
   "execution_count": 88,
   "id": "c23167da",
   "metadata": {},
   "outputs": [
    {
     "name": "stdout",
     "output_type": "stream",
     "text": [
      "taking cv = 2\n",
      "Cross validation score for  LogisticRegression()  is [0.78 0.8 ]\n",
      "Mean of Cross Val. score is  0.79\n",
      "taking cv = 3\n",
      "Cross validation score for  LogisticRegression()  is [0.78742515 0.75075075 0.84984985]\n",
      "Mean of Cross Val. score is  0.7960085834337333\n",
      "taking cv = 4\n",
      "Cross validation score for  LogisticRegression()  is [0.792 0.748 0.8   0.844]\n",
      "Mean of Cross Val. score is  0.7959999999999999\n",
      "taking cv = 5\n",
      "Cross validation score for  LogisticRegression()  is [0.77  0.805 0.725 0.825 0.84 ]\n",
      "Mean of Cross Val. score is  0.7929999999999999\n",
      "taking cv = 6\n",
      "Cross validation score for  LogisticRegression()  is [0.77245509 0.81437126 0.73053892 0.77844311 0.84337349 0.8253012 ]\n",
      "Mean of Cross Val. score is  0.7940805136714525\n",
      "taking cv = 7\n",
      "Cross validation score for  LogisticRegression()  is [0.78321678 0.82517483 0.72727273 0.72027972 0.83916084 0.81118881\n",
      " 0.84507042]\n",
      "Mean of Cross Val. score is  0.7930520184041311\n",
      "taking cv = 8\n",
      "Cross validation score for  LogisticRegression()  is [0.776 0.816 0.752 0.736 0.776 0.824 0.824 0.848]\n",
      "Mean of Cross Val. score is  0.794\n",
      "taking cv = 9\n",
      "Cross validation score for  LogisticRegression()  is [0.78571429 0.78378378 0.81081081 0.72972973 0.73873874 0.79279279\n",
      " 0.82882883 0.81981982 0.85585586]\n",
      "Mean of Cross Val. score is  0.794008294008294\n",
      "taking cv = 2\n",
      "Cross validation score for  DecisionTreeClassifier()  is [0.754 0.792]\n",
      "Mean of Cross Val. score is  0.773\n",
      "taking cv = 3\n",
      "Cross validation score for  DecisionTreeClassifier()  is [0.74850299 0.77177177 0.81381381]\n",
      "Mean of Cross Val. score is  0.7780295265325204\n",
      "taking cv = 4\n",
      "Cross validation score for  DecisionTreeClassifier()  is [0.752 0.768 0.792 0.832]\n",
      "Mean of Cross Val. score is  0.786\n",
      "taking cv = 5\n",
      "Cross validation score for  DecisionTreeClassifier()  is [0.745 0.79  0.8   0.805 0.845]\n",
      "Mean of Cross Val. score is  0.797\n",
      "taking cv = 6\n",
      "Cross validation score for  DecisionTreeClassifier()  is [0.74850299 0.76047904 0.76646707 0.78443114 0.8313253  0.8373494 ]\n",
      "Mean of Cross Val. score is  0.7880924897193564\n",
      "taking cv = 7\n",
      "Cross validation score for  DecisionTreeClassifier()  is [0.72027972 0.77622378 0.73426573 0.83216783 0.84615385 0.84615385\n",
      " 0.86619718]\n",
      "Mean of Cross Val. score is  0.8030631340490496\n",
      "taking cv = 8\n",
      "Cross validation score for  DecisionTreeClassifier()  is [0.712 0.776 0.76  0.8   0.776 0.856 0.84  0.8  ]\n",
      "Mean of Cross Val. score is  0.79\n",
      "taking cv = 9\n",
      "Cross validation score for  DecisionTreeClassifier()  is [0.72321429 0.76576577 0.74774775 0.73873874 0.81081081 0.82882883\n",
      " 0.81081081 0.87387387 0.82882883]\n",
      "Mean of Cross Val. score is  0.7920688545688547\n",
      "taking cv = 2\n",
      "Cross validation score for  RandomForestClassifier(n_estimators=200)  is [0.788 0.818]\n",
      "Mean of Cross Val. score is  0.8029999999999999\n",
      "taking cv = 3\n",
      "Cross validation score for  RandomForestClassifier(n_estimators=200)  is [0.78742515 0.7987988  0.84384384]\n",
      "Mean of Cross Val. score is  0.8100225974477472\n",
      "taking cv = 4\n",
      "Cross validation score for  RandomForestClassifier(n_estimators=200)  is [0.784 0.804 0.828 0.852]\n",
      "Mean of Cross Val. score is  0.817\n",
      "taking cv = 5\n",
      "Cross validation score for  RandomForestClassifier(n_estimators=200)  is [0.775 0.825 0.81  0.845 0.855]\n",
      "Mean of Cross Val. score is  0.8219999999999998\n",
      "taking cv = 6\n",
      "Cross validation score for  RandomForestClassifier(n_estimators=200)  is [0.76047904 0.80239521 0.79640719 0.82035928 0.84337349 0.85542169]\n",
      "Mean of Cross Val. score is  0.813072649880961\n",
      "taking cv = 7\n",
      "Cross validation score for  RandomForestClassifier(n_estimators=200)  is [0.77622378 0.7972028  0.76223776 0.83216783 0.83216783 0.86713287\n",
      " 0.83802817]\n",
      "Mean of Cross Val. score is  0.8150230051638501\n",
      "taking cv = 8\n",
      "Cross validation score for  RandomForestClassifier(n_estimators=200)  is [0.752 0.792 0.784 0.824 0.824 0.856 0.888 0.848]\n",
      "Mean of Cross Val. score is  0.821\n",
      "taking cv = 9\n",
      "Cross validation score for  RandomForestClassifier(n_estimators=200)  is [0.75       0.77477477 0.81981982 0.8018018  0.82882883 0.81081081\n",
      " 0.84684685 0.88288288 0.85585586]\n",
      "Mean of Cross Val. score is  0.819069069069069\n",
      "taking cv = 2\n",
      "Cross validation score for  SVC(probability=True)  is [0.784 0.832]\n",
      "Mean of Cross Val. score is  0.808\n",
      "taking cv = 3\n",
      "Cross validation score for  SVC(probability=True)  is [0.79041916 0.77777778 0.85885886]\n",
      "Mean of Cross Val. score is  0.8090185994377611\n",
      "taking cv = 4\n",
      "Cross validation score for  SVC(probability=True)  is [0.784 0.772 0.82  0.852]\n",
      "Mean of Cross Val. score is  0.8069999999999999\n",
      "taking cv = 5\n",
      "Cross validation score for  SVC(probability=True)  is [0.76  0.81  0.765 0.845 0.84 ]\n",
      "Mean of Cross Val. score is  0.8039999999999999\n",
      "taking cv = 6\n",
      "Cross validation score for  SVC(probability=True)  is [0.76646707 0.79640719 0.76646707 0.79640719 0.87349398 0.8253012 ]\n",
      "Mean of Cross Val. score is  0.8040906139528173\n",
      "taking cv = 7\n",
      "Cross validation score for  SVC(probability=True)  is [0.77622378 0.81118881 0.75524476 0.74825175 0.83916084 0.83916084\n",
      " 0.86619718]\n",
      "Mean of Cross Val. score is  0.8050611360470514\n",
      "taking cv = 8\n",
      "Cross validation score for  SVC(probability=True)  is [0.76  0.792 0.792 0.768 0.792 0.848 0.824 0.872]\n",
      "Mean of Cross Val. score is  0.806\n",
      "taking cv = 9\n",
      "Cross validation score for  SVC(probability=True)  is [0.76785714 0.76576577 0.8018018  0.78378378 0.75675676 0.8018018\n",
      " 0.85585586 0.84684685 0.86486486]\n",
      "Mean of Cross Val. score is  0.8050371800371801\n",
      "taking cv = 2\n",
      "Cross validation score for  KNeighborsClassifier()  is [0.792 0.85 ]\n",
      "Mean of Cross Val. score is  0.821\n",
      "taking cv = 3\n",
      "Cross validation score for  KNeighborsClassifier()  is [0.7754491  0.8048048  0.87387387]\n",
      "Mean of Cross Val. score is  0.8180425934916952\n",
      "taking cv = 4\n",
      "Cross validation score for  KNeighborsClassifier()  is [0.768 0.812 0.828 0.896]\n",
      "Mean of Cross Val. score is  0.826\n",
      "taking cv = 5\n",
      "Cross validation score for  KNeighborsClassifier()  is [0.75  0.79  0.815 0.875 0.895]\n",
      "Mean of Cross Val. score is  0.825\n",
      "taking cv = 6\n",
      "Cross validation score for  KNeighborsClassifier()  is [0.76646707 0.80239521 0.80838323 0.81437126 0.88554217 0.89759036]\n",
      "Mean of Cross Val. score is  0.8291248827645914\n",
      "taking cv = 7\n",
      "Cross validation score for  KNeighborsClassifier()  is [0.78321678 0.81818182 0.76923077 0.82517483 0.84615385 0.83916084\n",
      " 0.8943662 ]\n",
      "Mean of Cross Val. score is  0.8250692969002829\n",
      "taking cv = 8\n",
      "Cross validation score for  KNeighborsClassifier()  is [0.776 0.8   0.768 0.824 0.816 0.864 0.88  0.88 ]\n",
      "Mean of Cross Val. score is  0.8260000000000001\n",
      "taking cv = 9\n",
      "Cross validation score for  KNeighborsClassifier()  is [0.80357143 0.77477477 0.81081081 0.79279279 0.84684685 0.81081081\n",
      " 0.87387387 0.9009009  0.88288288]\n",
      "Mean of Cross Val. score is  0.833029458029458\n",
      "taking cv = 2\n",
      "Cross validation score for  KNeighborsClassifier()  is [0.792 0.85 ]\n",
      "Mean of Cross Val. score is  0.821\n",
      "taking cv = 3\n",
      "Cross validation score for  KNeighborsClassifier()  is [0.7754491  0.8048048  0.87387387]\n",
      "Mean of Cross Val. score is  0.8180425934916952\n",
      "taking cv = 4\n",
      "Cross validation score for  KNeighborsClassifier()  is [0.768 0.812 0.828 0.896]\n",
      "Mean of Cross Val. score is  0.826\n",
      "taking cv = 5\n",
      "Cross validation score for  KNeighborsClassifier()  is [0.75  0.79  0.815 0.875 0.895]\n",
      "Mean of Cross Val. score is  0.825\n",
      "taking cv = 6\n",
      "Cross validation score for  KNeighborsClassifier()  is [0.76646707 0.80239521 0.80838323 0.81437126 0.88554217 0.89759036]\n",
      "Mean of Cross Val. score is  0.8291248827645914\n",
      "taking cv = 7\n",
      "Cross validation score for  KNeighborsClassifier()  is [0.78321678 0.81818182 0.76923077 0.82517483 0.84615385 0.83916084\n",
      " 0.8943662 ]\n",
      "Mean of Cross Val. score is  0.8250692969002829\n",
      "taking cv = 8\n",
      "Cross validation score for  KNeighborsClassifier()  is [0.776 0.8   0.768 0.824 0.816 0.864 0.88  0.88 ]\n",
      "Mean of Cross Val. score is  0.8260000000000001\n",
      "taking cv = 9\n",
      "Cross validation score for  KNeighborsClassifier()  is [0.80357143 0.77477477 0.81081081 0.79279279 0.84684685 0.81081081\n",
      " 0.87387387 0.9009009  0.88288288]\n",
      "Mean of Cross Val. score is  0.833029458029458\n",
      "taking cv = 2\n",
      "Cross validation score for  KNeighborsClassifier()  is [0.792 0.85 ]\n",
      "Mean of Cross Val. score is  0.821\n",
      "taking cv = 3\n",
      "Cross validation score for  KNeighborsClassifier()  is [0.7754491  0.8048048  0.87387387]\n",
      "Mean of Cross Val. score is  0.8180425934916952\n",
      "taking cv = 4\n",
      "Cross validation score for  KNeighborsClassifier()  is [0.768 0.812 0.828 0.896]\n",
      "Mean of Cross Val. score is  0.826\n",
      "taking cv = 5\n",
      "Cross validation score for  KNeighborsClassifier()  is [0.75  0.79  0.815 0.875 0.895]\n",
      "Mean of Cross Val. score is  0.825\n",
      "taking cv = 6\n"
     ]
    },
    {
     "name": "stdout",
     "output_type": "stream",
     "text": [
      "Cross validation score for  KNeighborsClassifier()  is [0.76646707 0.80239521 0.80838323 0.81437126 0.88554217 0.89759036]\n",
      "Mean of Cross Val. score is  0.8291248827645914\n",
      "taking cv = 7\n",
      "Cross validation score for  KNeighborsClassifier()  is [0.78321678 0.81818182 0.76923077 0.82517483 0.84615385 0.83916084\n",
      " 0.8943662 ]\n",
      "Mean of Cross Val. score is  0.8250692969002829\n",
      "taking cv = 8\n",
      "Cross validation score for  KNeighborsClassifier()  is [0.776 0.8   0.768 0.824 0.816 0.864 0.88  0.88 ]\n",
      "Mean of Cross Val. score is  0.8260000000000001\n",
      "taking cv = 9\n",
      "Cross validation score for  KNeighborsClassifier()  is [0.80357143 0.77477477 0.81081081 0.79279279 0.84684685 0.81081081\n",
      " 0.87387387 0.9009009  0.88288288]\n",
      "Mean of Cross Val. score is  0.833029458029458\n",
      "taking cv = 2\n",
      "Cross validation score for  GaussianNB()  is [0.748 0.814]\n",
      "Mean of Cross Val. score is  0.7809999999999999\n",
      "taking cv = 3\n",
      "Cross validation score for  GaussianNB()  is [0.73652695 0.77477477 0.81981982]\n",
      "Mean of Cross Val. score is  0.7770405135674596\n",
      "taking cv = 4\n",
      "Cross validation score for  GaussianNB()  is [0.72  0.764 0.788 0.82 ]\n",
      "Mean of Cross Val. score is  0.773\n",
      "taking cv = 5\n",
      "Cross validation score for  GaussianNB()  is [0.705 0.775 0.765 0.765 0.81 ]\n",
      "Mean of Cross Val. score is  0.764\n",
      "taking cv = 6\n",
      "Cross validation score for  GaussianNB()  is [0.70658683 0.78443114 0.75449102 0.79640719 0.79518072 0.80120482]\n",
      "Mean of Cross Val. score is  0.7730502849722242\n",
      "taking cv = 7\n",
      "Cross validation score for  GaussianNB()  is [0.71328671 0.77622378 0.72027972 0.76923077 0.8041958  0.77622378\n",
      " 0.82394366]\n",
      "Mean of Cross Val. score is  0.7690548887731987\n",
      "taking cv = 8\n",
      "Cross validation score for  GaussianNB()  is [0.72  0.736 0.76  0.752 0.792 0.776 0.792 0.84 ]\n",
      "Mean of Cross Val. score is  0.771\n",
      "taking cv = 9\n",
      "Cross validation score for  GaussianNB()  is [0.70535714 0.69369369 0.79279279 0.73873874 0.79279279 0.8018018\n",
      " 0.72072072 0.81081081 0.83783784]\n",
      "Mean of Cross Val. score is  0.7660607035607035\n"
     ]
    }
   ],
   "source": [
    "from sklearn.model_selection import cross_val_score\n",
    "\n",
    "# validation accuracy\n",
    "model=[lr,dtc,rf,svc,knn,xgb,ada,gnb]\n",
    "\n",
    "for i in model:\n",
    "    for j in range(2,10):\n",
    "        print('taking cv =', j)\n",
    "        cr_score=cross_val_score(i, x, y, cv=j)\n",
    "        print('Cross validation score for ' , i ,' is', cr_score)\n",
    "        print('Mean of Cross Val. score is ', cr_score.mean())\n",
    "    "
   ]
  },
  {
   "cell_type": "markdown",
   "id": "0f1c021c",
   "metadata": {},
   "source": [
    "**It is observed that by taking cv = 5 and with Random Forest Classifier the model is performing good with 82.19%** which is near to the actual accuracy of the model validates for not overfitted model"
   ]
  },
  {
   "cell_type": "markdown",
   "id": "10a51823",
   "metadata": {},
   "source": [
    "# HyperParameterTuninng"
   ]
  },
  {
   "cell_type": "code",
   "execution_count": 90,
   "id": "4907896c",
   "metadata": {},
   "outputs": [],
   "source": [
    "from sklearn.model_selection import GridSearchCV\n",
    "\n",
    "#Creating parameter list to be passed in GridSearchCV\n",
    "\n",
    "parameters={'max_features':['auto','sqrt','log2'],\n",
    "            'max_depth':[4,5,6,7,8],\n",
    "            'criterion':['gini','entropy'], \n",
    "            'n_estimators': [100,200,300,400,500]}"
   ]
  },
  {
   "cell_type": "code",
   "execution_count": 91,
   "id": "0502e48b",
   "metadata": {},
   "outputs": [],
   "source": [
    "GCV=GridSearchCV(estimator=RandomForestClassifier(),\n",
    "                param_grid=parameters,\n",
    "                cv=5,\n",
    "                scoring='accuracy')"
   ]
  },
  {
   "cell_type": "code",
   "execution_count": 92,
   "id": "d8aed19e",
   "metadata": {},
   "outputs": [
    {
     "data": {
      "text/html": [
       "<style>#sk-container-id-4 {color: black;background-color: white;}#sk-container-id-4 pre{padding: 0;}#sk-container-id-4 div.sk-toggleable {background-color: white;}#sk-container-id-4 label.sk-toggleable__label {cursor: pointer;display: block;width: 100%;margin-bottom: 0;padding: 0.3em;box-sizing: border-box;text-align: center;}#sk-container-id-4 label.sk-toggleable__label-arrow:before {content: \"▸\";float: left;margin-right: 0.25em;color: #696969;}#sk-container-id-4 label.sk-toggleable__label-arrow:hover:before {color: black;}#sk-container-id-4 div.sk-estimator:hover label.sk-toggleable__label-arrow:before {color: black;}#sk-container-id-4 div.sk-toggleable__content {max-height: 0;max-width: 0;overflow: hidden;text-align: left;background-color: #f0f8ff;}#sk-container-id-4 div.sk-toggleable__content pre {margin: 0.2em;color: black;border-radius: 0.25em;background-color: #f0f8ff;}#sk-container-id-4 input.sk-toggleable__control:checked~div.sk-toggleable__content {max-height: 200px;max-width: 100%;overflow: auto;}#sk-container-id-4 input.sk-toggleable__control:checked~label.sk-toggleable__label-arrow:before {content: \"▾\";}#sk-container-id-4 div.sk-estimator input.sk-toggleable__control:checked~label.sk-toggleable__label {background-color: #d4ebff;}#sk-container-id-4 div.sk-label input.sk-toggleable__control:checked~label.sk-toggleable__label {background-color: #d4ebff;}#sk-container-id-4 input.sk-hidden--visually {border: 0;clip: rect(1px 1px 1px 1px);clip: rect(1px, 1px, 1px, 1px);height: 1px;margin: -1px;overflow: hidden;padding: 0;position: absolute;width: 1px;}#sk-container-id-4 div.sk-estimator {font-family: monospace;background-color: #f0f8ff;border: 1px dotted black;border-radius: 0.25em;box-sizing: border-box;margin-bottom: 0.5em;}#sk-container-id-4 div.sk-estimator:hover {background-color: #d4ebff;}#sk-container-id-4 div.sk-parallel-item::after {content: \"\";width: 100%;border-bottom: 1px solid gray;flex-grow: 1;}#sk-container-id-4 div.sk-label:hover label.sk-toggleable__label {background-color: #d4ebff;}#sk-container-id-4 div.sk-serial::before {content: \"\";position: absolute;border-left: 1px solid gray;box-sizing: border-box;top: 0;bottom: 0;left: 50%;z-index: 0;}#sk-container-id-4 div.sk-serial {display: flex;flex-direction: column;align-items: center;background-color: white;padding-right: 0.2em;padding-left: 0.2em;position: relative;}#sk-container-id-4 div.sk-item {position: relative;z-index: 1;}#sk-container-id-4 div.sk-parallel {display: flex;align-items: stretch;justify-content: center;background-color: white;position: relative;}#sk-container-id-4 div.sk-item::before, #sk-container-id-4 div.sk-parallel-item::before {content: \"\";position: absolute;border-left: 1px solid gray;box-sizing: border-box;top: 0;bottom: 0;left: 50%;z-index: -1;}#sk-container-id-4 div.sk-parallel-item {display: flex;flex-direction: column;z-index: 1;position: relative;background-color: white;}#sk-container-id-4 div.sk-parallel-item:first-child::after {align-self: flex-end;width: 50%;}#sk-container-id-4 div.sk-parallel-item:last-child::after {align-self: flex-start;width: 50%;}#sk-container-id-4 div.sk-parallel-item:only-child::after {width: 0;}#sk-container-id-4 div.sk-dashed-wrapped {border: 1px dashed gray;margin: 0 0.4em 0.5em 0.4em;box-sizing: border-box;padding-bottom: 0.4em;background-color: white;}#sk-container-id-4 div.sk-label label {font-family: monospace;font-weight: bold;display: inline-block;line-height: 1.2em;}#sk-container-id-4 div.sk-label-container {text-align: center;}#sk-container-id-4 div.sk-container {/* jupyter's `normalize.less` sets `[hidden] { display: none; }` but bootstrap.min.css set `[hidden] { display: none !important; }` so we also need the `!important` here to be able to override the default hidden behavior on the sphinx rendered scikit-learn.org. See: https://github.com/scikit-learn/scikit-learn/issues/21755 */display: inline-block !important;position: relative;}#sk-container-id-4 div.sk-text-repr-fallback {display: none;}</style><div id=\"sk-container-id-4\" class=\"sk-top-container\"><div class=\"sk-text-repr-fallback\"><pre>GridSearchCV(cv=5, estimator=RandomForestClassifier(),\n",
       "             param_grid={&#x27;criterion&#x27;: [&#x27;gini&#x27;, &#x27;entropy&#x27;],\n",
       "                         &#x27;max_depth&#x27;: [4, 5, 6, 7, 8],\n",
       "                         &#x27;max_features&#x27;: [&#x27;auto&#x27;, &#x27;sqrt&#x27;, &#x27;log2&#x27;],\n",
       "                         &#x27;n_estimators&#x27;: [100, 200, 300, 400, 500]},\n",
       "             scoring=&#x27;accuracy&#x27;)</pre><b>In a Jupyter environment, please rerun this cell to show the HTML representation or trust the notebook. <br />On GitHub, the HTML representation is unable to render, please try loading this page with nbviewer.org.</b></div><div class=\"sk-container\" hidden><div class=\"sk-item sk-dashed-wrapped\"><div class=\"sk-label-container\"><div class=\"sk-label sk-toggleable\"><input class=\"sk-toggleable__control sk-hidden--visually\" id=\"sk-estimator-id-6\" type=\"checkbox\" ><label for=\"sk-estimator-id-6\" class=\"sk-toggleable__label sk-toggleable__label-arrow\">GridSearchCV</label><div class=\"sk-toggleable__content\"><pre>GridSearchCV(cv=5, estimator=RandomForestClassifier(),\n",
       "             param_grid={&#x27;criterion&#x27;: [&#x27;gini&#x27;, &#x27;entropy&#x27;],\n",
       "                         &#x27;max_depth&#x27;: [4, 5, 6, 7, 8],\n",
       "                         &#x27;max_features&#x27;: [&#x27;auto&#x27;, &#x27;sqrt&#x27;, &#x27;log2&#x27;],\n",
       "                         &#x27;n_estimators&#x27;: [100, 200, 300, 400, 500]},\n",
       "             scoring=&#x27;accuracy&#x27;)</pre></div></div></div><div class=\"sk-parallel\"><div class=\"sk-parallel-item\"><div class=\"sk-item\"><div class=\"sk-label-container\"><div class=\"sk-label sk-toggleable\"><input class=\"sk-toggleable__control sk-hidden--visually\" id=\"sk-estimator-id-7\" type=\"checkbox\" ><label for=\"sk-estimator-id-7\" class=\"sk-toggleable__label sk-toggleable__label-arrow\">estimator: RandomForestClassifier</label><div class=\"sk-toggleable__content\"><pre>RandomForestClassifier()</pre></div></div></div><div class=\"sk-serial\"><div class=\"sk-item\"><div class=\"sk-estimator sk-toggleable\"><input class=\"sk-toggleable__control sk-hidden--visually\" id=\"sk-estimator-id-8\" type=\"checkbox\" ><label for=\"sk-estimator-id-8\" class=\"sk-toggleable__label sk-toggleable__label-arrow\">RandomForestClassifier</label><div class=\"sk-toggleable__content\"><pre>RandomForestClassifier()</pre></div></div></div></div></div></div></div></div></div></div>"
      ],
      "text/plain": [
       "GridSearchCV(cv=5, estimator=RandomForestClassifier(),\n",
       "             param_grid={'criterion': ['gini', 'entropy'],\n",
       "                         'max_depth': [4, 5, 6, 7, 8],\n",
       "                         'max_features': ['auto', 'sqrt', 'log2'],\n",
       "                         'n_estimators': [100, 200, 300, 400, 500]},\n",
       "             scoring='accuracy')"
      ]
     },
     "execution_count": 92,
     "metadata": {},
     "output_type": "execute_result"
    }
   ],
   "source": [
    "GCV.fit(x_train,y_train)"
   ]
  },
  {
   "cell_type": "code",
   "execution_count": 93,
   "id": "274ddc2a",
   "metadata": {},
   "outputs": [
    {
     "data": {
      "text/plain": [
       "{'criterion': 'gini',\n",
       " 'max_depth': 8,\n",
       " 'max_features': 'sqrt',\n",
       " 'n_estimators': 100}"
      ]
     },
     "execution_count": 93,
     "metadata": {},
     "output_type": "execute_result"
    }
   ],
   "source": [
    "GCV.best_params_"
   ]
  },
  {
   "cell_type": "code",
   "execution_count": 94,
   "id": "98d5f976",
   "metadata": {},
   "outputs": [
    {
     "data": {
      "text/html": [
       "<style>#sk-container-id-5 {color: black;background-color: white;}#sk-container-id-5 pre{padding: 0;}#sk-container-id-5 div.sk-toggleable {background-color: white;}#sk-container-id-5 label.sk-toggleable__label {cursor: pointer;display: block;width: 100%;margin-bottom: 0;padding: 0.3em;box-sizing: border-box;text-align: center;}#sk-container-id-5 label.sk-toggleable__label-arrow:before {content: \"▸\";float: left;margin-right: 0.25em;color: #696969;}#sk-container-id-5 label.sk-toggleable__label-arrow:hover:before {color: black;}#sk-container-id-5 div.sk-estimator:hover label.sk-toggleable__label-arrow:before {color: black;}#sk-container-id-5 div.sk-toggleable__content {max-height: 0;max-width: 0;overflow: hidden;text-align: left;background-color: #f0f8ff;}#sk-container-id-5 div.sk-toggleable__content pre {margin: 0.2em;color: black;border-radius: 0.25em;background-color: #f0f8ff;}#sk-container-id-5 input.sk-toggleable__control:checked~div.sk-toggleable__content {max-height: 200px;max-width: 100%;overflow: auto;}#sk-container-id-5 input.sk-toggleable__control:checked~label.sk-toggleable__label-arrow:before {content: \"▾\";}#sk-container-id-5 div.sk-estimator input.sk-toggleable__control:checked~label.sk-toggleable__label {background-color: #d4ebff;}#sk-container-id-5 div.sk-label input.sk-toggleable__control:checked~label.sk-toggleable__label {background-color: #d4ebff;}#sk-container-id-5 input.sk-hidden--visually {border: 0;clip: rect(1px 1px 1px 1px);clip: rect(1px, 1px, 1px, 1px);height: 1px;margin: -1px;overflow: hidden;padding: 0;position: absolute;width: 1px;}#sk-container-id-5 div.sk-estimator {font-family: monospace;background-color: #f0f8ff;border: 1px dotted black;border-radius: 0.25em;box-sizing: border-box;margin-bottom: 0.5em;}#sk-container-id-5 div.sk-estimator:hover {background-color: #d4ebff;}#sk-container-id-5 div.sk-parallel-item::after {content: \"\";width: 100%;border-bottom: 1px solid gray;flex-grow: 1;}#sk-container-id-5 div.sk-label:hover label.sk-toggleable__label {background-color: #d4ebff;}#sk-container-id-5 div.sk-serial::before {content: \"\";position: absolute;border-left: 1px solid gray;box-sizing: border-box;top: 0;bottom: 0;left: 50%;z-index: 0;}#sk-container-id-5 div.sk-serial {display: flex;flex-direction: column;align-items: center;background-color: white;padding-right: 0.2em;padding-left: 0.2em;position: relative;}#sk-container-id-5 div.sk-item {position: relative;z-index: 1;}#sk-container-id-5 div.sk-parallel {display: flex;align-items: stretch;justify-content: center;background-color: white;position: relative;}#sk-container-id-5 div.sk-item::before, #sk-container-id-5 div.sk-parallel-item::before {content: \"\";position: absolute;border-left: 1px solid gray;box-sizing: border-box;top: 0;bottom: 0;left: 50%;z-index: -1;}#sk-container-id-5 div.sk-parallel-item {display: flex;flex-direction: column;z-index: 1;position: relative;background-color: white;}#sk-container-id-5 div.sk-parallel-item:first-child::after {align-self: flex-end;width: 50%;}#sk-container-id-5 div.sk-parallel-item:last-child::after {align-self: flex-start;width: 50%;}#sk-container-id-5 div.sk-parallel-item:only-child::after {width: 0;}#sk-container-id-5 div.sk-dashed-wrapped {border: 1px dashed gray;margin: 0 0.4em 0.5em 0.4em;box-sizing: border-box;padding-bottom: 0.4em;background-color: white;}#sk-container-id-5 div.sk-label label {font-family: monospace;font-weight: bold;display: inline-block;line-height: 1.2em;}#sk-container-id-5 div.sk-label-container {text-align: center;}#sk-container-id-5 div.sk-container {/* jupyter's `normalize.less` sets `[hidden] { display: none; }` but bootstrap.min.css set `[hidden] { display: none !important; }` so we also need the `!important` here to be able to override the default hidden behavior on the sphinx rendered scikit-learn.org. See: https://github.com/scikit-learn/scikit-learn/issues/21755 */display: inline-block !important;position: relative;}#sk-container-id-5 div.sk-text-repr-fallback {display: none;}</style><div id=\"sk-container-id-5\" class=\"sk-top-container\"><div class=\"sk-text-repr-fallback\"><pre>RandomForestClassifier(max_depth=8)</pre><b>In a Jupyter environment, please rerun this cell to show the HTML representation or trust the notebook. <br />On GitHub, the HTML representation is unable to render, please try loading this page with nbviewer.org.</b></div><div class=\"sk-container\" hidden><div class=\"sk-item\"><div class=\"sk-estimator sk-toggleable\"><input class=\"sk-toggleable__control sk-hidden--visually\" id=\"sk-estimator-id-9\" type=\"checkbox\" checked><label for=\"sk-estimator-id-9\" class=\"sk-toggleable__label sk-toggleable__label-arrow\">RandomForestClassifier</label><div class=\"sk-toggleable__content\"><pre>RandomForestClassifier(max_depth=8)</pre></div></div></div></div></div>"
      ],
      "text/plain": [
       "RandomForestClassifier(max_depth=8)"
      ]
     },
     "execution_count": 94,
     "metadata": {},
     "output_type": "execute_result"
    }
   ],
   "source": [
    "GCV.best_estimator_"
   ]
  },
  {
   "cell_type": "code",
   "execution_count": 95,
   "id": "7bfe5b79",
   "metadata": {},
   "outputs": [
    {
     "name": "stdout",
     "output_type": "stream",
     "text": [
      "Final Accuracy is with Random Forest classifier =  0.855\n"
     ]
    }
   ],
   "source": [
    "final_model=RandomForestClassifier(criterion='gini',max_depth=8, max_features='sqrt', n_estimators=100)\n",
    "final_model.fit(x_train,y_train)\n",
    "predfinal=final_model.predict(x_test)\n",
    "print('Final Accuracy is with Random Forest classifier = ',accuracy_score(y_test,predfinal))"
   ]
  },
  {
   "cell_type": "markdown",
   "id": "b715da19",
   "metadata": {},
   "source": [
    "# AUC ROC"
   ]
  },
  {
   "cell_type": "markdown",
   "id": "5d7a71f2",
   "metadata": {},
   "source": [
    "**AUC ROC curve for best estimator**"
   ]
  },
  {
   "cell_type": "code",
   "execution_count": 96,
   "id": "9a4fb762",
   "metadata": {},
   "outputs": [
    {
     "data": {
      "text/plain": [
       "<function matplotlib.pyplot.show(close=None, block=None)>"
      ]
     },
     "execution_count": 96,
     "metadata": {},
     "output_type": "execute_result"
    },
    {
     "data": {
      "image/png": "[encoded data removed]",
      "text/plain": [
       "<Figure size 432x288 with 1 Axes>"
      ]
     },
     "metadata": {
      "needs_background": "light"
     },
     "output_type": "display_data"
    }
   ],
   "source": [
    "from sklearn.metrics import plot_roc_curve\n",
    "plot_roc_curve(GCV.best_estimator_,x_test,y_test)\n",
    "plt.title('AUC ROC Curve')\n",
    "plt.show"
   ]
  },
  {
   "cell_type": "markdown",
   "id": "8f4016ba",
   "metadata": {},
   "source": [
    "# Saving the model"
   ]
  },
  {
   "cell_type": "markdown",
   "id": "8e41e80e",
   "metadata": {},
   "source": [
    "**Since the model accuracy of previous Random Forest Classifier was more than the accuracy after the Hyperparameter tunning** hence saving theprevious model of random forest with Accuracy equal to 86.5% which is a far better model performance"
   ]
  },
  {
   "cell_type": "code",
   "execution_count": 97,
   "id": "9b208c03",
   "metadata": {},
   "outputs": [
    {
     "data": {
      "text/plain": [
       "['Titanic_rf.pkl']"
      ]
     },
     "execution_count": 97,
     "metadata": {},
     "output_type": "execute_result"
    }
   ],
   "source": [
    "import joblib\n",
    "joblib.dump(RandomForestClassifier(), \"Titanic_rf.pkl\")"
   ]
  },
  {
   "cell_type": "markdown",
   "id": "61fe7d01",
   "metadata": {},
   "source": [
    "# Conclusion"
   ]
  },
  {
   "cell_type": "code",
   "execution_count": 99,
   "id": "03500489",
   "metadata": {},
   "outputs": [
    {
     "data": {
      "text/html": [
       "<div>\n",
       "<style scoped>\n",
       "    .dataframe tbody tr th:only-of-type {\n",
       "        vertical-align: middle;\n",
       "    }\n",
       "\n",
       "    .dataframe tbody tr th {\n",
       "        vertical-align: top;\n",
       "    }\n",
       "\n",
       "    .dataframe thead th {\n",
       "        text-align: right;\n",
       "    }\n",
       "</style>\n",
       "<table border=\"1\" class=\"dataframe\">\n",
       "  <thead>\n",
       "    <tr style=\"text-align: right;\">\n",
       "      <th></th>\n",
       "      <th>Original</th>\n",
       "      <th>Predicted</th>\n",
       "    </tr>\n",
       "  </thead>\n",
       "  <tbody>\n",
       "    <tr>\n",
       "      <th>0</th>\n",
       "      <td>1</td>\n",
       "      <td>1</td>\n",
       "    </tr>\n",
       "    <tr>\n",
       "      <th>1</th>\n",
       "      <td>1</td>\n",
       "      <td>1</td>\n",
       "    </tr>\n",
       "    <tr>\n",
       "      <th>2</th>\n",
       "      <td>0</td>\n",
       "      <td>0</td>\n",
       "    </tr>\n",
       "    <tr>\n",
       "      <th>3</th>\n",
       "      <td>0</td>\n",
       "      <td>0</td>\n",
       "    </tr>\n",
       "    <tr>\n",
       "      <th>4</th>\n",
       "      <td>0</td>\n",
       "      <td>0</td>\n",
       "    </tr>\n",
       "    <tr>\n",
       "      <th>...</th>\n",
       "      <td>...</td>\n",
       "      <td>...</td>\n",
       "    </tr>\n",
       "    <tr>\n",
       "      <th>195</th>\n",
       "      <td>1</td>\n",
       "      <td>1</td>\n",
       "    </tr>\n",
       "    <tr>\n",
       "      <th>196</th>\n",
       "      <td>1</td>\n",
       "      <td>1</td>\n",
       "    </tr>\n",
       "    <tr>\n",
       "      <th>197</th>\n",
       "      <td>0</td>\n",
       "      <td>0</td>\n",
       "    </tr>\n",
       "    <tr>\n",
       "      <th>198</th>\n",
       "      <td>1</td>\n",
       "      <td>0</td>\n",
       "    </tr>\n",
       "    <tr>\n",
       "      <th>199</th>\n",
       "      <td>1</td>\n",
       "      <td>0</td>\n",
       "    </tr>\n",
       "  </tbody>\n",
       "</table>\n",
       "<p>200 rows × 2 columns</p>\n",
       "</div>"
      ],
      "text/plain": [
       "     Original  Predicted\n",
       "0           1          1\n",
       "1           1          1\n",
       "2           0          0\n",
       "3           0          0\n",
       "4           0          0\n",
       "..        ...        ...\n",
       "195         1          1\n",
       "196         1          1\n",
       "197         0          0\n",
       "198         1          0\n",
       "199         1          0\n",
       "\n",
       "[200 rows x 2 columns]"
      ]
     },
     "execution_count": 99,
     "metadata": {},
     "output_type": "execute_result"
    }
   ],
   "source": [
    "a=np.array(y_test)\n",
    "predicted=np.array(predrf)\n",
    "df_con=pd.DataFrame({'Original':a,'Predicted':predicted}, index=range(len(a)))\n",
    "df_con"
   ]
  },
  {
   "cell_type": "code",
   "execution_count": null,
   "id": "0ddb4627",
   "metadata": {},
   "outputs": [],
   "source": []
  }
 ],
 "metadata": {
  "kernelspec": {
   "display_name": "Python 3 (ipykernel)",
   "language": "python",
   "name": "python3"
  },
  "language_info": {
   "codemirror_mode": {
    "name": "ipython",
    "version": 3
   },
   "file_extension": ".py",
   "mimetype": "text/x-python",
   "name": "python",
   "nbconvert_exporter": "python",
   "pygments_lexer": "ipython3",
   "version": "3.9.12"
  }
 },
 "nbformat": 4,
 "nbformat_minor": 5
}
