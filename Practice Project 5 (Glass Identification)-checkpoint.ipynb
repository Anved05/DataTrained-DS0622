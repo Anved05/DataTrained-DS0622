{
 "cells": [
  {
   "cell_type": "markdown",
   "id": "de40db34",
   "metadata": {},
   "source": [
    "# Problem Statement"
   ]
  },
  {
   "cell_type": "markdown",
   "id": "16382f97",
   "metadata": {},
   "source": [
    "The dataset describes the chemical properties of glass and involves classifying samples of glass using their chemical properties as one of six classes. The dataset was credited to Vina Spiehler in 1987. The study of classification of types of glass was motivated by criminological investigation. At the scene of the crime, the glass left can be used as evidence...if it is correctly identified!"
   ]
  },
  {
   "cell_type": "code",
   "execution_count": 47,
   "id": "3bdba42e",
   "metadata": {},
   "outputs": [],
   "source": [
    "# Importing Libraries\n",
    "import pandas as pd\n",
    "import numpy as np\n",
    "import matplotlib.pyplot as plt\n",
    "import seaborn as sns\n",
    "\n",
    "import warnings\n",
    "warnings.filterwarnings('ignore')"
   ]
  },
  {
   "cell_type": "code",
   "execution_count": 48,
   "id": "e07b9dc9",
   "metadata": {},
   "outputs": [
    {
     "data": {
      "text/html": [
       "<div>\n",
       "<style scoped>\n",
       "    .dataframe tbody tr th:only-of-type {\n",
       "        vertical-align: middle;\n",
       "    }\n",
       "\n",
       "    .dataframe tbody tr th {\n",
       "        vertical-align: top;\n",
       "    }\n",
       "\n",
       "    .dataframe thead th {\n",
       "        text-align: right;\n",
       "    }\n",
       "</style>\n",
       "<table border=\"1\" class=\"dataframe\">\n",
       "  <thead>\n",
       "    <tr style=\"text-align: right;\">\n",
       "      <th></th>\n",
       "      <th>Id</th>\n",
       "      <th>RI</th>\n",
       "      <th>Na</th>\n",
       "      <th>Mg</th>\n",
       "      <th>Al</th>\n",
       "      <th>Si</th>\n",
       "      <th>K</th>\n",
       "      <th>Ca</th>\n",
       "      <th>Ba</th>\n",
       "      <th>Fe</th>\n",
       "      <th>Type</th>\n",
       "    </tr>\n",
       "  </thead>\n",
       "  <tbody>\n",
       "    <tr>\n",
       "      <th>0</th>\n",
       "      <td>1</td>\n",
       "      <td>1.52101</td>\n",
       "      <td>13.64</td>\n",
       "      <td>4.49</td>\n",
       "      <td>1.10</td>\n",
       "      <td>71.78</td>\n",
       "      <td>0.06</td>\n",
       "      <td>8.75</td>\n",
       "      <td>0.00</td>\n",
       "      <td>0.0</td>\n",
       "      <td>1</td>\n",
       "    </tr>\n",
       "    <tr>\n",
       "      <th>1</th>\n",
       "      <td>2</td>\n",
       "      <td>1.51761</td>\n",
       "      <td>13.89</td>\n",
       "      <td>3.60</td>\n",
       "      <td>1.36</td>\n",
       "      <td>72.73</td>\n",
       "      <td>0.48</td>\n",
       "      <td>7.83</td>\n",
       "      <td>0.00</td>\n",
       "      <td>0.0</td>\n",
       "      <td>1</td>\n",
       "    </tr>\n",
       "    <tr>\n",
       "      <th>2</th>\n",
       "      <td>3</td>\n",
       "      <td>1.51618</td>\n",
       "      <td>13.53</td>\n",
       "      <td>3.55</td>\n",
       "      <td>1.54</td>\n",
       "      <td>72.99</td>\n",
       "      <td>0.39</td>\n",
       "      <td>7.78</td>\n",
       "      <td>0.00</td>\n",
       "      <td>0.0</td>\n",
       "      <td>1</td>\n",
       "    </tr>\n",
       "    <tr>\n",
       "      <th>3</th>\n",
       "      <td>4</td>\n",
       "      <td>1.51766</td>\n",
       "      <td>13.21</td>\n",
       "      <td>3.69</td>\n",
       "      <td>1.29</td>\n",
       "      <td>72.61</td>\n",
       "      <td>0.57</td>\n",
       "      <td>8.22</td>\n",
       "      <td>0.00</td>\n",
       "      <td>0.0</td>\n",
       "      <td>1</td>\n",
       "    </tr>\n",
       "    <tr>\n",
       "      <th>4</th>\n",
       "      <td>5</td>\n",
       "      <td>1.51742</td>\n",
       "      <td>13.27</td>\n",
       "      <td>3.62</td>\n",
       "      <td>1.24</td>\n",
       "      <td>73.08</td>\n",
       "      <td>0.55</td>\n",
       "      <td>8.07</td>\n",
       "      <td>0.00</td>\n",
       "      <td>0.0</td>\n",
       "      <td>1</td>\n",
       "    </tr>\n",
       "    <tr>\n",
       "      <th>...</th>\n",
       "      <td>...</td>\n",
       "      <td>...</td>\n",
       "      <td>...</td>\n",
       "      <td>...</td>\n",
       "      <td>...</td>\n",
       "      <td>...</td>\n",
       "      <td>...</td>\n",
       "      <td>...</td>\n",
       "      <td>...</td>\n",
       "      <td>...</td>\n",
       "      <td>...</td>\n",
       "    </tr>\n",
       "    <tr>\n",
       "      <th>209</th>\n",
       "      <td>210</td>\n",
       "      <td>1.51623</td>\n",
       "      <td>14.14</td>\n",
       "      <td>0.00</td>\n",
       "      <td>2.88</td>\n",
       "      <td>72.61</td>\n",
       "      <td>0.08</td>\n",
       "      <td>9.18</td>\n",
       "      <td>1.06</td>\n",
       "      <td>0.0</td>\n",
       "      <td>7</td>\n",
       "    </tr>\n",
       "    <tr>\n",
       "      <th>210</th>\n",
       "      <td>211</td>\n",
       "      <td>1.51685</td>\n",
       "      <td>14.92</td>\n",
       "      <td>0.00</td>\n",
       "      <td>1.99</td>\n",
       "      <td>73.06</td>\n",
       "      <td>0.00</td>\n",
       "      <td>8.40</td>\n",
       "      <td>1.59</td>\n",
       "      <td>0.0</td>\n",
       "      <td>7</td>\n",
       "    </tr>\n",
       "    <tr>\n",
       "      <th>211</th>\n",
       "      <td>212</td>\n",
       "      <td>1.52065</td>\n",
       "      <td>14.36</td>\n",
       "      <td>0.00</td>\n",
       "      <td>2.02</td>\n",
       "      <td>73.42</td>\n",
       "      <td>0.00</td>\n",
       "      <td>8.44</td>\n",
       "      <td>1.64</td>\n",
       "      <td>0.0</td>\n",
       "      <td>7</td>\n",
       "    </tr>\n",
       "    <tr>\n",
       "      <th>212</th>\n",
       "      <td>213</td>\n",
       "      <td>1.51651</td>\n",
       "      <td>14.38</td>\n",
       "      <td>0.00</td>\n",
       "      <td>1.94</td>\n",
       "      <td>73.61</td>\n",
       "      <td>0.00</td>\n",
       "      <td>8.48</td>\n",
       "      <td>1.57</td>\n",
       "      <td>0.0</td>\n",
       "      <td>7</td>\n",
       "    </tr>\n",
       "    <tr>\n",
       "      <th>213</th>\n",
       "      <td>214</td>\n",
       "      <td>1.51711</td>\n",
       "      <td>14.23</td>\n",
       "      <td>0.00</td>\n",
       "      <td>2.08</td>\n",
       "      <td>73.36</td>\n",
       "      <td>0.00</td>\n",
       "      <td>8.62</td>\n",
       "      <td>1.67</td>\n",
       "      <td>0.0</td>\n",
       "      <td>7</td>\n",
       "    </tr>\n",
       "  </tbody>\n",
       "</table>\n",
       "<p>214 rows × 11 columns</p>\n",
       "</div>"
      ],
      "text/plain": [
       "      Id       RI     Na    Mg    Al     Si     K    Ca    Ba   Fe  Type\n",
       "0      1  1.52101  13.64  4.49  1.10  71.78  0.06  8.75  0.00  0.0     1\n",
       "1      2  1.51761  13.89  3.60  1.36  72.73  0.48  7.83  0.00  0.0     1\n",
       "2      3  1.51618  13.53  3.55  1.54  72.99  0.39  7.78  0.00  0.0     1\n",
       "3      4  1.51766  13.21  3.69  1.29  72.61  0.57  8.22  0.00  0.0     1\n",
       "4      5  1.51742  13.27  3.62  1.24  73.08  0.55  8.07  0.00  0.0     1\n",
       "..   ...      ...    ...   ...   ...    ...   ...   ...   ...  ...   ...\n",
       "209  210  1.51623  14.14  0.00  2.88  72.61  0.08  9.18  1.06  0.0     7\n",
       "210  211  1.51685  14.92  0.00  1.99  73.06  0.00  8.40  1.59  0.0     7\n",
       "211  212  1.52065  14.36  0.00  2.02  73.42  0.00  8.44  1.64  0.0     7\n",
       "212  213  1.51651  14.38  0.00  1.94  73.61  0.00  8.48  1.57  0.0     7\n",
       "213  214  1.51711  14.23  0.00  2.08  73.36  0.00  8.62  1.67  0.0     7\n",
       "\n",
       "[214 rows x 11 columns]"
      ]
     },
     "execution_count": 48,
     "metadata": {},
     "output_type": "execute_result"
    }
   ],
   "source": [
    "# Loding dataset\n",
    "df=pd.read_csv(\"Glass.CSV\")\n",
    "df"
   ]
  },
  {
   "cell_type": "code",
   "execution_count": 49,
   "id": "79db18ea",
   "metadata": {},
   "outputs": [
    {
     "data": {
      "text/html": [
       "<div>\n",
       "<style scoped>\n",
       "    .dataframe tbody tr th:only-of-type {\n",
       "        vertical-align: middle;\n",
       "    }\n",
       "\n",
       "    .dataframe tbody tr th {\n",
       "        vertical-align: top;\n",
       "    }\n",
       "\n",
       "    .dataframe thead th {\n",
       "        text-align: right;\n",
       "    }\n",
       "</style>\n",
       "<table border=\"1\" class=\"dataframe\">\n",
       "  <thead>\n",
       "    <tr style=\"text-align: right;\">\n",
       "      <th></th>\n",
       "      <th>Id</th>\n",
       "      <th>RI</th>\n",
       "      <th>Na</th>\n",
       "      <th>Mg</th>\n",
       "      <th>Al</th>\n",
       "      <th>Si</th>\n",
       "      <th>K</th>\n",
       "      <th>Ca</th>\n",
       "      <th>Ba</th>\n",
       "      <th>Fe</th>\n",
       "      <th>Type</th>\n",
       "      <th>Type of Glass</th>\n",
       "    </tr>\n",
       "  </thead>\n",
       "  <tbody>\n",
       "    <tr>\n",
       "      <th>0</th>\n",
       "      <td>1</td>\n",
       "      <td>1.52101</td>\n",
       "      <td>13.64</td>\n",
       "      <td>4.49</td>\n",
       "      <td>1.10</td>\n",
       "      <td>71.78</td>\n",
       "      <td>0.06</td>\n",
       "      <td>8.75</td>\n",
       "      <td>0.00</td>\n",
       "      <td>0.0</td>\n",
       "      <td>1</td>\n",
       "      <td>1</td>\n",
       "    </tr>\n",
       "    <tr>\n",
       "      <th>1</th>\n",
       "      <td>2</td>\n",
       "      <td>1.51761</td>\n",
       "      <td>13.89</td>\n",
       "      <td>3.60</td>\n",
       "      <td>1.36</td>\n",
       "      <td>72.73</td>\n",
       "      <td>0.48</td>\n",
       "      <td>7.83</td>\n",
       "      <td>0.00</td>\n",
       "      <td>0.0</td>\n",
       "      <td>1</td>\n",
       "      <td>1</td>\n",
       "    </tr>\n",
       "    <tr>\n",
       "      <th>2</th>\n",
       "      <td>3</td>\n",
       "      <td>1.51618</td>\n",
       "      <td>13.53</td>\n",
       "      <td>3.55</td>\n",
       "      <td>1.54</td>\n",
       "      <td>72.99</td>\n",
       "      <td>0.39</td>\n",
       "      <td>7.78</td>\n",
       "      <td>0.00</td>\n",
       "      <td>0.0</td>\n",
       "      <td>1</td>\n",
       "      <td>1</td>\n",
       "    </tr>\n",
       "    <tr>\n",
       "      <th>3</th>\n",
       "      <td>4</td>\n",
       "      <td>1.51766</td>\n",
       "      <td>13.21</td>\n",
       "      <td>3.69</td>\n",
       "      <td>1.29</td>\n",
       "      <td>72.61</td>\n",
       "      <td>0.57</td>\n",
       "      <td>8.22</td>\n",
       "      <td>0.00</td>\n",
       "      <td>0.0</td>\n",
       "      <td>1</td>\n",
       "      <td>1</td>\n",
       "    </tr>\n",
       "    <tr>\n",
       "      <th>4</th>\n",
       "      <td>5</td>\n",
       "      <td>1.51742</td>\n",
       "      <td>13.27</td>\n",
       "      <td>3.62</td>\n",
       "      <td>1.24</td>\n",
       "      <td>73.08</td>\n",
       "      <td>0.55</td>\n",
       "      <td>8.07</td>\n",
       "      <td>0.00</td>\n",
       "      <td>0.0</td>\n",
       "      <td>1</td>\n",
       "      <td>1</td>\n",
       "    </tr>\n",
       "    <tr>\n",
       "      <th>...</th>\n",
       "      <td>...</td>\n",
       "      <td>...</td>\n",
       "      <td>...</td>\n",
       "      <td>...</td>\n",
       "      <td>...</td>\n",
       "      <td>...</td>\n",
       "      <td>...</td>\n",
       "      <td>...</td>\n",
       "      <td>...</td>\n",
       "      <td>...</td>\n",
       "      <td>...</td>\n",
       "      <td>...</td>\n",
       "    </tr>\n",
       "    <tr>\n",
       "      <th>209</th>\n",
       "      <td>210</td>\n",
       "      <td>1.51623</td>\n",
       "      <td>14.14</td>\n",
       "      <td>0.00</td>\n",
       "      <td>2.88</td>\n",
       "      <td>72.61</td>\n",
       "      <td>0.08</td>\n",
       "      <td>9.18</td>\n",
       "      <td>1.06</td>\n",
       "      <td>0.0</td>\n",
       "      <td>7</td>\n",
       "      <td>2</td>\n",
       "    </tr>\n",
       "    <tr>\n",
       "      <th>210</th>\n",
       "      <td>211</td>\n",
       "      <td>1.51685</td>\n",
       "      <td>14.92</td>\n",
       "      <td>0.00</td>\n",
       "      <td>1.99</td>\n",
       "      <td>73.06</td>\n",
       "      <td>0.00</td>\n",
       "      <td>8.40</td>\n",
       "      <td>1.59</td>\n",
       "      <td>0.0</td>\n",
       "      <td>7</td>\n",
       "      <td>2</td>\n",
       "    </tr>\n",
       "    <tr>\n",
       "      <th>211</th>\n",
       "      <td>212</td>\n",
       "      <td>1.52065</td>\n",
       "      <td>14.36</td>\n",
       "      <td>0.00</td>\n",
       "      <td>2.02</td>\n",
       "      <td>73.42</td>\n",
       "      <td>0.00</td>\n",
       "      <td>8.44</td>\n",
       "      <td>1.64</td>\n",
       "      <td>0.0</td>\n",
       "      <td>7</td>\n",
       "      <td>2</td>\n",
       "    </tr>\n",
       "    <tr>\n",
       "      <th>212</th>\n",
       "      <td>213</td>\n",
       "      <td>1.51651</td>\n",
       "      <td>14.38</td>\n",
       "      <td>0.00</td>\n",
       "      <td>1.94</td>\n",
       "      <td>73.61</td>\n",
       "      <td>0.00</td>\n",
       "      <td>8.48</td>\n",
       "      <td>1.57</td>\n",
       "      <td>0.0</td>\n",
       "      <td>7</td>\n",
       "      <td>2</td>\n",
       "    </tr>\n",
       "    <tr>\n",
       "      <th>213</th>\n",
       "      <td>214</td>\n",
       "      <td>1.51711</td>\n",
       "      <td>14.23</td>\n",
       "      <td>0.00</td>\n",
       "      <td>2.08</td>\n",
       "      <td>73.36</td>\n",
       "      <td>0.00</td>\n",
       "      <td>8.62</td>\n",
       "      <td>1.67</td>\n",
       "      <td>0.0</td>\n",
       "      <td>7</td>\n",
       "      <td>2</td>\n",
       "    </tr>\n",
       "  </tbody>\n",
       "</table>\n",
       "<p>214 rows × 12 columns</p>\n",
       "</div>"
      ],
      "text/plain": [
       "      Id       RI     Na    Mg    Al     Si     K    Ca    Ba   Fe  Type  \\\n",
       "0      1  1.52101  13.64  4.49  1.10  71.78  0.06  8.75  0.00  0.0     1   \n",
       "1      2  1.51761  13.89  3.60  1.36  72.73  0.48  7.83  0.00  0.0     1   \n",
       "2      3  1.51618  13.53  3.55  1.54  72.99  0.39  7.78  0.00  0.0     1   \n",
       "3      4  1.51766  13.21  3.69  1.29  72.61  0.57  8.22  0.00  0.0     1   \n",
       "4      5  1.51742  13.27  3.62  1.24  73.08  0.55  8.07  0.00  0.0     1   \n",
       "..   ...      ...    ...   ...   ...    ...   ...   ...   ...  ...   ...   \n",
       "209  210  1.51623  14.14  0.00  2.88  72.61  0.08  9.18  1.06  0.0     7   \n",
       "210  211  1.51685  14.92  0.00  1.99  73.06  0.00  8.40  1.59  0.0     7   \n",
       "211  212  1.52065  14.36  0.00  2.02  73.42  0.00  8.44  1.64  0.0     7   \n",
       "212  213  1.51651  14.38  0.00  1.94  73.61  0.00  8.48  1.57  0.0     7   \n",
       "213  214  1.51711  14.23  0.00  2.08  73.36  0.00  8.62  1.67  0.0     7   \n",
       "\n",
       "     Type of Glass  \n",
       "0                1  \n",
       "1                1  \n",
       "2                1  \n",
       "3                1  \n",
       "4                1  \n",
       "..             ...  \n",
       "209              2  \n",
       "210              2  \n",
       "211              2  \n",
       "212              2  \n",
       "213              2  \n",
       "\n",
       "[214 rows x 12 columns]"
      ]
     },
     "execution_count": 49,
     "metadata": {},
     "output_type": "execute_result"
    }
   ],
   "source": [
    "# Creating a class of Window and non window glass from Type column\n",
    "df['Type of Glass'] = np.where(df['Type'] < 5, 1, 2)\n",
    "df"
   ]
  },
  {
   "cell_type": "code",
   "execution_count": 50,
   "id": "0ab5ec4f",
   "metadata": {},
   "outputs": [
    {
     "data": {
      "text/html": [
       "<div>\n",
       "<style scoped>\n",
       "    .dataframe tbody tr th:only-of-type {\n",
       "        vertical-align: middle;\n",
       "    }\n",
       "\n",
       "    .dataframe tbody tr th {\n",
       "        vertical-align: top;\n",
       "    }\n",
       "\n",
       "    .dataframe thead th {\n",
       "        text-align: right;\n",
       "    }\n",
       "</style>\n",
       "<table border=\"1\" class=\"dataframe\">\n",
       "  <thead>\n",
       "    <tr style=\"text-align: right;\">\n",
       "      <th></th>\n",
       "      <th>Id</th>\n",
       "      <th>RI</th>\n",
       "      <th>Na</th>\n",
       "      <th>Mg</th>\n",
       "      <th>Al</th>\n",
       "      <th>Si</th>\n",
       "      <th>K</th>\n",
       "      <th>Ca</th>\n",
       "      <th>Ba</th>\n",
       "      <th>Fe</th>\n",
       "      <th>Type</th>\n",
       "      <th>Type of Glass</th>\n",
       "    </tr>\n",
       "  </thead>\n",
       "  <tbody>\n",
       "    <tr>\n",
       "      <th>90</th>\n",
       "      <td>91</td>\n",
       "      <td>1.51841</td>\n",
       "      <td>12.93</td>\n",
       "      <td>3.74</td>\n",
       "      <td>1.11</td>\n",
       "      <td>72.28</td>\n",
       "      <td>0.64</td>\n",
       "      <td>8.96</td>\n",
       "      <td>0.0</td>\n",
       "      <td>0.22</td>\n",
       "      <td>2</td>\n",
       "      <td>1</td>\n",
       "    </tr>\n",
       "    <tr>\n",
       "      <th>84</th>\n",
       "      <td>85</td>\n",
       "      <td>1.51409</td>\n",
       "      <td>14.25</td>\n",
       "      <td>3.09</td>\n",
       "      <td>2.08</td>\n",
       "      <td>72.28</td>\n",
       "      <td>1.10</td>\n",
       "      <td>7.08</td>\n",
       "      <td>0.0</td>\n",
       "      <td>0.00</td>\n",
       "      <td>2</td>\n",
       "      <td>1</td>\n",
       "    </tr>\n",
       "    <tr>\n",
       "      <th>138</th>\n",
       "      <td>139</td>\n",
       "      <td>1.51674</td>\n",
       "      <td>12.79</td>\n",
       "      <td>3.52</td>\n",
       "      <td>1.54</td>\n",
       "      <td>73.36</td>\n",
       "      <td>0.66</td>\n",
       "      <td>7.90</td>\n",
       "      <td>0.0</td>\n",
       "      <td>0.00</td>\n",
       "      <td>2</td>\n",
       "      <td>1</td>\n",
       "    </tr>\n",
       "    <tr>\n",
       "      <th>153</th>\n",
       "      <td>154</td>\n",
       "      <td>1.51610</td>\n",
       "      <td>13.42</td>\n",
       "      <td>3.40</td>\n",
       "      <td>1.22</td>\n",
       "      <td>72.69</td>\n",
       "      <td>0.59</td>\n",
       "      <td>8.32</td>\n",
       "      <td>0.0</td>\n",
       "      <td>0.00</td>\n",
       "      <td>3</td>\n",
       "      <td>1</td>\n",
       "    </tr>\n",
       "    <tr>\n",
       "      <th>201</th>\n",
       "      <td>202</td>\n",
       "      <td>1.51653</td>\n",
       "      <td>11.95</td>\n",
       "      <td>0.00</td>\n",
       "      <td>1.19</td>\n",
       "      <td>75.18</td>\n",
       "      <td>2.70</td>\n",
       "      <td>8.93</td>\n",
       "      <td>0.0</td>\n",
       "      <td>0.00</td>\n",
       "      <td>7</td>\n",
       "      <td>2</td>\n",
       "    </tr>\n",
       "    <tr>\n",
       "      <th>...</th>\n",
       "      <td>...</td>\n",
       "      <td>...</td>\n",
       "      <td>...</td>\n",
       "      <td>...</td>\n",
       "      <td>...</td>\n",
       "      <td>...</td>\n",
       "      <td>...</td>\n",
       "      <td>...</td>\n",
       "      <td>...</td>\n",
       "      <td>...</td>\n",
       "      <td>...</td>\n",
       "      <td>...</td>\n",
       "    </tr>\n",
       "    <tr>\n",
       "      <th>37</th>\n",
       "      <td>38</td>\n",
       "      <td>1.51797</td>\n",
       "      <td>12.74</td>\n",
       "      <td>3.48</td>\n",
       "      <td>1.35</td>\n",
       "      <td>72.96</td>\n",
       "      <td>0.64</td>\n",
       "      <td>8.68</td>\n",
       "      <td>0.0</td>\n",
       "      <td>0.00</td>\n",
       "      <td>1</td>\n",
       "      <td>1</td>\n",
       "    </tr>\n",
       "    <tr>\n",
       "      <th>177</th>\n",
       "      <td>178</td>\n",
       "      <td>1.51937</td>\n",
       "      <td>13.79</td>\n",
       "      <td>2.41</td>\n",
       "      <td>1.19</td>\n",
       "      <td>72.76</td>\n",
       "      <td>0.00</td>\n",
       "      <td>9.77</td>\n",
       "      <td>0.0</td>\n",
       "      <td>0.00</td>\n",
       "      <td>6</td>\n",
       "      <td>2</td>\n",
       "    </tr>\n",
       "    <tr>\n",
       "      <th>45</th>\n",
       "      <td>46</td>\n",
       "      <td>1.51900</td>\n",
       "      <td>13.49</td>\n",
       "      <td>3.48</td>\n",
       "      <td>1.35</td>\n",
       "      <td>71.95</td>\n",
       "      <td>0.55</td>\n",
       "      <td>9.00</td>\n",
       "      <td>0.0</td>\n",
       "      <td>0.00</td>\n",
       "      <td>1</td>\n",
       "      <td>1</td>\n",
       "    </tr>\n",
       "    <tr>\n",
       "      <th>59</th>\n",
       "      <td>60</td>\n",
       "      <td>1.51754</td>\n",
       "      <td>13.39</td>\n",
       "      <td>3.66</td>\n",
       "      <td>1.19</td>\n",
       "      <td>72.79</td>\n",
       "      <td>0.57</td>\n",
       "      <td>8.27</td>\n",
       "      <td>0.0</td>\n",
       "      <td>0.11</td>\n",
       "      <td>1</td>\n",
       "      <td>1</td>\n",
       "    </tr>\n",
       "    <tr>\n",
       "      <th>127</th>\n",
       "      <td>128</td>\n",
       "      <td>1.52081</td>\n",
       "      <td>13.78</td>\n",
       "      <td>2.28</td>\n",
       "      <td>1.43</td>\n",
       "      <td>71.99</td>\n",
       "      <td>0.49</td>\n",
       "      <td>9.85</td>\n",
       "      <td>0.0</td>\n",
       "      <td>0.17</td>\n",
       "      <td>2</td>\n",
       "      <td>1</td>\n",
       "    </tr>\n",
       "  </tbody>\n",
       "</table>\n",
       "<p>214 rows × 12 columns</p>\n",
       "</div>"
      ],
      "text/plain": [
       "      Id       RI     Na    Mg    Al     Si     K    Ca   Ba    Fe  Type  \\\n",
       "90    91  1.51841  12.93  3.74  1.11  72.28  0.64  8.96  0.0  0.22     2   \n",
       "84    85  1.51409  14.25  3.09  2.08  72.28  1.10  7.08  0.0  0.00     2   \n",
       "138  139  1.51674  12.79  3.52  1.54  73.36  0.66  7.90  0.0  0.00     2   \n",
       "153  154  1.51610  13.42  3.40  1.22  72.69  0.59  8.32  0.0  0.00     3   \n",
       "201  202  1.51653  11.95  0.00  1.19  75.18  2.70  8.93  0.0  0.00     7   \n",
       "..   ...      ...    ...   ...   ...    ...   ...   ...  ...   ...   ...   \n",
       "37    38  1.51797  12.74  3.48  1.35  72.96  0.64  8.68  0.0  0.00     1   \n",
       "177  178  1.51937  13.79  2.41  1.19  72.76  0.00  9.77  0.0  0.00     6   \n",
       "45    46  1.51900  13.49  3.48  1.35  71.95  0.55  9.00  0.0  0.00     1   \n",
       "59    60  1.51754  13.39  3.66  1.19  72.79  0.57  8.27  0.0  0.11     1   \n",
       "127  128  1.52081  13.78  2.28  1.43  71.99  0.49  9.85  0.0  0.17     2   \n",
       "\n",
       "     Type of Glass  \n",
       "90               1  \n",
       "84               1  \n",
       "138              1  \n",
       "153              1  \n",
       "201              2  \n",
       "..             ...  \n",
       "37               1  \n",
       "177              2  \n",
       "45               1  \n",
       "59               1  \n",
       "127              1  \n",
       "\n",
       "[214 rows x 12 columns]"
      ]
     },
     "execution_count": 50,
     "metadata": {},
     "output_type": "execute_result"
    }
   ],
   "source": [
    "# Shuffling the database for better model learning\n",
    "df=df.sample(frac=1)\n",
    "df"
   ]
  },
  {
   "cell_type": "code",
   "execution_count": 51,
   "id": "f8b7b246",
   "metadata": {},
   "outputs": [
    {
     "data": {
      "text/plain": [
       "Id                 int64\n",
       "RI               float64\n",
       "Na               float64\n",
       "Mg               float64\n",
       "Al               float64\n",
       "Si               float64\n",
       "K                float64\n",
       "Ca               float64\n",
       "Ba               float64\n",
       "Fe               float64\n",
       "Type               int64\n",
       "Type of Glass      int32\n",
       "dtype: object"
      ]
     },
     "execution_count": 51,
     "metadata": {},
     "output_type": "execute_result"
    }
   ],
   "source": [
    "# Checking the datatype of columns\n",
    "df.dtypes"
   ]
  },
  {
   "cell_type": "markdown",
   "id": "29c88786",
   "metadata": {},
   "source": [
    "The data types are as per the data mentioned in the columns\n",
    "The chemical composition (wt. %) of the glass in given as columns are as follows\n",
    "RI,Na,Mg,Al,Si,K,Ca,Ba,Fe are in float\n",
    "and the target columns type and type of glass are in integer"
   ]
  },
  {
   "cell_type": "markdown",
   "id": "545aee64",
   "metadata": {},
   "source": [
    "**The Columns in the data are as follows** \n",
    "1. Id number: 1 to 214\n",
    "2. RI: refractive index\n",
    "3. Na: Sodium (unit measurement: weight percent in corresponding oxide, as are attributes 4-10)\n",
    "4. Mg: Magnesium\n",
    "5. Al: Aluminum\n",
    "6. Si: Silicon\n",
    "7. K: Potassium\n",
    "8. Ca: Calcium\n",
    "9. Ba: Barium\n",
    "10. Fe: Iron\n",
    "11. Type of glass: (class attribute)"
   ]
  },
  {
   "cell_type": "code",
   "execution_count": 52,
   "id": "fdc235ba",
   "metadata": {},
   "outputs": [
    {
     "data": {
      "text/plain": [
       "Id               0\n",
       "RI               0\n",
       "Na               0\n",
       "Mg               0\n",
       "Al               0\n",
       "Si               0\n",
       "K                0\n",
       "Ca               0\n",
       "Ba               0\n",
       "Fe               0\n",
       "Type             0\n",
       "Type of Glass    0\n",
       "dtype: int64"
      ]
     },
     "execution_count": 52,
     "metadata": {},
     "output_type": "execute_result"
    }
   ],
   "source": [
    "# Checking for null values in dataset\n",
    "df.isnull().sum()"
   ]
  },
  {
   "cell_type": "markdown",
   "id": "b9612ddd",
   "metadata": {},
   "source": [
    "No null values present in the dataset"
   ]
  },
  {
   "cell_type": "code",
   "execution_count": 53,
   "id": "ee3cc96f",
   "metadata": {
    "scrolled": true
   },
   "outputs": [
    {
     "data": {
      "text/html": [
       "<div>\n",
       "<style scoped>\n",
       "    .dataframe tbody tr th:only-of-type {\n",
       "        vertical-align: middle;\n",
       "    }\n",
       "\n",
       "    .dataframe tbody tr th {\n",
       "        vertical-align: top;\n",
       "    }\n",
       "\n",
       "    .dataframe thead th {\n",
       "        text-align: right;\n",
       "    }\n",
       "</style>\n",
       "<table border=\"1\" class=\"dataframe\">\n",
       "  <thead>\n",
       "    <tr style=\"text-align: right;\">\n",
       "      <th></th>\n",
       "      <th>Id</th>\n",
       "      <th>RI</th>\n",
       "      <th>Na</th>\n",
       "      <th>Mg</th>\n",
       "      <th>Al</th>\n",
       "      <th>Si</th>\n",
       "      <th>K</th>\n",
       "      <th>Ca</th>\n",
       "      <th>Ba</th>\n",
       "      <th>Fe</th>\n",
       "      <th>Type</th>\n",
       "      <th>Type of Glass</th>\n",
       "    </tr>\n",
       "  </thead>\n",
       "  <tbody>\n",
       "    <tr>\n",
       "      <th>count</th>\n",
       "      <td>214.000000</td>\n",
       "      <td>214.000000</td>\n",
       "      <td>214.000000</td>\n",
       "      <td>214.000000</td>\n",
       "      <td>214.000000</td>\n",
       "      <td>214.000000</td>\n",
       "      <td>214.000000</td>\n",
       "      <td>214.000000</td>\n",
       "      <td>214.000000</td>\n",
       "      <td>214.000000</td>\n",
       "      <td>214.000000</td>\n",
       "      <td>214.000000</td>\n",
       "    </tr>\n",
       "    <tr>\n",
       "      <th>mean</th>\n",
       "      <td>107.500000</td>\n",
       "      <td>1.518365</td>\n",
       "      <td>13.407850</td>\n",
       "      <td>2.684533</td>\n",
       "      <td>1.444907</td>\n",
       "      <td>72.650935</td>\n",
       "      <td>0.497056</td>\n",
       "      <td>8.956963</td>\n",
       "      <td>0.175047</td>\n",
       "      <td>0.057009</td>\n",
       "      <td>2.780374</td>\n",
       "      <td>1.238318</td>\n",
       "    </tr>\n",
       "    <tr>\n",
       "      <th>std</th>\n",
       "      <td>61.920648</td>\n",
       "      <td>0.003037</td>\n",
       "      <td>0.816604</td>\n",
       "      <td>1.442408</td>\n",
       "      <td>0.499270</td>\n",
       "      <td>0.774546</td>\n",
       "      <td>0.652192</td>\n",
       "      <td>1.423153</td>\n",
       "      <td>0.497219</td>\n",
       "      <td>0.097439</td>\n",
       "      <td>2.103739</td>\n",
       "      <td>0.427053</td>\n",
       "    </tr>\n",
       "    <tr>\n",
       "      <th>min</th>\n",
       "      <td>1.000000</td>\n",
       "      <td>1.511150</td>\n",
       "      <td>10.730000</td>\n",
       "      <td>0.000000</td>\n",
       "      <td>0.290000</td>\n",
       "      <td>69.810000</td>\n",
       "      <td>0.000000</td>\n",
       "      <td>5.430000</td>\n",
       "      <td>0.000000</td>\n",
       "      <td>0.000000</td>\n",
       "      <td>1.000000</td>\n",
       "      <td>1.000000</td>\n",
       "    </tr>\n",
       "    <tr>\n",
       "      <th>25%</th>\n",
       "      <td>54.250000</td>\n",
       "      <td>1.516522</td>\n",
       "      <td>12.907500</td>\n",
       "      <td>2.115000</td>\n",
       "      <td>1.190000</td>\n",
       "      <td>72.280000</td>\n",
       "      <td>0.122500</td>\n",
       "      <td>8.240000</td>\n",
       "      <td>0.000000</td>\n",
       "      <td>0.000000</td>\n",
       "      <td>1.000000</td>\n",
       "      <td>1.000000</td>\n",
       "    </tr>\n",
       "    <tr>\n",
       "      <th>50%</th>\n",
       "      <td>107.500000</td>\n",
       "      <td>1.517680</td>\n",
       "      <td>13.300000</td>\n",
       "      <td>3.480000</td>\n",
       "      <td>1.360000</td>\n",
       "      <td>72.790000</td>\n",
       "      <td>0.555000</td>\n",
       "      <td>8.600000</td>\n",
       "      <td>0.000000</td>\n",
       "      <td>0.000000</td>\n",
       "      <td>2.000000</td>\n",
       "      <td>1.000000</td>\n",
       "    </tr>\n",
       "    <tr>\n",
       "      <th>75%</th>\n",
       "      <td>160.750000</td>\n",
       "      <td>1.519157</td>\n",
       "      <td>13.825000</td>\n",
       "      <td>3.600000</td>\n",
       "      <td>1.630000</td>\n",
       "      <td>73.087500</td>\n",
       "      <td>0.610000</td>\n",
       "      <td>9.172500</td>\n",
       "      <td>0.000000</td>\n",
       "      <td>0.100000</td>\n",
       "      <td>3.000000</td>\n",
       "      <td>1.000000</td>\n",
       "    </tr>\n",
       "    <tr>\n",
       "      <th>max</th>\n",
       "      <td>214.000000</td>\n",
       "      <td>1.533930</td>\n",
       "      <td>17.380000</td>\n",
       "      <td>4.490000</td>\n",
       "      <td>3.500000</td>\n",
       "      <td>75.410000</td>\n",
       "      <td>6.210000</td>\n",
       "      <td>16.190000</td>\n",
       "      <td>3.150000</td>\n",
       "      <td>0.510000</td>\n",
       "      <td>7.000000</td>\n",
       "      <td>2.000000</td>\n",
       "    </tr>\n",
       "  </tbody>\n",
       "</table>\n",
       "</div>"
      ],
      "text/plain": [
       "               Id          RI          Na          Mg          Al          Si  \\\n",
       "count  214.000000  214.000000  214.000000  214.000000  214.000000  214.000000   \n",
       "mean   107.500000    1.518365   13.407850    2.684533    1.444907   72.650935   \n",
       "std     61.920648    0.003037    0.816604    1.442408    0.499270    0.774546   \n",
       "min      1.000000    1.511150   10.730000    0.000000    0.290000   69.810000   \n",
       "25%     54.250000    1.516522   12.907500    2.115000    1.190000   72.280000   \n",
       "50%    107.500000    1.517680   13.300000    3.480000    1.360000   72.790000   \n",
       "75%    160.750000    1.519157   13.825000    3.600000    1.630000   73.087500   \n",
       "max    214.000000    1.533930   17.380000    4.490000    3.500000   75.410000   \n",
       "\n",
       "                K          Ca          Ba          Fe        Type  \\\n",
       "count  214.000000  214.000000  214.000000  214.000000  214.000000   \n",
       "mean     0.497056    8.956963    0.175047    0.057009    2.780374   \n",
       "std      0.652192    1.423153    0.497219    0.097439    2.103739   \n",
       "min      0.000000    5.430000    0.000000    0.000000    1.000000   \n",
       "25%      0.122500    8.240000    0.000000    0.000000    1.000000   \n",
       "50%      0.555000    8.600000    0.000000    0.000000    2.000000   \n",
       "75%      0.610000    9.172500    0.000000    0.100000    3.000000   \n",
       "max      6.210000   16.190000    3.150000    0.510000    7.000000   \n",
       "\n",
       "       Type of Glass  \n",
       "count     214.000000  \n",
       "mean        1.238318  \n",
       "std         0.427053  \n",
       "min         1.000000  \n",
       "25%         1.000000  \n",
       "50%         1.000000  \n",
       "75%         1.000000  \n",
       "max         2.000000  "
      ]
     },
     "execution_count": 53,
     "metadata": {},
     "output_type": "execute_result"
    }
   ],
   "source": [
    "# using describe function\n",
    "df.describe()"
   ]
  },
  {
   "cell_type": "markdown",
   "id": "8c013d0d",
   "metadata": {},
   "source": [
    "**Observations are as follows**\n",
    "1.  The columns RI, Na are near normal distribution\n",
    "2. columns Mg, and Si are negatively skewed (left skewed)\n",
    "3. Columns Al, Fe are slighlty right skewed \n",
    "4. columns Ba,Ca,K are right skewed"
   ]
  },
  {
   "cell_type": "code",
   "execution_count": null,
   "id": "a9348323",
   "metadata": {},
   "outputs": [],
   "source": []
  },
  {
   "cell_type": "code",
   "execution_count": 54,
   "id": "3b9187fb",
   "metadata": {},
   "outputs": [
    {
     "data": {
      "text/plain": [
       "K                6.551648\n",
       "Ba               3.416425\n",
       "Ca               2.047054\n",
       "Fe               1.754327\n",
       "RI               1.625431\n",
       "Type of Glass    1.237086\n",
       "Type             1.114915\n",
       "Al               0.907290\n",
       "Na               0.454181\n",
       "Id               0.000000\n",
       "Si              -0.730447\n",
       "Mg              -1.152559\n",
       "dtype: float64"
      ]
     },
     "execution_count": 54,
     "metadata": {},
     "output_type": "execute_result"
    }
   ],
   "source": [
    "#Checking Skewness of the dataset\n",
    "df.skew().sort_values(ascending=False)"
   ]
  },
  {
   "cell_type": "markdown",
   "id": "27c7b4c4",
   "metadata": {},
   "source": [
    "# EDA"
   ]
  },
  {
   "cell_type": "code",
   "execution_count": 55,
   "id": "547773a8",
   "metadata": {},
   "outputs": [
    {
     "data": {
      "text/plain": [
       "<AxesSubplot:xlabel='K', ylabel='Count'>"
      ]
     },
     "execution_count": 55,
     "metadata": {},
     "output_type": "execute_result"
    },
    {
     "data": {
      "image/png": "[encoded data removed]",
      "text/plain": [
       "<Figure size 432x288 with 1 Axes>"
      ]
     },
     "metadata": {
      "needs_background": "light"
     },
     "output_type": "display_data"
    }
   ],
   "source": [
    "# Plotting the different columns for checking their distribution\n",
    "sns.histplot(data=df, x=\"K\",kde=True)"
   ]
  },
  {
   "cell_type": "markdown",
   "id": "9bbc3f86",
   "metadata": {},
   "source": [
    "The 'K' is right skewed may be some outliers present in the data"
   ]
  },
  {
   "cell_type": "code",
   "execution_count": 56,
   "id": "c2136d92",
   "metadata": {},
   "outputs": [
    {
     "data": {
      "text/plain": [
       "<AxesSubplot:xlabel='RI', ylabel='Count'>"
      ]
     },
     "execution_count": 56,
     "metadata": {},
     "output_type": "execute_result"
    },
    {
     "data": {
      "image/png": "[encoded data removed]",
      "text/plain": [
       "<Figure size 432x288 with 1 Axes>"
      ]
     },
     "metadata": {
      "needs_background": "light"
     },
     "output_type": "display_data"
    }
   ],
   "source": [
    "# hist plot of RI\n",
    "sns.histplot(data=df, x=\"RI\",kde=True)"
   ]
  },
  {
   "cell_type": "markdown",
   "id": "1cfb35ba",
   "metadata": {},
   "source": [
    "The data for RI isright skewed"
   ]
  },
  {
   "cell_type": "code",
   "execution_count": 57,
   "id": "ec271d79",
   "metadata": {},
   "outputs": [
    {
     "data": {
      "text/plain": [
       "<AxesSubplot:xlabel='Na', ylabel='Count'>"
      ]
     },
     "execution_count": 57,
     "metadata": {},
     "output_type": "execute_result"
    },
    {
     "data": {
      "image/png": "[encoded data removed]",
      "text/plain": [
       "<Figure size 432x288 with 1 Axes>"
      ]
     },
     "metadata": {
      "needs_background": "light"
     },
     "output_type": "display_data"
    }
   ],
   "source": [
    "# hist plot of Na\n",
    "sns.histplot(data=df, x=\"Na\",kde=True)"
   ]
  },
  {
   "cell_type": "markdown",
   "id": "15f8b3c7",
   "metadata": {},
   "source": [
    "Na columns is near normal"
   ]
  },
  {
   "cell_type": "code",
   "execution_count": 58,
   "id": "57aa6f49",
   "metadata": {},
   "outputs": [
    {
     "data": {
      "text/plain": [
       "<AxesSubplot:xlabel='Ba', ylabel='Count'>"
      ]
     },
     "execution_count": 58,
     "metadata": {},
     "output_type": "execute_result"
    },
    {
     "data": {
      "image/png": "[encoded data removed]",
      "text/plain": [
       "<Figure size 432x288 with 1 Axes>"
      ]
     },
     "metadata": {
      "needs_background": "light"
     },
     "output_type": "display_data"
    }
   ],
   "source": [
    "# hist plot of Ba\n",
    "sns.histplot(data=df, x=\"Ba\",kde=True)"
   ]
  },
  {
   "cell_type": "markdown",
   "id": "d5707b84",
   "metadata": {},
   "source": [
    "data is right skewed more for 'Ba'"
   ]
  },
  {
   "cell_type": "code",
   "execution_count": 59,
   "id": "b37ce36c",
   "metadata": {},
   "outputs": [
    {
     "data": {
      "text/plain": [
       "<AxesSubplot:xlabel='Ca', ylabel='Count'>"
      ]
     },
     "execution_count": 59,
     "metadata": {},
     "output_type": "execute_result"
    },
    {
     "data": {
      "image/png": "[encoded data removed]",
      "text/plain": [
       "<Figure size 432x288 with 1 Axes>"
      ]
     },
     "metadata": {
      "needs_background": "light"
     },
     "output_type": "display_data"
    }
   ],
   "source": [
    "# hist plot of Ca\n",
    "sns.histplot(data=df, x=\"Ca\",kde=True)"
   ]
  },
  {
   "cell_type": "markdown",
   "id": "529d73b4",
   "metadata": {},
   "source": [
    "'Ca' near normal distributed"
   ]
  },
  {
   "cell_type": "code",
   "execution_count": 60,
   "id": "9348a8db",
   "metadata": {},
   "outputs": [
    {
     "data": {
      "text/plain": [
       "<AxesSubplot:xlabel='Fe', ylabel='Count'>"
      ]
     },
     "execution_count": 60,
     "metadata": {},
     "output_type": "execute_result"
    },
    {
     "data": {
      "image/png": "[encoded data removed]",
      "text/plain": [
       "<Figure size 432x288 with 1 Axes>"
      ]
     },
     "metadata": {
      "needs_background": "light"
     },
     "output_type": "display_data"
    }
   ],
   "source": [
    "# hist plot of Fe\n",
    "sns.histplot(data=df, x=\"Fe\",kde=True)"
   ]
  },
  {
   "cell_type": "markdown",
   "id": "770a7ceb",
   "metadata": {},
   "source": [
    "Fe is also right skewed"
   ]
  },
  {
   "cell_type": "code",
   "execution_count": 61,
   "id": "01340fc6",
   "metadata": {},
   "outputs": [
    {
     "data": {
      "text/plain": [
       "<AxesSubplot:xlabel='Al', ylabel='Count'>"
      ]
     },
     "execution_count": 61,
     "metadata": {},
     "output_type": "execute_result"
    },
    {
     "data": {
      "image/png": "[encoded data removed]",
      "text/plain": [
       "<Figure size 432x288 with 1 Axes>"
      ]
     },
     "metadata": {
      "needs_background": "light"
     },
     "output_type": "display_data"
    }
   ],
   "source": [
    "# hist plot of Al\n",
    "sns.histplot(data=df, x=\"Al\",kde=True)"
   ]
  },
  {
   "cell_type": "markdown",
   "id": "88c86161",
   "metadata": {},
   "source": [
    "Al is skewed near normal "
   ]
  },
  {
   "cell_type": "code",
   "execution_count": 62,
   "id": "087c5a11",
   "metadata": {},
   "outputs": [
    {
     "data": {
      "text/plain": [
       "<AxesSubplot:xlabel='Si', ylabel='Count'>"
      ]
     },
     "execution_count": 62,
     "metadata": {},
     "output_type": "execute_result"
    },
    {
     "data": {
      "image/png": "[encoded data removed]",
      "text/plain": [
       "<Figure size 432x288 with 1 Axes>"
      ]
     },
     "metadata": {
      "needs_background": "light"
     },
     "output_type": "display_data"
    }
   ],
   "source": [
    "# hist plot of Si\n",
    "sns.histplot(data=df, x=\"Si\",kde=True)"
   ]
  },
  {
   "cell_type": "markdown",
   "id": "58ebda0b",
   "metadata": {},
   "source": [
    "Si is left skewed "
   ]
  },
  {
   "cell_type": "code",
   "execution_count": 63,
   "id": "d0d93894",
   "metadata": {},
   "outputs": [
    {
     "data": {
      "text/plain": [
       "<AxesSubplot:xlabel='Mg', ylabel='Count'>"
      ]
     },
     "execution_count": 63,
     "metadata": {},
     "output_type": "execute_result"
    },
    {
     "data": {
      "image/png": "[encoded data removed]",
      "text/plain": [
       "<Figure size 432x288 with 1 Axes>"
      ]
     },
     "metadata": {
      "needs_background": "light"
     },
     "output_type": "display_data"
    }
   ],
   "source": [
    "# hist plot of Mg\n",
    "sns.histplot(data=df, x=\"Mg\",kde=True)"
   ]
  },
  {
   "cell_type": "markdown",
   "id": "87b6879c",
   "metadata": {},
   "source": [
    "Mg is negatively skewed (left)"
   ]
  },
  {
   "cell_type": "code",
   "execution_count": 64,
   "id": "a195f702",
   "metadata": {},
   "outputs": [
    {
     "data": {
      "text/plain": [
       "array([[<AxesSubplot:ylabel='Density'>, <AxesSubplot:ylabel='Density'>,\n",
       "        <AxesSubplot:ylabel='Density'>],\n",
       "       [<AxesSubplot:ylabel='Density'>, <AxesSubplot:ylabel='Density'>,\n",
       "        <AxesSubplot:ylabel='Density'>],\n",
       "       [<AxesSubplot:ylabel='Density'>, <AxesSubplot:ylabel='Density'>,\n",
       "        <AxesSubplot:ylabel='Density'>],\n",
       "       [<AxesSubplot:ylabel='Density'>, <AxesSubplot:ylabel='Density'>,\n",
       "        <AxesSubplot:ylabel='Density'>],\n",
       "       [<AxesSubplot:ylabel='Density'>, <AxesSubplot:ylabel='Density'>,\n",
       "        <AxesSubplot:ylabel='Density'>],\n",
       "       [<AxesSubplot:ylabel='Density'>, <AxesSubplot:ylabel='Density'>,\n",
       "        <AxesSubplot:ylabel='Density'>]], dtype=object)"
      ]
     },
     "execution_count": 64,
     "metadata": {},
     "output_type": "execute_result"
    },
    {
     "data": {
      "image/png": "[encoded data removed]",
      "text/plain": [
       "<Figure size 1440x1080 with 18 Axes>"
      ]
     },
     "metadata": {
      "needs_background": "light"
     },
     "output_type": "display_data"
    }
   ],
   "source": [
    "#Checking Skewness with density graphs also\n",
    "df.plot(kind='density', subplots=True, layout=(6,3), sharex=False, legend=True, fontsize=2,figsize=(20,15))"
   ]
  },
  {
   "cell_type": "markdown",
   "id": "2c0d98b5",
   "metadata": {},
   "source": [
    "**It is showing the same results as discussed earlier**"
   ]
  },
  {
   "cell_type": "code",
   "execution_count": 65,
   "id": "6cd28e8d",
   "metadata": {},
   "outputs": [
    {
     "data": {
      "text/html": [
       "<div>\n",
       "<style scoped>\n",
       "    .dataframe tbody tr th:only-of-type {\n",
       "        vertical-align: middle;\n",
       "    }\n",
       "\n",
       "    .dataframe tbody tr th {\n",
       "        vertical-align: top;\n",
       "    }\n",
       "\n",
       "    .dataframe thead th {\n",
       "        text-align: right;\n",
       "    }\n",
       "</style>\n",
       "<table border=\"1\" class=\"dataframe\">\n",
       "  <thead>\n",
       "    <tr style=\"text-align: right;\">\n",
       "      <th></th>\n",
       "      <th>Id</th>\n",
       "      <th>RI</th>\n",
       "      <th>Na</th>\n",
       "      <th>Mg</th>\n",
       "      <th>Al</th>\n",
       "      <th>Si</th>\n",
       "      <th>K</th>\n",
       "      <th>Ca</th>\n",
       "      <th>Ba</th>\n",
       "      <th>Fe</th>\n",
       "      <th>Type</th>\n",
       "      <th>Type of Glass</th>\n",
       "    </tr>\n",
       "  </thead>\n",
       "  <tbody>\n",
       "    <tr>\n",
       "      <th>Id</th>\n",
       "      <td>1.000000</td>\n",
       "      <td>-0.072209</td>\n",
       "      <td>0.375722</td>\n",
       "      <td>-0.650328</td>\n",
       "      <td>0.490113</td>\n",
       "      <td>0.061232</td>\n",
       "      <td>0.003149</td>\n",
       "      <td>0.090800</td>\n",
       "      <td>0.451001</td>\n",
       "      <td>-0.072794</td>\n",
       "      <td>0.877357</td>\n",
       "      <td>0.737956</td>\n",
       "    </tr>\n",
       "    <tr>\n",
       "      <th>RI</th>\n",
       "      <td>-0.072209</td>\n",
       "      <td>1.000000</td>\n",
       "      <td>-0.191885</td>\n",
       "      <td>-0.122274</td>\n",
       "      <td>-0.407326</td>\n",
       "      <td>-0.542052</td>\n",
       "      <td>-0.289833</td>\n",
       "      <td>0.810403</td>\n",
       "      <td>-0.000386</td>\n",
       "      <td>0.143010</td>\n",
       "      <td>-0.164237</td>\n",
       "      <td>-0.134327</td>\n",
       "    </tr>\n",
       "    <tr>\n",
       "      <th>Na</th>\n",
       "      <td>0.375722</td>\n",
       "      <td>-0.191885</td>\n",
       "      <td>1.000000</td>\n",
       "      <td>-0.273732</td>\n",
       "      <td>0.156794</td>\n",
       "      <td>-0.069809</td>\n",
       "      <td>-0.266087</td>\n",
       "      <td>-0.275442</td>\n",
       "      <td>0.326603</td>\n",
       "      <td>-0.241346</td>\n",
       "      <td>0.502898</td>\n",
       "      <td>0.452336</td>\n",
       "    </tr>\n",
       "    <tr>\n",
       "      <th>Mg</th>\n",
       "      <td>-0.650328</td>\n",
       "      <td>-0.122274</td>\n",
       "      <td>-0.273732</td>\n",
       "      <td>1.000000</td>\n",
       "      <td>-0.481799</td>\n",
       "      <td>-0.165927</td>\n",
       "      <td>0.005396</td>\n",
       "      <td>-0.443750</td>\n",
       "      <td>-0.492262</td>\n",
       "      <td>0.083060</td>\n",
       "      <td>-0.744993</td>\n",
       "      <td>-0.758289</td>\n",
       "    </tr>\n",
       "    <tr>\n",
       "      <th>Al</th>\n",
       "      <td>0.490113</td>\n",
       "      <td>-0.407326</td>\n",
       "      <td>0.156794</td>\n",
       "      <td>-0.481799</td>\n",
       "      <td>1.000000</td>\n",
       "      <td>-0.005524</td>\n",
       "      <td>0.325958</td>\n",
       "      <td>-0.259592</td>\n",
       "      <td>0.479404</td>\n",
       "      <td>-0.074402</td>\n",
       "      <td>0.598829</td>\n",
       "      <td>0.585928</td>\n",
       "    </tr>\n",
       "    <tr>\n",
       "      <th>Si</th>\n",
       "      <td>0.061232</td>\n",
       "      <td>-0.542052</td>\n",
       "      <td>-0.069809</td>\n",
       "      <td>-0.165927</td>\n",
       "      <td>-0.005524</td>\n",
       "      <td>1.000000</td>\n",
       "      <td>-0.193331</td>\n",
       "      <td>-0.208732</td>\n",
       "      <td>-0.102151</td>\n",
       "      <td>-0.094201</td>\n",
       "      <td>0.151565</td>\n",
       "      <td>0.148072</td>\n",
       "    </tr>\n",
       "    <tr>\n",
       "      <th>K</th>\n",
       "      <td>0.003149</td>\n",
       "      <td>-0.289833</td>\n",
       "      <td>-0.266087</td>\n",
       "      <td>0.005396</td>\n",
       "      <td>0.325958</td>\n",
       "      <td>-0.193331</td>\n",
       "      <td>1.000000</td>\n",
       "      <td>-0.317836</td>\n",
       "      <td>-0.042618</td>\n",
       "      <td>-0.007719</td>\n",
       "      <td>-0.010054</td>\n",
       "      <td>0.053774</td>\n",
       "    </tr>\n",
       "    <tr>\n",
       "      <th>Ca</th>\n",
       "      <td>0.090800</td>\n",
       "      <td>0.810403</td>\n",
       "      <td>-0.275442</td>\n",
       "      <td>-0.443750</td>\n",
       "      <td>-0.259592</td>\n",
       "      <td>-0.208732</td>\n",
       "      <td>-0.317836</td>\n",
       "      <td>1.000000</td>\n",
       "      <td>-0.112841</td>\n",
       "      <td>0.124968</td>\n",
       "      <td>0.000952</td>\n",
       "      <td>0.040670</td>\n",
       "    </tr>\n",
       "    <tr>\n",
       "      <th>Ba</th>\n",
       "      <td>0.451001</td>\n",
       "      <td>-0.000386</td>\n",
       "      <td>0.326603</td>\n",
       "      <td>-0.492262</td>\n",
       "      <td>0.479404</td>\n",
       "      <td>-0.102151</td>\n",
       "      <td>-0.042618</td>\n",
       "      <td>-0.112841</td>\n",
       "      <td>1.000000</td>\n",
       "      <td>-0.058692</td>\n",
       "      <td>0.575161</td>\n",
       "      <td>0.523403</td>\n",
       "    </tr>\n",
       "    <tr>\n",
       "      <th>Fe</th>\n",
       "      <td>-0.072794</td>\n",
       "      <td>0.143010</td>\n",
       "      <td>-0.241346</td>\n",
       "      <td>0.083060</td>\n",
       "      <td>-0.074402</td>\n",
       "      <td>-0.094201</td>\n",
       "      <td>-0.007719</td>\n",
       "      <td>0.124968</td>\n",
       "      <td>-0.058692</td>\n",
       "      <td>1.000000</td>\n",
       "      <td>-0.188278</td>\n",
       "      <td>-0.194903</td>\n",
       "    </tr>\n",
       "    <tr>\n",
       "      <th>Type</th>\n",
       "      <td>0.877357</td>\n",
       "      <td>-0.164237</td>\n",
       "      <td>0.502898</td>\n",
       "      <td>-0.744993</td>\n",
       "      <td>0.598829</td>\n",
       "      <td>0.151565</td>\n",
       "      <td>-0.010054</td>\n",
       "      <td>0.000952</td>\n",
       "      <td>0.575161</td>\n",
       "      <td>-0.188278</td>\n",
       "      <td>1.000000</td>\n",
       "      <td>0.941680</td>\n",
       "    </tr>\n",
       "    <tr>\n",
       "      <th>Type of Glass</th>\n",
       "      <td>0.737956</td>\n",
       "      <td>-0.134327</td>\n",
       "      <td>0.452336</td>\n",
       "      <td>-0.758289</td>\n",
       "      <td>0.585928</td>\n",
       "      <td>0.148072</td>\n",
       "      <td>0.053774</td>\n",
       "      <td>0.040670</td>\n",
       "      <td>0.523403</td>\n",
       "      <td>-0.194903</td>\n",
       "      <td>0.941680</td>\n",
       "      <td>1.000000</td>\n",
       "    </tr>\n",
       "  </tbody>\n",
       "</table>\n",
       "</div>"
      ],
      "text/plain": [
       "                     Id        RI        Na        Mg        Al        Si  \\\n",
       "Id             1.000000 -0.072209  0.375722 -0.650328  0.490113  0.061232   \n",
       "RI            -0.072209  1.000000 -0.191885 -0.122274 -0.407326 -0.542052   \n",
       "Na             0.375722 -0.191885  1.000000 -0.273732  0.156794 -0.069809   \n",
       "Mg            -0.650328 -0.122274 -0.273732  1.000000 -0.481799 -0.165927   \n",
       "Al             0.490113 -0.407326  0.156794 -0.481799  1.000000 -0.005524   \n",
       "Si             0.061232 -0.542052 -0.069809 -0.165927 -0.005524  1.000000   \n",
       "K              0.003149 -0.289833 -0.266087  0.005396  0.325958 -0.193331   \n",
       "Ca             0.090800  0.810403 -0.275442 -0.443750 -0.259592 -0.208732   \n",
       "Ba             0.451001 -0.000386  0.326603 -0.492262  0.479404 -0.102151   \n",
       "Fe            -0.072794  0.143010 -0.241346  0.083060 -0.074402 -0.094201   \n",
       "Type           0.877357 -0.164237  0.502898 -0.744993  0.598829  0.151565   \n",
       "Type of Glass  0.737956 -0.134327  0.452336 -0.758289  0.585928  0.148072   \n",
       "\n",
       "                      K        Ca        Ba        Fe      Type  Type of Glass  \n",
       "Id             0.003149  0.090800  0.451001 -0.072794  0.877357       0.737956  \n",
       "RI            -0.289833  0.810403 -0.000386  0.143010 -0.164237      -0.134327  \n",
       "Na            -0.266087 -0.275442  0.326603 -0.241346  0.502898       0.452336  \n",
       "Mg             0.005396 -0.443750 -0.492262  0.083060 -0.744993      -0.758289  \n",
       "Al             0.325958 -0.259592  0.479404 -0.074402  0.598829       0.585928  \n",
       "Si            -0.193331 -0.208732 -0.102151 -0.094201  0.151565       0.148072  \n",
       "K              1.000000 -0.317836 -0.042618 -0.007719 -0.010054       0.053774  \n",
       "Ca            -0.317836  1.000000 -0.112841  0.124968  0.000952       0.040670  \n",
       "Ba            -0.042618 -0.112841  1.000000 -0.058692  0.575161       0.523403  \n",
       "Fe            -0.007719  0.124968 -0.058692  1.000000 -0.188278      -0.194903  \n",
       "Type          -0.010054  0.000952  0.575161 -0.188278  1.000000       0.941680  \n",
       "Type of Glass  0.053774  0.040670  0.523403 -0.194903  0.941680       1.000000  "
      ]
     },
     "execution_count": 65,
     "metadata": {},
     "output_type": "execute_result"
    }
   ],
   "source": [
    "# Correlation between the inputs as well as output\n",
    "corr_mat=df.corr()\n",
    "corr_mat"
   ]
  },
  {
   "cell_type": "code",
   "execution_count": 66,
   "id": "2e01f5be",
   "metadata": {},
   "outputs": [
    {
     "data": {
      "text/plain": [
       "<AxesSubplot:>"
      ]
     },
     "execution_count": 66,
     "metadata": {},
     "output_type": "execute_result"
    },
    {
     "data": {
      "image/png": "[encoded data removed]",
      "text/plain": [
       "<Figure size 720x504 with 2 Axes>"
      ]
     },
     "metadata": {
      "needs_background": "light"
     },
     "output_type": "display_data"
    }
   ],
   "source": [
    "# Heat map of correlation matrix\n",
    "plt.figure(figsize=(10,7))\n",
    "sns.heatmap(corr_mat,annot=True)"
   ]
  },
  {
   "cell_type": "markdown",
   "id": "2be1f16e",
   "metadata": {},
   "source": [
    "**From figure we can see that no multicollinearity present in data**"
   ]
  },
  {
   "cell_type": "code",
   "execution_count": 67,
   "id": "c9b6d8c2",
   "metadata": {},
   "outputs": [
    {
     "data": {
      "text/plain": [
       "Type of Glass    1.000000\n",
       "Type             0.941680\n",
       "Id               0.737956\n",
       "Al               0.585928\n",
       "Ba               0.523403\n",
       "Na               0.452336\n",
       "Si               0.148072\n",
       "K                0.053774\n",
       "Ca               0.040670\n",
       "RI              -0.134327\n",
       "Fe              -0.194903\n",
       "Mg              -0.758289\n",
       "Name: Type of Glass, dtype: float64"
      ]
     },
     "execution_count": 67,
     "metadata": {},
     "output_type": "execute_result"
    }
   ],
   "source": [
    "corr_mat['Type of Glass'].sort_values(ascending = False)"
   ]
  },
  {
   "cell_type": "markdown",
   "id": "1b16b9a6",
   "metadata": {},
   "source": [
    "**Obervations**\n",
    "(correlation with target column)\n",
    "\n",
    "1. Mg is 75.82% negatively correlated with Type of the glass\n",
    "2. Fe is 19.49% negatively correlated with type\n",
    "3. Ca, and K are having least correlation with type\n",
    "4. Si is 14.80% positively less correlated\n",
    "5. Na is 45.23% positively moderately correlated\n",
    "6. Ba is 52.34% positively moderately correlated\n",
    "7. Al is 58.59% positively moderately correalted\n",
    "8. RI is 13.43% negatively less correlated \n"
   ]
  },
  {
   "cell_type": "code",
   "execution_count": 68,
   "id": "807a121f",
   "metadata": {},
   "outputs": [
    {
     "data": {
      "text/plain": [
       "Id                  AxesSubplot(0.125,0.536818;0.110714x0.343182)\n",
       "RI               AxesSubplot(0.257857,0.536818;0.110714x0.343182)\n",
       "Na               AxesSubplot(0.390714,0.536818;0.110714x0.343182)\n",
       "Mg               AxesSubplot(0.523571,0.536818;0.110714x0.343182)\n",
       "Al               AxesSubplot(0.656429,0.536818;0.110714x0.343182)\n",
       "Si               AxesSubplot(0.789286,0.536818;0.110714x0.343182)\n",
       "K                      AxesSubplot(0.125,0.125;0.110714x0.343182)\n",
       "Ca                  AxesSubplot(0.257857,0.125;0.110714x0.343182)\n",
       "Ba                  AxesSubplot(0.390714,0.125;0.110714x0.343182)\n",
       "Fe                  AxesSubplot(0.523571,0.125;0.110714x0.343182)\n",
       "Type                AxesSubplot(0.656429,0.125;0.110714x0.343182)\n",
       "Type of Glass       AxesSubplot(0.789286,0.125;0.110714x0.343182)\n",
       "dtype: object"
      ]
     },
     "execution_count": 68,
     "metadata": {},
     "output_type": "execute_result"
    },
    {
     "data": {
      "text/plain": [
       "<Figure size 864x504 with 0 Axes>"
      ]
     },
     "metadata": {},
     "output_type": "display_data"
    },
    {
     "data": {
      "image/png": "[encoded data removed]",
      "text/plain": [
       "<Figure size 432x288 with 12 Axes>"
      ]
     },
     "metadata": {
      "needs_background": "light"
     },
     "output_type": "display_data"
    }
   ],
   "source": [
    "# Detecting the outliers by box plot\n",
    "# Taking Box plot\n",
    "plt.figure(figsize=(12,7))\n",
    "df.plot(kind='box', subplots=True, layout=(2,6))"
   ]
  },
  {
   "cell_type": "markdown",
   "id": "00f0a370",
   "metadata": {},
   "source": [
    "**observations**\n",
    "As we can see that RI, Na, Al, Si, K, Ca, Ba, Fe are having outliers \n",
    "we have to deal with the outliers"
   ]
  },
  {
   "cell_type": "markdown",
   "id": "606e929d",
   "metadata": {},
   "source": [
    "# Preprocessing the data"
   ]
  },
  {
   "cell_type": "markdown",
   "id": "dacc1c60",
   "metadata": {},
   "source": [
    "Dropping the column which do not add any information such as ID"
   ]
  },
  {
   "cell_type": "code",
   "execution_count": 69,
   "id": "542c5c4d",
   "metadata": {},
   "outputs": [
    {
     "data": {
      "text/html": [
       "<div>\n",
       "<style scoped>\n",
       "    .dataframe tbody tr th:only-of-type {\n",
       "        vertical-align: middle;\n",
       "    }\n",
       "\n",
       "    .dataframe tbody tr th {\n",
       "        vertical-align: top;\n",
       "    }\n",
       "\n",
       "    .dataframe thead th {\n",
       "        text-align: right;\n",
       "    }\n",
       "</style>\n",
       "<table border=\"1\" class=\"dataframe\">\n",
       "  <thead>\n",
       "    <tr style=\"text-align: right;\">\n",
       "      <th></th>\n",
       "      <th>RI</th>\n",
       "      <th>Na</th>\n",
       "      <th>Mg</th>\n",
       "      <th>Al</th>\n",
       "      <th>Si</th>\n",
       "      <th>K</th>\n",
       "      <th>Ca</th>\n",
       "      <th>Ba</th>\n",
       "      <th>Fe</th>\n",
       "      <th>Type</th>\n",
       "      <th>Type of Glass</th>\n",
       "    </tr>\n",
       "  </thead>\n",
       "  <tbody>\n",
       "    <tr>\n",
       "      <th>90</th>\n",
       "      <td>1.51841</td>\n",
       "      <td>12.93</td>\n",
       "      <td>3.74</td>\n",
       "      <td>1.11</td>\n",
       "      <td>72.28</td>\n",
       "      <td>0.64</td>\n",
       "      <td>8.96</td>\n",
       "      <td>0.0</td>\n",
       "      <td>0.22</td>\n",
       "      <td>2</td>\n",
       "      <td>1</td>\n",
       "    </tr>\n",
       "    <tr>\n",
       "      <th>84</th>\n",
       "      <td>1.51409</td>\n",
       "      <td>14.25</td>\n",
       "      <td>3.09</td>\n",
       "      <td>2.08</td>\n",
       "      <td>72.28</td>\n",
       "      <td>1.10</td>\n",
       "      <td>7.08</td>\n",
       "      <td>0.0</td>\n",
       "      <td>0.00</td>\n",
       "      <td>2</td>\n",
       "      <td>1</td>\n",
       "    </tr>\n",
       "    <tr>\n",
       "      <th>138</th>\n",
       "      <td>1.51674</td>\n",
       "      <td>12.79</td>\n",
       "      <td>3.52</td>\n",
       "      <td>1.54</td>\n",
       "      <td>73.36</td>\n",
       "      <td>0.66</td>\n",
       "      <td>7.90</td>\n",
       "      <td>0.0</td>\n",
       "      <td>0.00</td>\n",
       "      <td>2</td>\n",
       "      <td>1</td>\n",
       "    </tr>\n",
       "    <tr>\n",
       "      <th>153</th>\n",
       "      <td>1.51610</td>\n",
       "      <td>13.42</td>\n",
       "      <td>3.40</td>\n",
       "      <td>1.22</td>\n",
       "      <td>72.69</td>\n",
       "      <td>0.59</td>\n",
       "      <td>8.32</td>\n",
       "      <td>0.0</td>\n",
       "      <td>0.00</td>\n",
       "      <td>3</td>\n",
       "      <td>1</td>\n",
       "    </tr>\n",
       "    <tr>\n",
       "      <th>201</th>\n",
       "      <td>1.51653</td>\n",
       "      <td>11.95</td>\n",
       "      <td>0.00</td>\n",
       "      <td>1.19</td>\n",
       "      <td>75.18</td>\n",
       "      <td>2.70</td>\n",
       "      <td>8.93</td>\n",
       "      <td>0.0</td>\n",
       "      <td>0.00</td>\n",
       "      <td>7</td>\n",
       "      <td>2</td>\n",
       "    </tr>\n",
       "    <tr>\n",
       "      <th>...</th>\n",
       "      <td>...</td>\n",
       "      <td>...</td>\n",
       "      <td>...</td>\n",
       "      <td>...</td>\n",
       "      <td>...</td>\n",
       "      <td>...</td>\n",
       "      <td>...</td>\n",
       "      <td>...</td>\n",
       "      <td>...</td>\n",
       "      <td>...</td>\n",
       "      <td>...</td>\n",
       "    </tr>\n",
       "    <tr>\n",
       "      <th>37</th>\n",
       "      <td>1.51797</td>\n",
       "      <td>12.74</td>\n",
       "      <td>3.48</td>\n",
       "      <td>1.35</td>\n",
       "      <td>72.96</td>\n",
       "      <td>0.64</td>\n",
       "      <td>8.68</td>\n",
       "      <td>0.0</td>\n",
       "      <td>0.00</td>\n",
       "      <td>1</td>\n",
       "      <td>1</td>\n",
       "    </tr>\n",
       "    <tr>\n",
       "      <th>177</th>\n",
       "      <td>1.51937</td>\n",
       "      <td>13.79</td>\n",
       "      <td>2.41</td>\n",
       "      <td>1.19</td>\n",
       "      <td>72.76</td>\n",
       "      <td>0.00</td>\n",
       "      <td>9.77</td>\n",
       "      <td>0.0</td>\n",
       "      <td>0.00</td>\n",
       "      <td>6</td>\n",
       "      <td>2</td>\n",
       "    </tr>\n",
       "    <tr>\n",
       "      <th>45</th>\n",
       "      <td>1.51900</td>\n",
       "      <td>13.49</td>\n",
       "      <td>3.48</td>\n",
       "      <td>1.35</td>\n",
       "      <td>71.95</td>\n",
       "      <td>0.55</td>\n",
       "      <td>9.00</td>\n",
       "      <td>0.0</td>\n",
       "      <td>0.00</td>\n",
       "      <td>1</td>\n",
       "      <td>1</td>\n",
       "    </tr>\n",
       "    <tr>\n",
       "      <th>59</th>\n",
       "      <td>1.51754</td>\n",
       "      <td>13.39</td>\n",
       "      <td>3.66</td>\n",
       "      <td>1.19</td>\n",
       "      <td>72.79</td>\n",
       "      <td>0.57</td>\n",
       "      <td>8.27</td>\n",
       "      <td>0.0</td>\n",
       "      <td>0.11</td>\n",
       "      <td>1</td>\n",
       "      <td>1</td>\n",
       "    </tr>\n",
       "    <tr>\n",
       "      <th>127</th>\n",
       "      <td>1.52081</td>\n",
       "      <td>13.78</td>\n",
       "      <td>2.28</td>\n",
       "      <td>1.43</td>\n",
       "      <td>71.99</td>\n",
       "      <td>0.49</td>\n",
       "      <td>9.85</td>\n",
       "      <td>0.0</td>\n",
       "      <td>0.17</td>\n",
       "      <td>2</td>\n",
       "      <td>1</td>\n",
       "    </tr>\n",
       "  </tbody>\n",
       "</table>\n",
       "<p>214 rows × 11 columns</p>\n",
       "</div>"
      ],
      "text/plain": [
       "          RI     Na    Mg    Al     Si     K    Ca   Ba    Fe  Type  \\\n",
       "90   1.51841  12.93  3.74  1.11  72.28  0.64  8.96  0.0  0.22     2   \n",
       "84   1.51409  14.25  3.09  2.08  72.28  1.10  7.08  0.0  0.00     2   \n",
       "138  1.51674  12.79  3.52  1.54  73.36  0.66  7.90  0.0  0.00     2   \n",
       "153  1.51610  13.42  3.40  1.22  72.69  0.59  8.32  0.0  0.00     3   \n",
       "201  1.51653  11.95  0.00  1.19  75.18  2.70  8.93  0.0  0.00     7   \n",
       "..       ...    ...   ...   ...    ...   ...   ...  ...   ...   ...   \n",
       "37   1.51797  12.74  3.48  1.35  72.96  0.64  8.68  0.0  0.00     1   \n",
       "177  1.51937  13.79  2.41  1.19  72.76  0.00  9.77  0.0  0.00     6   \n",
       "45   1.51900  13.49  3.48  1.35  71.95  0.55  9.00  0.0  0.00     1   \n",
       "59   1.51754  13.39  3.66  1.19  72.79  0.57  8.27  0.0  0.11     1   \n",
       "127  1.52081  13.78  2.28  1.43  71.99  0.49  9.85  0.0  0.17     2   \n",
       "\n",
       "     Type of Glass  \n",
       "90               1  \n",
       "84               1  \n",
       "138              1  \n",
       "153              1  \n",
       "201              2  \n",
       "..             ...  \n",
       "37               1  \n",
       "177              2  \n",
       "45               1  \n",
       "59               1  \n",
       "127              1  \n",
       "\n",
       "[214 rows x 11 columns]"
      ]
     },
     "execution_count": 69,
     "metadata": {},
     "output_type": "execute_result"
    }
   ],
   "source": [
    "df=df.drop(['Id'], axis=1)\n",
    "df"
   ]
  },
  {
   "cell_type": "code",
   "execution_count": 70,
   "id": "687b7b4c",
   "metadata": {},
   "outputs": [
    {
     "data": {
      "text/html": [
       "<div>\n",
       "<style scoped>\n",
       "    .dataframe tbody tr th:only-of-type {\n",
       "        vertical-align: middle;\n",
       "    }\n",
       "\n",
       "    .dataframe tbody tr th {\n",
       "        vertical-align: top;\n",
       "    }\n",
       "\n",
       "    .dataframe thead th {\n",
       "        text-align: right;\n",
       "    }\n",
       "</style>\n",
       "<table border=\"1\" class=\"dataframe\">\n",
       "  <thead>\n",
       "    <tr style=\"text-align: right;\">\n",
       "      <th></th>\n",
       "      <th>RI</th>\n",
       "      <th>Na</th>\n",
       "      <th>Mg</th>\n",
       "      <th>Al</th>\n",
       "      <th>Si</th>\n",
       "      <th>K</th>\n",
       "      <th>Ca</th>\n",
       "      <th>Ba</th>\n",
       "      <th>Fe</th>\n",
       "    </tr>\n",
       "  </thead>\n",
       "  <tbody>\n",
       "    <tr>\n",
       "      <th>90</th>\n",
       "      <td>1.51841</td>\n",
       "      <td>12.93</td>\n",
       "      <td>3.74</td>\n",
       "      <td>1.11</td>\n",
       "      <td>72.28</td>\n",
       "      <td>0.64</td>\n",
       "      <td>8.96</td>\n",
       "      <td>0.0</td>\n",
       "      <td>0.22</td>\n",
       "    </tr>\n",
       "    <tr>\n",
       "      <th>84</th>\n",
       "      <td>1.51409</td>\n",
       "      <td>14.25</td>\n",
       "      <td>3.09</td>\n",
       "      <td>2.08</td>\n",
       "      <td>72.28</td>\n",
       "      <td>1.10</td>\n",
       "      <td>7.08</td>\n",
       "      <td>0.0</td>\n",
       "      <td>0.00</td>\n",
       "    </tr>\n",
       "    <tr>\n",
       "      <th>138</th>\n",
       "      <td>1.51674</td>\n",
       "      <td>12.79</td>\n",
       "      <td>3.52</td>\n",
       "      <td>1.54</td>\n",
       "      <td>73.36</td>\n",
       "      <td>0.66</td>\n",
       "      <td>7.90</td>\n",
       "      <td>0.0</td>\n",
       "      <td>0.00</td>\n",
       "    </tr>\n",
       "    <tr>\n",
       "      <th>153</th>\n",
       "      <td>1.51610</td>\n",
       "      <td>13.42</td>\n",
       "      <td>3.40</td>\n",
       "      <td>1.22</td>\n",
       "      <td>72.69</td>\n",
       "      <td>0.59</td>\n",
       "      <td>8.32</td>\n",
       "      <td>0.0</td>\n",
       "      <td>0.00</td>\n",
       "    </tr>\n",
       "    <tr>\n",
       "      <th>201</th>\n",
       "      <td>1.51653</td>\n",
       "      <td>11.95</td>\n",
       "      <td>0.00</td>\n",
       "      <td>1.19</td>\n",
       "      <td>75.18</td>\n",
       "      <td>2.70</td>\n",
       "      <td>8.93</td>\n",
       "      <td>0.0</td>\n",
       "      <td>0.00</td>\n",
       "    </tr>\n",
       "    <tr>\n",
       "      <th>...</th>\n",
       "      <td>...</td>\n",
       "      <td>...</td>\n",
       "      <td>...</td>\n",
       "      <td>...</td>\n",
       "      <td>...</td>\n",
       "      <td>...</td>\n",
       "      <td>...</td>\n",
       "      <td>...</td>\n",
       "      <td>...</td>\n",
       "    </tr>\n",
       "    <tr>\n",
       "      <th>37</th>\n",
       "      <td>1.51797</td>\n",
       "      <td>12.74</td>\n",
       "      <td>3.48</td>\n",
       "      <td>1.35</td>\n",
       "      <td>72.96</td>\n",
       "      <td>0.64</td>\n",
       "      <td>8.68</td>\n",
       "      <td>0.0</td>\n",
       "      <td>0.00</td>\n",
       "    </tr>\n",
       "    <tr>\n",
       "      <th>177</th>\n",
       "      <td>1.51937</td>\n",
       "      <td>13.79</td>\n",
       "      <td>2.41</td>\n",
       "      <td>1.19</td>\n",
       "      <td>72.76</td>\n",
       "      <td>0.00</td>\n",
       "      <td>9.77</td>\n",
       "      <td>0.0</td>\n",
       "      <td>0.00</td>\n",
       "    </tr>\n",
       "    <tr>\n",
       "      <th>45</th>\n",
       "      <td>1.51900</td>\n",
       "      <td>13.49</td>\n",
       "      <td>3.48</td>\n",
       "      <td>1.35</td>\n",
       "      <td>71.95</td>\n",
       "      <td>0.55</td>\n",
       "      <td>9.00</td>\n",
       "      <td>0.0</td>\n",
       "      <td>0.00</td>\n",
       "    </tr>\n",
       "    <tr>\n",
       "      <th>59</th>\n",
       "      <td>1.51754</td>\n",
       "      <td>13.39</td>\n",
       "      <td>3.66</td>\n",
       "      <td>1.19</td>\n",
       "      <td>72.79</td>\n",
       "      <td>0.57</td>\n",
       "      <td>8.27</td>\n",
       "      <td>0.0</td>\n",
       "      <td>0.11</td>\n",
       "    </tr>\n",
       "    <tr>\n",
       "      <th>127</th>\n",
       "      <td>1.52081</td>\n",
       "      <td>13.78</td>\n",
       "      <td>2.28</td>\n",
       "      <td>1.43</td>\n",
       "      <td>71.99</td>\n",
       "      <td>0.49</td>\n",
       "      <td>9.85</td>\n",
       "      <td>0.0</td>\n",
       "      <td>0.17</td>\n",
       "    </tr>\n",
       "  </tbody>\n",
       "</table>\n",
       "<p>214 rows × 9 columns</p>\n",
       "</div>"
      ],
      "text/plain": [
       "          RI     Na    Mg    Al     Si     K    Ca   Ba    Fe\n",
       "90   1.51841  12.93  3.74  1.11  72.28  0.64  8.96  0.0  0.22\n",
       "84   1.51409  14.25  3.09  2.08  72.28  1.10  7.08  0.0  0.00\n",
       "138  1.51674  12.79  3.52  1.54  73.36  0.66  7.90  0.0  0.00\n",
       "153  1.51610  13.42  3.40  1.22  72.69  0.59  8.32  0.0  0.00\n",
       "201  1.51653  11.95  0.00  1.19  75.18  2.70  8.93  0.0  0.00\n",
       "..       ...    ...   ...   ...    ...   ...   ...  ...   ...\n",
       "37   1.51797  12.74  3.48  1.35  72.96  0.64  8.68  0.0  0.00\n",
       "177  1.51937  13.79  2.41  1.19  72.76  0.00  9.77  0.0  0.00\n",
       "45   1.51900  13.49  3.48  1.35  71.95  0.55  9.00  0.0  0.00\n",
       "59   1.51754  13.39  3.66  1.19  72.79  0.57  8.27  0.0  0.11\n",
       "127  1.52081  13.78  2.28  1.43  71.99  0.49  9.85  0.0  0.17\n",
       "\n",
       "[214 rows x 9 columns]"
      ]
     },
     "execution_count": 70,
     "metadata": {},
     "output_type": "execute_result"
    }
   ],
   "source": [
    "#dividing data into inputs and output\n",
    "x=df.drop(['Type','Type of Glass'],axis=1)\n",
    "x"
   ]
  },
  {
   "cell_type": "code",
   "execution_count": 71,
   "id": "26dc8e37",
   "metadata": {},
   "outputs": [
    {
     "data": {
      "text/plain": [
       "90     1\n",
       "84     1\n",
       "138    1\n",
       "153    1\n",
       "201    2\n",
       "      ..\n",
       "37     1\n",
       "177    2\n",
       "45     1\n",
       "59     1\n",
       "127    1\n",
       "Name: Type of Glass, Length: 214, dtype: int32"
      ]
     },
     "execution_count": 71,
     "metadata": {},
     "output_type": "execute_result"
    }
   ],
   "source": [
    "y=df['Type of Glass']\n",
    "y"
   ]
  },
  {
   "cell_type": "code",
   "execution_count": 72,
   "id": "a5b4b809",
   "metadata": {},
   "outputs": [
    {
     "data": {
      "text/plain": [
       "(214, 9)"
      ]
     },
     "execution_count": 72,
     "metadata": {},
     "output_type": "execute_result"
    }
   ],
   "source": [
    "# Treating Outliers\n",
    "from scipy.stats import zscore\n",
    "z=np.abs(zscore(x))\n",
    "z.shape"
   ]
  },
  {
   "cell_type": "code",
   "execution_count": 73,
   "id": "fdce3127",
   "metadata": {},
   "outputs": [
    {
     "name": "stdout",
     "output_type": "stream",
     "text": [
      "(array([  4,   4,   5,   5,   5,   5,   5,  16,  35,  35,  49,  50,  56,\n",
      "        73,  74,  74,  74,  88, 119, 119, 120, 127, 127, 144, 152, 160,\n",
      "       160, 160, 161, 185, 185, 189, 200], dtype=int64), array([4, 5, 0, 1, 4, 6, 7, 6, 3, 5, 7, 8, 7, 6, 0, 4, 6, 8, 3, 5, 4, 0,\n",
      "       6, 6, 6, 3, 4, 7, 8, 1, 4, 7, 7], dtype=int64))\n"
     ]
    }
   ],
   "source": [
    "threshold=3\n",
    "print(np.where(z>3))"
   ]
  },
  {
   "cell_type": "code",
   "execution_count": 74,
   "id": "c2dbf402",
   "metadata": {},
   "outputs": [
    {
     "data": {
      "text/plain": [
       "(194, 9)"
      ]
     },
     "execution_count": 74,
     "metadata": {},
     "output_type": "execute_result"
    }
   ],
   "source": [
    "x=x[(z<3).all(axis=1)]\n",
    "x.shape"
   ]
  },
  {
   "cell_type": "code",
   "execution_count": 75,
   "id": "fabc993c",
   "metadata": {},
   "outputs": [
    {
     "data": {
      "text/plain": [
       "(194,)"
      ]
     },
     "execution_count": 75,
     "metadata": {},
     "output_type": "execute_result"
    }
   ],
   "source": [
    "y=y[(z<3).all(axis=1)]\n",
    "y.shape"
   ]
  },
  {
   "cell_type": "code",
   "execution_count": 76,
   "id": "9c07d800",
   "metadata": {},
   "outputs": [
    {
     "data": {
      "text/plain": [
       "9.345794392523365"
      ]
     },
     "execution_count": 76,
     "metadata": {},
     "output_type": "execute_result"
    }
   ],
   "source": [
    "# calculating percentage data loss\n",
    "loss=(214-194)/214*100\n",
    "loss"
   ]
  },
  {
   "cell_type": "markdown",
   "id": "8602ed83",
   "metadata": {},
   "source": [
    "**The outliers are removed because the dataloss is less than the 10%**"
   ]
  },
  {
   "cell_type": "code",
   "execution_count": 77,
   "id": "9faf4048",
   "metadata": {},
   "outputs": [
    {
     "data": {
      "text/plain": [
       "array([[ 6.93889390e-18, -7.09021316e-01,  8.19108209e-01, ...,\n",
       "         2.20294878e-01, -4.29499499e-01,  1.68475020e+00],\n",
       "       [-7.63278329e-17,  1.22681838e+00, -1.50350712e-01, ...,\n",
       "        -2.06165715e+00, -4.29499499e-01, -6.77737204e-01],\n",
       "       [-2.42861287e-17, -9.35832311e-01,  4.60718974e-01, ...,\n",
       "        -9.70442687e-01, -4.29499499e-01, -6.77737204e-01],\n",
       "       ...,\n",
       "       [ 1.73472348e-17,  1.54853285e-01,  3.98970384e-01, ...,\n",
       "         2.61196285e-01, -4.29499499e-01, -6.77737204e-01],\n",
       "       [-1.04083409e-17,  5.46852677e-03,  6.85066681e-01, ...,\n",
       "        -5.29809535e-01, -4.29499499e-01,  1.32904362e+00],\n",
       "       [ 5.55111512e-17,  5.76759179e-01, -1.01141841e+00, ...,\n",
       "         1.07202766e+00, -4.29499499e-01,  1.58948673e+00]])"
      ]
     },
     "execution_count": 77,
     "metadata": {},
     "output_type": "execute_result"
    }
   ],
   "source": [
    "# **Removing skewness**\n",
    "# Importing library to use PowerTransform\n",
    "from sklearn.preprocessing import power_transform\n",
    "x=power_transform(x,method='yeo-johnson')\n",
    "x"
   ]
  },
  {
   "cell_type": "code",
   "execution_count": 78,
   "id": "c0d1e44d",
   "metadata": {},
   "outputs": [
    {
     "data": {
      "text/plain": [
       "0    0.000000\n",
       "1   -0.016968\n",
       "2   -1.026009\n",
       "3    0.014042\n",
       "4    0.036397\n",
       "5    0.013983\n",
       "6   -0.081738\n",
       "7    1.971225\n",
       "8    0.858856\n",
       "dtype: float64"
      ]
     },
     "execution_count": 78,
     "metadata": {},
     "output_type": "execute_result"
    }
   ],
   "source": [
    "# checking again whether skewness is removed or not\n",
    "sk=pd.DataFrame(x)\n",
    "sk.skew()\n"
   ]
  },
  {
   "cell_type": "markdown",
   "id": "d8fcca86",
   "metadata": {},
   "source": [
    "**we can observe that the skewness is removed from data and and we have to acceppt that -1 to 2**"
   ]
  },
  {
   "cell_type": "code",
   "execution_count": 79,
   "id": "16c4f023",
   "metadata": {},
   "outputs": [
    {
     "data": {
      "text/plain": [
       "array([[ 0.14994287, -0.70902132,  0.81910821, ...,  0.22029488,\n",
       "        -0.4294995 ,  1.6847502 ],\n",
       "       [-1.81110773,  1.22681838, -0.15035071, ..., -2.06165715,\n",
       "        -0.4294995 , -0.6777372 ],\n",
       "       [-0.5854511 , -0.93583231,  0.46071897, ..., -0.97044269,\n",
       "        -0.4294995 , -0.6777372 ],\n",
       "       ...,\n",
       "       [ 0.3950742 ,  0.15485328,  0.39897038, ...,  0.26119628,\n",
       "        -0.4294995 , -0.6777372 ],\n",
       "       [-0.25860934,  0.00546853,  0.68506668, ..., -0.52980954,\n",
       "        -0.4294995 ,  1.32904362],\n",
       "       [ 1.29388906,  0.57675918, -1.01141841, ...,  1.07202766,\n",
       "        -0.4294995 ,  1.58948673]])"
      ]
     },
     "execution_count": 79,
     "metadata": {},
     "output_type": "execute_result"
    }
   ],
   "source": [
    "#scaling the data\n",
    "# importing libraries\n",
    "from sklearn.preprocessing import StandardScaler\n",
    "sc=StandardScaler()\n",
    "x=sc.fit_transform(x)\n",
    "x\n"
   ]
  },
  {
   "cell_type": "markdown",
   "id": "642a1510",
   "metadata": {},
   "source": [
    "# Balancing the data"
   ]
  },
  {
   "cell_type": "code",
   "execution_count": 80,
   "id": "40008234",
   "metadata": {},
   "outputs": [
    {
     "data": {
      "text/plain": [
       "1    154\n",
       "2     40\n",
       "Name: Type of Glass, dtype: int64"
      ]
     },
     "execution_count": 80,
     "metadata": {},
     "output_type": "execute_result"
    }
   ],
   "source": [
    "y.value_counts()"
   ]
  },
  {
   "cell_type": "code",
   "execution_count": 81,
   "id": "3e506c59",
   "metadata": {},
   "outputs": [
    {
     "data": {
      "text/plain": [
       "1    154\n",
       "2    154\n",
       "Name: Type of Glass, dtype: int64"
      ]
     },
     "execution_count": 81,
     "metadata": {},
     "output_type": "execute_result"
    }
   ],
   "source": [
    "# Importing Libraries for it \n",
    "from imblearn.over_sampling import SMOTE\n",
    "sm=SMOTE()\n",
    "x,y=sm.fit_resample(x,y)\n",
    "y.value_counts()"
   ]
  },
  {
   "cell_type": "markdown",
   "id": "c0cc4dea",
   "metadata": {},
   "source": [
    "# Modelling the data"
   ]
  },
  {
   "cell_type": "code",
   "execution_count": 82,
   "id": "22f54ae3",
   "metadata": {},
   "outputs": [],
   "source": [
    "# importing necessary libraries\n",
    "from sklearn.model_selection import train_test_split\n",
    "from sklearn.linear_model import LogisticRegression\n",
    "from sklearn.metrics import accuracy_score, confusion_matrix, classification_report\n",
    "lr=LogisticRegression()"
   ]
  },
  {
   "cell_type": "code",
   "execution_count": 83,
   "id": "8e0372e5",
   "metadata": {},
   "outputs": [
    {
     "name": "stdout",
     "output_type": "stream",
     "text": [
      "testing accuracy 0.9838709677419355 randon state 1\n",
      "max accuracy 0.9838709677419355 max_random_state 1\n",
      "testing accuracy 0.967741935483871 randon state 2\n",
      "testing accuracy 0.967741935483871 randon state 3\n",
      "testing accuracy 0.9838709677419355 randon state 4\n",
      "testing accuracy 1.0 randon state 5\n",
      "max accuracy 1.0 max_random_state 5\n",
      "testing accuracy 0.9516129032258065 randon state 6\n",
      "testing accuracy 0.9838709677419355 randon state 7\n",
      "testing accuracy 1.0 randon state 8\n",
      "testing accuracy 0.9354838709677419 randon state 9\n",
      "testing accuracy 0.967741935483871 randon state 10\n",
      "testing accuracy 1.0 randon state 11\n",
      "testing accuracy 0.9838709677419355 randon state 12\n",
      "testing accuracy 0.9516129032258065 randon state 13\n",
      "testing accuracy 0.967741935483871 randon state 14\n",
      "testing accuracy 0.9354838709677419 randon state 15\n",
      "testing accuracy 0.967741935483871 randon state 16\n",
      "testing accuracy 0.9354838709677419 randon state 17\n",
      "testing accuracy 0.967741935483871 randon state 18\n",
      "testing accuracy 0.9838709677419355 randon state 19\n",
      "testing accuracy 1.0 randon state 20\n",
      "testing accuracy 0.967741935483871 randon state 21\n",
      "testing accuracy 1.0 randon state 22\n",
      "testing accuracy 0.967741935483871 randon state 23\n",
      "testing accuracy 0.9838709677419355 randon state 24\n",
      "testing accuracy 0.9838709677419355 randon state 25\n",
      "testing accuracy 0.967741935483871 randon state 26\n",
      "testing accuracy 0.9838709677419355 randon state 27\n",
      "testing accuracy 0.967741935483871 randon state 28\n",
      "testing accuracy 0.967741935483871 randon state 29\n",
      "testing accuracy 0.9354838709677419 randon state 30\n",
      "testing accuracy 0.9838709677419355 randon state 31\n",
      "testing accuracy 0.967741935483871 randon state 32\n",
      "testing accuracy 0.9516129032258065 randon state 33\n",
      "testing accuracy 0.9516129032258065 randon state 34\n",
      "testing accuracy 0.9838709677419355 randon state 35\n",
      "testing accuracy 0.9516129032258065 randon state 36\n",
      "testing accuracy 0.967741935483871 randon state 37\n",
      "testing accuracy 0.9354838709677419 randon state 38\n",
      "testing accuracy 0.9838709677419355 randon state 39\n",
      "testing accuracy 0.9516129032258065 randon state 40\n",
      "testing accuracy 0.9838709677419355 randon state 41\n",
      "testing accuracy 1.0 randon state 42\n",
      "testing accuracy 0.967741935483871 randon state 43\n",
      "testing accuracy 0.9354838709677419 randon state 44\n",
      "testing accuracy 0.9838709677419355 randon state 45\n",
      "testing accuracy 0.9838709677419355 randon state 46\n",
      "testing accuracy 1.0 randon state 47\n",
      "testing accuracy 0.9838709677419355 randon state 48\n",
      "testing accuracy 0.9838709677419355 randon state 49\n",
      "testing accuracy 0.9354838709677419 randon state 50\n",
      "testing accuracy 0.9516129032258065 randon state 51\n",
      "testing accuracy 1.0 randon state 52\n",
      "testing accuracy 0.9838709677419355 randon state 53\n",
      "testing accuracy 0.9516129032258065 randon state 54\n",
      "testing accuracy 1.0 randon state 55\n",
      "testing accuracy 1.0 randon state 56\n",
      "testing accuracy 1.0 randon state 57\n",
      "testing accuracy 0.9838709677419355 randon state 58\n",
      "testing accuracy 0.9193548387096774 randon state 59\n",
      "testing accuracy 0.967741935483871 randon state 60\n",
      "testing accuracy 0.9838709677419355 randon state 61\n",
      "testing accuracy 0.9838709677419355 randon state 62\n",
      "testing accuracy 0.9838709677419355 randon state 63\n",
      "testing accuracy 1.0 randon state 64\n",
      "testing accuracy 0.9838709677419355 randon state 65\n",
      "testing accuracy 0.967741935483871 randon state 66\n",
      "testing accuracy 0.967741935483871 randon state 67\n",
      "testing accuracy 0.9354838709677419 randon state 68\n",
      "testing accuracy 0.9193548387096774 randon state 69\n",
      "testing accuracy 0.9516129032258065 randon state 70\n",
      "testing accuracy 0.9516129032258065 randon state 71\n",
      "testing accuracy 0.967741935483871 randon state 72\n",
      "testing accuracy 0.9838709677419355 randon state 73\n",
      "testing accuracy 0.967741935483871 randon state 74\n",
      "testing accuracy 0.967741935483871 randon state 75\n",
      "testing accuracy 0.9516129032258065 randon state 76\n",
      "testing accuracy 0.967741935483871 randon state 77\n",
      "testing accuracy 1.0 randon state 78\n",
      "testing accuracy 0.9516129032258065 randon state 79\n",
      "testing accuracy 0.967741935483871 randon state 80\n",
      "testing accuracy 1.0 randon state 81\n",
      "testing accuracy 0.967741935483871 randon state 82\n",
      "testing accuracy 1.0 randon state 83\n",
      "testing accuracy 0.967741935483871 randon state 84\n",
      "testing accuracy 0.967741935483871 randon state 85\n",
      "testing accuracy 0.9838709677419355 randon state 86\n",
      "testing accuracy 0.967741935483871 randon state 87\n",
      "testing accuracy 0.9516129032258065 randon state 88\n",
      "testing accuracy 0.967741935483871 randon state 89\n",
      "testing accuracy 1.0 randon state 90\n",
      "testing accuracy 0.967741935483871 randon state 91\n",
      "testing accuracy 1.0 randon state 92\n",
      "testing accuracy 0.9838709677419355 randon state 93\n",
      "testing accuracy 0.9516129032258065 randon state 94\n",
      "testing accuracy 0.9193548387096774 randon state 95\n",
      "testing accuracy 0.967741935483871 randon state 96\n",
      "testing accuracy 0.967741935483871 randon state 97\n",
      "testing accuracy 0.967741935483871 randon state 98\n",
      "testing accuracy 0.9838709677419355 randon state 99\n"
     ]
    }
   ],
   "source": [
    "# Finding the random state\n",
    "maxaccu=0\n",
    "maxrs=0\n",
    "for i in range(1,100):\n",
    "    xtrain,xtest,ytrain,ytest=train_test_split(x,y,test_size=.20, random_state=i)\n",
    "    lr.fit(xtrain,ytrain)\n",
    "    predlr=lr.predict(xtest)\n",
    "    acc=accuracy_score(ytest,predlr)\n",
    "    print('testing accuracy', acc, 'randon state',i)\n",
    "    \n",
    "    if acc>maxaccu:\n",
    "        maxaccu=acc\n",
    "        maxrs=i\n",
    "        print('max accuracy', maxaccu , 'max_random_state', i)"
   ]
  },
  {
   "cell_type": "code",
   "execution_count": 38,
   "id": "6313d6a0",
   "metadata": {},
   "outputs": [
    {
     "name": "stdout",
     "output_type": "stream",
     "text": [
      "max accuracy 1.0 max_random_state 99\n"
     ]
    }
   ],
   "source": [
    "print('max accuracy', maxaccu , 'max_random_state', i)"
   ]
  },
  {
   "cell_type": "markdown",
   "id": "71078d74",
   "metadata": {},
   "source": [
    "**Selecting the testing accuracy 1 at random state 42** "
   ]
  },
  {
   "cell_type": "markdown",
   "id": "f71b1d35",
   "metadata": {},
   "source": [
    "Train test Split according to random state came out"
   ]
  },
  {
   "cell_type": "code",
   "execution_count": 84,
   "id": "6fe70dac",
   "metadata": {},
   "outputs": [],
   "source": [
    "# train test split for the data with suggested random state\n",
    "x_train,x_test,y_train,y_test=train_test_split(x,y,test_size=.20,random_state=42)"
   ]
  },
  {
   "cell_type": "code",
   "execution_count": 85,
   "id": "d20b81ef",
   "metadata": {},
   "outputs": [
    {
     "data": {
      "text/plain": [
       "(246, 9)"
      ]
     },
     "execution_count": 85,
     "metadata": {},
     "output_type": "execute_result"
    }
   ],
   "source": [
    "x_train.shape"
   ]
  },
  {
   "cell_type": "code",
   "execution_count": 86,
   "id": "ec0b370f",
   "metadata": {},
   "outputs": [
    {
     "data": {
      "text/plain": [
       "(62, 9)"
      ]
     },
     "execution_count": 86,
     "metadata": {},
     "output_type": "execute_result"
    }
   ],
   "source": [
    "x_test.shape"
   ]
  },
  {
   "cell_type": "code",
   "execution_count": 87,
   "id": "1f47dbc3",
   "metadata": {},
   "outputs": [
    {
     "data": {
      "text/plain": [
       "(246,)"
      ]
     },
     "execution_count": 87,
     "metadata": {},
     "output_type": "execute_result"
    }
   ],
   "source": [
    "y_train.shape"
   ]
  },
  {
   "cell_type": "code",
   "execution_count": 88,
   "id": "50556238",
   "metadata": {},
   "outputs": [
    {
     "data": {
      "text/plain": [
       "(62,)"
      ]
     },
     "execution_count": 88,
     "metadata": {},
     "output_type": "execute_result"
    }
   ],
   "source": [
    "y_test.shape"
   ]
  },
  {
   "cell_type": "code",
   "execution_count": 89,
   "id": "682496a2",
   "metadata": {},
   "outputs": [
    {
     "name": "stdout",
     "output_type": "stream",
     "text": [
      "1.0\n",
      "[[31  0]\n",
      " [ 0 31]]\n",
      "              precision    recall  f1-score   support\n",
      "\n",
      "           1       1.00      1.00      1.00        31\n",
      "           2       1.00      1.00      1.00        31\n",
      "\n",
      "    accuracy                           1.00        62\n",
      "   macro avg       1.00      1.00      1.00        62\n",
      "weighted avg       1.00      1.00      1.00        62\n",
      "\n"
     ]
    }
   ],
   "source": [
    "# Checking score again for the the lr model \n",
    "lr=LogisticRegression()\n",
    "lr.fit(x_train,y_train)\n",
    "predlr=lr.predict(x_test)\n",
    "print(accuracy_score(y_test,predlr))\n",
    "print(confusion_matrix(y_test,predlr))\n",
    "print(classification_report(y_test,predlr))"
   ]
  },
  {
   "cell_type": "markdown",
   "id": "9ec57679",
   "metadata": {},
   "source": [
    "**AUC ROC Curve**"
   ]
  },
  {
   "cell_type": "code",
   "execution_count": 90,
   "id": "b119478f",
   "metadata": {},
   "outputs": [],
   "source": [
    "# Importing libraries\n",
    "from sklearn.metrics import roc_curve\n",
    "from sklearn.metrics import roc_auc_score"
   ]
  },
  {
   "cell_type": "code",
   "execution_count": 91,
   "id": "0b10e217",
   "metadata": {},
   "outputs": [
    {
     "data": {
      "image/png": "[encoded data removed]",
      "text/plain": [
       "<Figure size 432x288 with 1 Axes>"
      ]
     },
     "metadata": {
      "needs_background": "light"
     },
     "output_type": "display_data"
    },
    {
     "data": {
      "text/plain": [
       "1.0"
      ]
     },
     "execution_count": 91,
     "metadata": {},
     "output_type": "execute_result"
    }
   ],
   "source": [
    "#AUC ROC curve for Decision Tree Classifier\n",
    "y_pred_prob=lr.predict_proba(x_test)[:,1]\n",
    "fpr,tpr,threshold=roc_curve(y_test,y_pred_prob,pos_label=1)\n",
    "plt.plot([0,1],[0,1],'k--')\n",
    "plt.plot(fpr,tpr,label='Linear Regression')\n",
    "plt.xlabel('False positive rate')\n",
    "plt.ylabel('True positive rate')\n",
    "plt.title('Logistic Regression')\n",
    "plt.show()\n",
    "\n",
    "auc_score=roc_auc_score(y_test,lr.predict(x_test))\n",
    "\n",
    "auc_score"
   ]
  },
  {
   "cell_type": "code",
   "execution_count": 92,
   "id": "7e7e208b",
   "metadata": {},
   "outputs": [
    {
     "name": "stdout",
     "output_type": "stream",
     "text": [
      "0.9838709677419355\n",
      "[[31  0]\n",
      " [ 1 30]]\n",
      "              precision    recall  f1-score   support\n",
      "\n",
      "           1       0.97      1.00      0.98        31\n",
      "           2       1.00      0.97      0.98        31\n",
      "\n",
      "    accuracy                           0.98        62\n",
      "   macro avg       0.98      0.98      0.98        62\n",
      "weighted avg       0.98      0.98      0.98        62\n",
      "\n"
     ]
    }
   ],
   "source": [
    "# using DecisionTreeClassifier \n",
    "from sklearn.tree import DecisionTreeClassifier\n",
    "dtc=DecisionTreeClassifier()\n",
    "dtc.fit(x_train,y_train)\n",
    "preddtc=dtc.predict(x_test)\n",
    "print(accuracy_score(y_test,preddtc))\n",
    "print(confusion_matrix(y_test,preddtc))\n",
    "print(classification_report(y_test,preddtc))"
   ]
  },
  {
   "cell_type": "code",
   "execution_count": 94,
   "id": "d9bab98a",
   "metadata": {},
   "outputs": [
    {
     "data": {
      "image/png": "[encoded data removed]",
      "text/plain": [
       "<Figure size 432x288 with 1 Axes>"
      ]
     },
     "metadata": {
      "needs_background": "light"
     },
     "output_type": "display_data"
    },
    {
     "data": {
      "text/plain": [
       "0.9838709677419355"
      ]
     },
     "execution_count": 94,
     "metadata": {},
     "output_type": "execute_result"
    }
   ],
   "source": [
    "#AUC ROC curve for Decision Tree Classifier\n",
    "y_pred_prob=dtc.predict_proba(x_test)[:,1]\n",
    "fpr,tpr,threshold=roc_curve(y_test,y_pred_prob,pos_label=1)\n",
    "plt.plot([0,1],[0,1],'k--')\n",
    "plt.plot(fpr,tpr,label='Decision Tree Classifier')\n",
    "plt.xlabel('False positive rate')\n",
    "plt.ylabel('True positive rate')\n",
    "plt.title('Decision Tree Classifier')\n",
    "plt.show()\n",
    "\n",
    "auc_score=roc_auc_score(y_test,dtc.predict(x_test))\n",
    "\n",
    "auc_score"
   ]
  },
  {
   "cell_type": "code",
   "execution_count": 95,
   "id": "38506c21",
   "metadata": {},
   "outputs": [
    {
     "name": "stdout",
     "output_type": "stream",
     "text": [
      "0.967741935483871\n",
      "[[30  1]\n",
      " [ 1 30]]\n",
      "              precision    recall  f1-score   support\n",
      "\n",
      "           1       0.97      0.97      0.97        31\n",
      "           2       0.97      0.97      0.97        31\n",
      "\n",
      "    accuracy                           0.97        62\n",
      "   macro avg       0.97      0.97      0.97        62\n",
      "weighted avg       0.97      0.97      0.97        62\n",
      "\n"
     ]
    }
   ],
   "source": [
    "# Using RandomForestClassifier\n",
    "from sklearn.ensemble import RandomForestClassifier\n",
    "rf=RandomForestClassifier()\n",
    "rf.fit(x_train,y_train)\n",
    "predrf=rf.predict(x_test)\n",
    "print(accuracy_score(y_test,predrf))\n",
    "print(confusion_matrix(y_test,predrf))\n",
    "print(classification_report(y_test,predrf))"
   ]
  },
  {
   "cell_type": "code",
   "execution_count": 96,
   "id": "9b65070e",
   "metadata": {},
   "outputs": [
    {
     "data": {
      "image/png": "[encoded data removed]",
      "text/plain": [
       "<Figure size 432x288 with 1 Axes>"
      ]
     },
     "metadata": {
      "needs_background": "light"
     },
     "output_type": "display_data"
    },
    {
     "data": {
      "text/plain": [
       "0.967741935483871"
      ]
     },
     "execution_count": 96,
     "metadata": {},
     "output_type": "execute_result"
    }
   ],
   "source": [
    "#AUC ROC curve for Random Forest Classifier Classifier\n",
    "y_pred_prob=rf.predict_proba(x_test)[:,1]\n",
    "fpr,tpr,threshold=roc_curve(y_test,y_pred_prob,pos_label=1)\n",
    "plt.plot([0,1],[0,1],'k--')\n",
    "plt.plot(fpr,tpr,label='Random Forest Classifier')\n",
    "plt.xlabel('False positive rate')\n",
    "plt.ylabel('True positive rate')\n",
    "plt.title('Random Forest Classifier')\n",
    "plt.show()\n",
    "\n",
    "auc_score=roc_auc_score(y_test,rf.predict(x_test))\n",
    "\n",
    "auc_score"
   ]
  },
  {
   "cell_type": "code",
   "execution_count": 97,
   "id": "c62465a8",
   "metadata": {},
   "outputs": [
    {
     "name": "stdout",
     "output_type": "stream",
     "text": [
      "1.0\n",
      "[[31  0]\n",
      " [ 0 31]]\n",
      "              precision    recall  f1-score   support\n",
      "\n",
      "           1       1.00      1.00      1.00        31\n",
      "           2       1.00      1.00      1.00        31\n",
      "\n",
      "    accuracy                           1.00        62\n",
      "   macro avg       1.00      1.00      1.00        62\n",
      "weighted avg       1.00      1.00      1.00        62\n",
      "\n"
     ]
    }
   ],
   "source": [
    "# Using SVC\n",
    "from sklearn.svm import SVC\n",
    "svc=SVC(probability=True)\n",
    "svc.fit(x_train,y_train)\n",
    "predsvc=svc.predict(x_test)\n",
    "print(accuracy_score(y_test,predsvc))\n",
    "print(confusion_matrix(y_test,predsvc))\n",
    "print(classification_report(y_test,predsvc))"
   ]
  },
  {
   "cell_type": "code",
   "execution_count": 98,
   "id": "aa86d7c4",
   "metadata": {},
   "outputs": [
    {
     "data": {
      "image/png": "[encoded data removed]",
      "text/plain": [
       "<Figure size 432x288 with 1 Axes>"
      ]
     },
     "metadata": {
      "needs_background": "light"
     },
     "output_type": "display_data"
    },
    {
     "data": {
      "text/plain": [
       "1.0"
      ]
     },
     "execution_count": 98,
     "metadata": {},
     "output_type": "execute_result"
    }
   ],
   "source": [
    "#AUC ROC curve for  SVC\n",
    "y_pred_prob=svc.predict_proba(x_test)[:,1]\n",
    "fpr,tpr,threshold=roc_curve(y_test,y_pred_prob,pos_label=1)\n",
    "plt.plot([0,1],[0,1],'k--')\n",
    "plt.plot(fpr,tpr,label='SVC')\n",
    "plt.xlabel('False positive rate')\n",
    "plt.ylabel('True positive rate')\n",
    "plt.title('SVC')\n",
    "plt.show()\n",
    "\n",
    "auc_score=roc_auc_score(y_test,svc.predict(x_test))\n",
    "\n",
    "auc_score"
   ]
  },
  {
   "cell_type": "code",
   "execution_count": 99,
   "id": "698b5e51",
   "metadata": {},
   "outputs": [
    {
     "name": "stdout",
     "output_type": "stream",
     "text": [
      "1.0\n",
      "[[31  0]\n",
      " [ 0 31]]\n",
      "              precision    recall  f1-score   support\n",
      "\n",
      "           1       1.00      1.00      1.00        31\n",
      "           2       1.00      1.00      1.00        31\n",
      "\n",
      "    accuracy                           1.00        62\n",
      "   macro avg       1.00      1.00      1.00        62\n",
      "weighted avg       1.00      1.00      1.00        62\n",
      "\n"
     ]
    }
   ],
   "source": [
    "# Using KNN\n",
    "from sklearn.neighbors import KNeighborsClassifier\n",
    "knn=KNeighborsClassifier()\n",
    "knn.fit(x_train,y_train)\n",
    "predknn=knn.predict(x_test)\n",
    "print(accuracy_score(y_test,predknn))\n",
    "print(confusion_matrix(y_test,predknn))\n",
    "print(classification_report(y_test,predknn))"
   ]
  },
  {
   "cell_type": "code",
   "execution_count": 100,
   "id": "c8ad53a4",
   "metadata": {},
   "outputs": [
    {
     "data": {
      "image/png": "[encoded data removed]",
      "text/plain": [
       "<Figure size 432x288 with 1 Axes>"
      ]
     },
     "metadata": {
      "needs_background": "light"
     },
     "output_type": "display_data"
    },
    {
     "data": {
      "text/plain": [
       "1.0"
      ]
     },
     "execution_count": 100,
     "metadata": {},
     "output_type": "execute_result"
    }
   ],
   "source": [
    "#AUC ROC curve for  KNeighborsClassifier\n",
    "y_pred_prob=knn.predict_proba(x_test)[:,1]\n",
    "fpr,tpr,threshold=roc_curve(y_test,y_pred_prob,pos_label=1)\n",
    "plt.plot([0,1],[0,1],'k--')\n",
    "plt.plot(fpr,tpr,label='KNeighborsClassifier')\n",
    "plt.xlabel('False positive rate')\n",
    "plt.ylabel('True positive rate')\n",
    "plt.title('KNeighborsClassifier')\n",
    "plt.show()\n",
    "\n",
    "auc_score=roc_auc_score(y_test,knn.predict(x_test))\n",
    "\n",
    "auc_score"
   ]
  },
  {
   "cell_type": "code",
   "execution_count": 101,
   "id": "c5fdd0a8",
   "metadata": {},
   "outputs": [
    {
     "name": "stdout",
     "output_type": "stream",
     "text": [
      "1.0\n",
      "[[31  0]\n",
      " [ 0 31]]\n",
      "              precision    recall  f1-score   support\n",
      "\n",
      "           1       1.00      1.00      1.00        31\n",
      "           2       1.00      1.00      1.00        31\n",
      "\n",
      "    accuracy                           1.00        62\n",
      "   macro avg       1.00      1.00      1.00        62\n",
      "weighted avg       1.00      1.00      1.00        62\n",
      "\n"
     ]
    }
   ],
   "source": [
    "# Using GradientBoostingClassifier\n",
    "from sklearn.ensemble import GradientBoostingClassifier\n",
    "xgb=KNeighborsClassifier()\n",
    "xgb.fit(x_train,y_train)\n",
    "predxgb=xgb.predict(x_test)\n",
    "print(accuracy_score(y_test,predxgb))\n",
    "print(confusion_matrix(y_test,predxgb))\n",
    "print(classification_report(y_test,predxgb))"
   ]
  },
  {
   "cell_type": "code",
   "execution_count": 102,
   "id": "542442da",
   "metadata": {},
   "outputs": [
    {
     "data": {
      "image/png": "[encoded data removed]",
      "text/plain": [
       "<Figure size 432x288 with 1 Axes>"
      ]
     },
     "metadata": {
      "needs_background": "light"
     },
     "output_type": "display_data"
    },
    {
     "data": {
      "text/plain": [
       "1.0"
      ]
     },
     "execution_count": 102,
     "metadata": {},
     "output_type": "execute_result"
    }
   ],
   "source": [
    "#AUC ROC curve for  GradientBoostingClassifier\n",
    "y_pred_prob=xgb.predict_proba(x_test)[:,1]\n",
    "fpr,tpr,threshold=roc_curve(y_test,y_pred_prob,pos_label=1)\n",
    "plt.plot([0,1],[0,1],'k--')\n",
    "plt.plot(fpr,tpr,label='GradientBoostingClassifier')\n",
    "plt.xlabel('False positive rate')\n",
    "plt.ylabel('True positive rate')\n",
    "plt.title('GradientBoostingClassifier')\n",
    "plt.show()\n",
    "\n",
    "auc_score=roc_auc_score(y_test,xgb.predict(x_test))\n",
    "\n",
    "auc_score"
   ]
  },
  {
   "cell_type": "code",
   "execution_count": 103,
   "id": "8a9b7501",
   "metadata": {},
   "outputs": [
    {
     "name": "stdout",
     "output_type": "stream",
     "text": [
      "1.0\n",
      "[[31  0]\n",
      " [ 0 31]]\n",
      "              precision    recall  f1-score   support\n",
      "\n",
      "           1       1.00      1.00      1.00        31\n",
      "           2       1.00      1.00      1.00        31\n",
      "\n",
      "    accuracy                           1.00        62\n",
      "   macro avg       1.00      1.00      1.00        62\n",
      "weighted avg       1.00      1.00      1.00        62\n",
      "\n"
     ]
    }
   ],
   "source": [
    "# using AdaBoostClassifier\n",
    "from sklearn.ensemble import AdaBoostClassifier\n",
    "ada=KNeighborsClassifier()\n",
    "ada.fit(x_train,y_train)\n",
    "predada=ada.predict(x_test)\n",
    "print(accuracy_score(y_test,predada))\n",
    "print(confusion_matrix(y_test,predada))\n",
    "print(classification_report(y_test,predada))"
   ]
  },
  {
   "cell_type": "code",
   "execution_count": 104,
   "id": "10eab7df",
   "metadata": {},
   "outputs": [
    {
     "data": {
      "image/png": "[encoded data removed]",
      "text/plain": [
       "<Figure size 432x288 with 1 Axes>"
      ]
     },
     "metadata": {
      "needs_background": "light"
     },
     "output_type": "display_data"
    },
    {
     "data": {
      "text/plain": [
       "1.0"
      ]
     },
     "execution_count": 104,
     "metadata": {},
     "output_type": "execute_result"
    }
   ],
   "source": [
    "#AUC ROC curve for  AdaBoostClassifier\n",
    "y_pred_prob=ada.predict_proba(x_test)[:,1]\n",
    "fpr,tpr,threshold=roc_curve(y_test,y_pred_prob,pos_label=1)\n",
    "plt.plot([0,1],[0,1],'k--')\n",
    "plt.plot(fpr,tpr,label='AdaBoostClassifier')\n",
    "plt.xlabel('False positive rate')\n",
    "plt.ylabel('True positive rate')\n",
    "plt.title('AdaBoostClassifier')\n",
    "plt.show()\n",
    "\n",
    "auc_score=roc_auc_score(y_test,ada.predict(x_test))\n",
    "\n",
    "auc_score"
   ]
  },
  {
   "cell_type": "code",
   "execution_count": 105,
   "id": "01319499",
   "metadata": {},
   "outputs": [
    {
     "name": "stdout",
     "output_type": "stream",
     "text": [
      "1.0\n",
      "[[31  0]\n",
      " [ 0 31]]\n",
      "              precision    recall  f1-score   support\n",
      "\n",
      "           1       1.00      1.00      1.00        31\n",
      "           2       1.00      1.00      1.00        31\n",
      "\n",
      "    accuracy                           1.00        62\n",
      "   macro avg       1.00      1.00      1.00        62\n",
      "weighted avg       1.00      1.00      1.00        62\n",
      "\n"
     ]
    }
   ],
   "source": [
    "# Using Naive bayes (GaussianNB)\n",
    "from sklearn.naive_bayes import GaussianNB\n",
    "gnb = GaussianNB()\n",
    "gnb.fit(x_train, y_train)\n",
    "predgnb = gnb.predict(x_test)\n",
    "print(accuracy_score(y_test,predgnb))\n",
    "print(confusion_matrix(y_test,predgnb))\n",
    "print(classification_report(y_test,predgnb))"
   ]
  },
  {
   "cell_type": "code",
   "execution_count": 106,
   "id": "04ac6459",
   "metadata": {},
   "outputs": [
    {
     "data": {
      "image/png": "[encoded data removed]",
      "text/plain": [
       "<Figure size 432x288 with 1 Axes>"
      ]
     },
     "metadata": {
      "needs_background": "light"
     },
     "output_type": "display_data"
    },
    {
     "data": {
      "text/plain": [
       "1.0"
      ]
     },
     "execution_count": 106,
     "metadata": {},
     "output_type": "execute_result"
    }
   ],
   "source": [
    "#AUC ROC curve for  GaussianNB\n",
    "y_pred_prob=gnb.predict_proba(x_test)[:,1]\n",
    "fpr,tpr,threshold=roc_curve(y_test,y_pred_prob,pos_label=1)\n",
    "plt.plot([0,1],[0,1],'k--')\n",
    "plt.plot(fpr,tpr,label=' GaussianNB')\n",
    "plt.xlabel('False positive rate')\n",
    "plt.ylabel('True positive rate')\n",
    "plt.title(' GaussianNB')\n",
    "plt.show()\n",
    "\n",
    "auc_score=roc_auc_score(y_test,gnb.predict(x_test))\n",
    "\n",
    "auc_score"
   ]
  },
  {
   "cell_type": "markdown",
   "id": "dde2ba7f",
   "metadata": {},
   "source": [
    "**Observation**\n",
    "1. The AUC ROC score and the accuracy score are same for all the above models\n",
    "2. Except RandomForestClassifier and DecisionTreeClassifier all other models are giving accuracy 1"
   ]
  },
  {
   "cell_type": "markdown",
   "id": "f22f1cd9",
   "metadata": {},
   "source": [
    "# Cross Validation"
   ]
  },
  {
   "cell_type": "code",
   "execution_count": 107,
   "id": "0fb85d79",
   "metadata": {},
   "outputs": [
    {
     "name": "stdout",
     "output_type": "stream",
     "text": [
      "taking cv = 2\n",
      "Cross validation score for  LogisticRegression()  is [0.96103896 0.95454545]\n",
      "Mean of Cross Val. score is  0.9577922077922079\n",
      "taking cv = 3\n",
      "Cross validation score for  LogisticRegression()  is [0.97087379 0.99029126 0.94117647]\n",
      "Mean of Cross Val. score is  0.967447173043975\n",
      "taking cv = 4\n",
      "Cross validation score for  LogisticRegression()  is [0.96103896 0.94805195 0.97402597 0.94805195]\n",
      "Mean of Cross Val. score is  0.9577922077922078\n",
      "taking cv = 5\n",
      "Cross validation score for  LogisticRegression()  is [0.98387097 0.93548387 1.         0.96721311 0.96721311]\n",
      "Mean of Cross Val. score is  0.9707562136435748\n",
      "taking cv = 6\n",
      "Cross validation score for  LogisticRegression()  is [0.98076923 0.96153846 0.98039216 1.         0.92156863 0.98039216]\n",
      "Mean of Cross Val. score is  0.9707767722473605\n",
      "taking cv = 7\n",
      "Cross validation score for  LogisticRegression()  is [0.97727273 0.95454545 0.95454545 1.         1.         0.90909091\n",
      " 0.97727273]\n",
      "Mean of Cross Val. score is  0.9675324675324676\n",
      "taking cv = 8\n",
      "Cross validation score for  LogisticRegression()  is [0.97435897 0.94871795 0.97435897 0.97435897 1.         0.94736842\n",
      " 0.94736842 0.97368421]\n",
      "Mean of Cross Val. score is  0.9675269905533063\n",
      "taking cv = 9\n",
      "Cross validation score for  LogisticRegression()  is [1.         0.94285714 0.97058824 0.97058824 1.         1.\n",
      " 0.94117647 0.97058824 0.97058824]\n",
      "Mean of Cross Val. score is  0.9740429505135386\n",
      "taking cv = 2\n",
      "Cross validation score for  DecisionTreeClassifier()  is [0.94805195 0.94155844]\n",
      "Mean of Cross Val. score is  0.9448051948051948\n",
      "taking cv = 3\n",
      "Cross validation score for  DecisionTreeClassifier()  is [0.95145631 0.99029126 0.92156863]\n",
      "Mean of Cross Val. score is  0.9544387334221714\n",
      "taking cv = 4\n",
      "Cross validation score for  DecisionTreeClassifier()  is [0.97402597 0.93506494 0.94805195 0.8961039 ]\n",
      "Mean of Cross Val. score is  0.9383116883116883\n",
      "taking cv = 5\n",
      "Cross validation score for  DecisionTreeClassifier()  is [0.96774194 0.91935484 0.98387097 0.93442623 0.93442623]\n",
      "Mean of Cross Val. score is  0.9479640401903755\n",
      "taking cv = 6\n",
      "Cross validation score for  DecisionTreeClassifier()  is [0.94230769 0.94230769 0.98039216 1.         0.92156863 0.98039216]\n",
      "Mean of Cross Val. score is  0.9611613876319759\n",
      "taking cv = 7\n",
      "Cross validation score for  DecisionTreeClassifier()  is [0.93181818 0.97727273 0.90909091 1.         0.97727273 0.88636364\n",
      " 0.97727273]\n",
      "Mean of Cross Val. score is  0.9512987012987014\n",
      "taking cv = 8\n",
      "Cross validation score for  DecisionTreeClassifier()  is [0.92307692 1.         0.92307692 1.         0.97368421 0.84210526\n",
      " 0.89473684 0.94736842]\n",
      "Mean of Cross Val. score is  0.9380060728744939\n",
      "taking cv = 9\n",
      "Cross validation score for  DecisionTreeClassifier()  is [0.97142857 0.94285714 0.94117647 0.97058824 1.         0.97058824\n",
      " 0.88235294 0.94117647 0.97058824]\n",
      "Mean of Cross Val. score is  0.9545284780578898\n",
      "taking cv = 2\n",
      "Cross validation score for  RandomForestClassifier()  is [0.96103896 0.95454545]\n",
      "Mean of Cross Val. score is  0.9577922077922079\n",
      "taking cv = 3\n",
      "Cross validation score for  RandomForestClassifier()  is [0.96116505 0.98058252 0.94117647]\n",
      "Mean of Cross Val. score is  0.9609746811345898\n",
      "taking cv = 4\n",
      "Cross validation score for  RandomForestClassifier()  is [0.97402597 0.94805195 0.98701299 0.90909091]\n",
      "Mean of Cross Val. score is  0.9545454545454546\n",
      "taking cv = 5\n",
      "Cross validation score for  RandomForestClassifier()  is [0.96774194 0.93548387 1.         0.96721311 0.91803279]\n",
      "Mean of Cross Val. score is  0.9576943416181913\n",
      "taking cv = 6\n",
      "Cross validation score for  RandomForestClassifier()  is [0.96153846 0.96153846 0.96078431 1.         0.92156863 0.96078431]\n",
      "Mean of Cross Val. score is  0.961035696329814\n",
      "taking cv = 7\n",
      "Cross validation score for  RandomForestClassifier()  is [0.95454545 1.         0.90909091 1.         1.         0.90909091\n",
      " 0.95454545]\n",
      "Mean of Cross Val. score is  0.9610389610389609\n",
      "taking cv = 8\n",
      "Cross validation score for  RandomForestClassifier()  is [0.94871795 1.         0.92307692 0.97435897 1.         0.97368421\n",
      " 0.92105263 0.94736842]\n",
      "Mean of Cross Val. score is  0.9610323886639676\n",
      "taking cv = 9\n",
      "Cross validation score for  RandomForestClassifier()  is [0.97142857 0.97142857 0.94117647 0.94117647 1.         1.\n",
      " 0.94117647 0.94117647 0.97058824]\n",
      "Mean of Cross Val. score is  0.9642390289449112\n",
      "taking cv = 2\n",
      "Cross validation score for  SVC(probability=True)  is [0.96103896 0.96753247]\n",
      "Mean of Cross Val. score is  0.9642857142857143\n",
      "taking cv = 3\n",
      "Cross validation score for  SVC(probability=True)  is [0.96116505 0.99029126 0.95098039]\n",
      "Mean of Cross Val. score is  0.9674789009454914\n",
      "taking cv = 4\n",
      "Cross validation score for  SVC(probability=True)  is [0.97402597 0.94805195 0.98701299 0.94805195]\n",
      "Mean of Cross Val. score is  0.9642857142857143\n",
      "taking cv = 5\n",
      "Cross validation score for  SVC(probability=True)  is [0.96774194 0.93548387 1.         0.98360656 0.98360656]\n",
      "Mean of Cross Val. score is  0.9740877842411424\n",
      "taking cv = 6\n",
      "Cross validation score for  SVC(probability=True)  is [0.96153846 0.96153846 0.98039216 1.         0.98039216 0.98039216]\n",
      "Mean of Cross Val. score is  0.9773755656108597\n",
      "taking cv = 7\n",
      "Cross validation score for  SVC(probability=True)  is [0.95454545 1.         0.93181818 1.         1.         0.97727273\n",
      " 0.97727273]\n",
      "Mean of Cross Val. score is  0.9772727272727274\n",
      "taking cv = 8\n",
      "Cross validation score for  SVC(probability=True)  is [0.94871795 1.         0.94871795 0.97435897 1.         0.97368421\n",
      " 1.         0.97368421]\n",
      "Mean of Cross Val. score is  0.9773954116059379\n",
      "taking cv = 9\n",
      "Cross validation score for  SVC(probability=True)  is [0.97142857 0.97142857 0.94117647 0.97058824 1.         1.\n",
      " 0.97058824 1.         0.97058824]\n",
      "Mean of Cross Val. score is  0.9773109243697478\n",
      "taking cv = 2\n",
      "Cross validation score for  KNeighborsClassifier()  is [0.97402597 0.96103896]\n",
      "Mean of Cross Val. score is  0.9675324675324675\n",
      "taking cv = 3\n",
      "Cross validation score for  KNeighborsClassifier()  is [0.97087379 0.99029126 0.96078431]\n",
      "Mean of Cross Val. score is  0.9739831207563933\n",
      "taking cv = 4\n",
      "Cross validation score for  KNeighborsClassifier()  is [0.98701299 0.96103896 0.98701299 0.97402597]\n",
      "Mean of Cross Val. score is  0.9772727272727273\n",
      "taking cv = 5\n",
      "Cross validation score for  KNeighborsClassifier()  is [0.98387097 0.9516129  1.         0.98360656 0.96721311]\n",
      "Mean of Cross Val. score is  0.977260708619778\n",
      "taking cv = 6\n",
      "Cross validation score for  KNeighborsClassifier()  is [0.98076923 0.96153846 0.98039216 1.         0.98039216 0.96078431]\n",
      "Mean of Cross Val. score is  0.9773127199597788\n",
      "taking cv = 7\n",
      "Cross validation score for  KNeighborsClassifier()  is [0.97727273 1.         0.93181818 1.         1.         0.97727273\n",
      " 0.95454545]\n",
      "Mean of Cross Val. score is  0.9772727272727274\n",
      "taking cv = 8\n",
      "Cross validation score for  KNeighborsClassifier()  is [0.97435897 1.         0.94871795 0.97435897 1.         0.97368421\n",
      " 1.         0.94736842]\n",
      "Mean of Cross Val. score is  0.9773110661268556\n",
      "taking cv = 9\n",
      "Cross validation score for  KNeighborsClassifier()  is [1.         0.97142857 0.94117647 0.97058824 1.         1.\n",
      " 0.97058824 1.         0.94117647]\n",
      "Mean of Cross Val. score is  0.977217553688142\n",
      "taking cv = 2\n",
      "Cross validation score for  KNeighborsClassifier()  is [0.97402597 0.96103896]\n",
      "Mean of Cross Val. score is  0.9675324675324675\n",
      "taking cv = 3\n",
      "Cross validation score for  KNeighborsClassifier()  is [0.97087379 0.99029126 0.96078431]\n",
      "Mean of Cross Val. score is  0.9739831207563933\n",
      "taking cv = 4\n",
      "Cross validation score for  KNeighborsClassifier()  is [0.98701299 0.96103896 0.98701299 0.97402597]\n",
      "Mean of Cross Val. score is  0.9772727272727273\n",
      "taking cv = 5\n",
      "Cross validation score for  KNeighborsClassifier()  is [0.98387097 0.9516129  1.         0.98360656 0.96721311]\n",
      "Mean of Cross Val. score is  0.977260708619778\n",
      "taking cv = 6\n",
      "Cross validation score for  KNeighborsClassifier()  is [0.98076923 0.96153846 0.98039216 1.         0.98039216 0.96078431]\n",
      "Mean of Cross Val. score is  0.9773127199597788\n",
      "taking cv = 7\n",
      "Cross validation score for  KNeighborsClassifier()  is [0.97727273 1.         0.93181818 1.         1.         0.97727273\n",
      " 0.95454545]\n",
      "Mean of Cross Val. score is  0.9772727272727274\n",
      "taking cv = 8\n",
      "Cross validation score for  KNeighborsClassifier()  is [0.97435897 1.         0.94871795 0.97435897 1.         0.97368421\n",
      " 1.         0.94736842]\n",
      "Mean of Cross Val. score is  0.9773110661268556\n",
      "taking cv = 9\n",
      "Cross validation score for  KNeighborsClassifier()  is [1.         0.97142857 0.94117647 0.97058824 1.         1.\n",
      " 0.97058824 1.         0.94117647]\n",
      "Mean of Cross Val. score is  0.977217553688142\n",
      "taking cv = 2\n",
      "Cross validation score for  KNeighborsClassifier()  is [0.97402597 0.96103896]\n",
      "Mean of Cross Val. score is  0.9675324675324675\n",
      "taking cv = 3\n",
      "Cross validation score for  KNeighborsClassifier()  is [0.97087379 0.99029126 0.96078431]\n",
      "Mean of Cross Val. score is  0.9739831207563933\n",
      "taking cv = 4\n",
      "Cross validation score for  KNeighborsClassifier()  is [0.98701299 0.96103896 0.98701299 0.97402597]\n",
      "Mean of Cross Val. score is  0.9772727272727273\n",
      "taking cv = 5\n"
     ]
    },
    {
     "name": "stdout",
     "output_type": "stream",
     "text": [
      "Cross validation score for  KNeighborsClassifier()  is [0.98387097 0.9516129  1.         0.98360656 0.96721311]\n",
      "Mean of Cross Val. score is  0.977260708619778\n",
      "taking cv = 6\n",
      "Cross validation score for  KNeighborsClassifier()  is [0.98076923 0.96153846 0.98039216 1.         0.98039216 0.96078431]\n",
      "Mean of Cross Val. score is  0.9773127199597788\n",
      "taking cv = 7\n",
      "Cross validation score for  KNeighborsClassifier()  is [0.97727273 1.         0.93181818 1.         1.         0.97727273\n",
      " 0.95454545]\n",
      "Mean of Cross Val. score is  0.9772727272727274\n",
      "taking cv = 8\n",
      "Cross validation score for  KNeighborsClassifier()  is [0.97435897 1.         0.94871795 0.97435897 1.         0.97368421\n",
      " 1.         0.94736842]\n",
      "Mean of Cross Val. score is  0.9773110661268556\n",
      "taking cv = 9\n",
      "Cross validation score for  KNeighborsClassifier()  is [1.         0.97142857 0.94117647 0.97058824 1.         1.\n",
      " 0.97058824 1.         0.94117647]\n",
      "Mean of Cross Val. score is  0.977217553688142\n",
      "taking cv = 2\n",
      "Cross validation score for  GaussianNB()  is [0.96103896 0.95454545]\n",
      "Mean of Cross Val. score is  0.9577922077922079\n",
      "taking cv = 3\n",
      "Cross validation score for  GaussianNB()  is [0.96116505 0.96116505 0.94117647]\n",
      "Mean of Cross Val. score is  0.9545021892252047\n",
      "taking cv = 4\n",
      "Cross validation score for  GaussianNB()  is [0.97402597 0.94805195 0.94805195 0.96103896]\n",
      "Mean of Cross Val. score is  0.9577922077922078\n",
      "taking cv = 5\n",
      "Cross validation score for  GaussianNB()  is [0.96774194 0.93548387 1.         0.91803279 0.96721311]\n",
      "Mean of Cross Val. score is  0.9576943416181916\n",
      "taking cv = 6\n",
      "Cross validation score for  GaussianNB()  is [0.96153846 0.94230769 0.96078431 0.98039216 0.90196078 0.98039216]\n",
      "Mean of Cross Val. score is  0.9545625942684767\n",
      "taking cv = 7\n",
      "Cross validation score for  GaussianNB()  is [0.95454545 1.         0.90909091 1.         0.97727273 0.88636364\n",
      " 0.97727273]\n",
      "Mean of Cross Val. score is  0.9577922077922079\n",
      "taking cv = 8\n",
      "Cross validation score for  GaussianNB()  is [0.94871795 1.         0.92307692 0.97435897 0.97368421 0.94736842\n",
      " 0.94736842 0.97368421]\n",
      "Mean of Cross Val. score is  0.9610323886639676\n",
      "taking cv = 9\n",
      "Cross validation score for  GaussianNB()  is [0.97142857 0.97142857 0.94117647 0.94117647 1.         0.97058824\n",
      " 0.91176471 0.97058824 0.97058824]\n",
      "Mean of Cross Val. score is  0.9609710550887021\n"
     ]
    }
   ],
   "source": [
    "from sklearn.model_selection import cross_val_score\n",
    "\n",
    "# validation accuracy\n",
    "model=[lr,dtc,rf,svc,knn,xgb,ada,gnb]\n",
    "\n",
    "for i in model:\n",
    "    for j in range(2,10):\n",
    "        print('taking cv =', j)\n",
    "        cr_score=cross_val_score(i, x, y, cv=j)\n",
    "        print('Cross validation score for ' , i ,' is', cr_score)\n",
    "        print('Mean of Cross Val. score is ', cr_score.mean())\n",
    "    "
   ]
  },
  {
   "cell_type": "markdown",
   "id": "8a28e06c",
   "metadata": {},
   "source": [
    "**Taking the following model at that fold**\n",
    "taking cv = 6\n",
    "Cross validation score for  SVC(probability=True)  is [0.96153846 0.96153846 0.98039216 1.         0.98039216 0.98039216]\n",
    "Mean of Cross Val. score is  0.9773755656108597"
   ]
  },
  {
   "cell_type": "markdown",
   "id": "177e707d",
   "metadata": {},
   "source": [
    "# HyperParameterTunning"
   ]
  },
  {
   "cell_type": "code",
   "execution_count": 110,
   "id": "bd16f343",
   "metadata": {},
   "outputs": [],
   "source": [
    "from sklearn.model_selection import GridSearchCV\n",
    "\n",
    "#Creating parameter list to be passed in GridSearchCV\n",
    "parameters = {'C': [0.1, 1, 10, 100, 1000], \n",
    "              'gamma': [1, 0.1, 0.01, 0.001, 0.0001],\n",
    "              'kernel': ['rbf','linear','poly','sigmoid'],\n",
    "              'degree':[1,2,3,4,5]} \n"
   ]
  },
  {
   "cell_type": "code",
   "execution_count": 111,
   "id": "4af5ae47",
   "metadata": {},
   "outputs": [],
   "source": [
    "GCV=GridSearchCV(estimator=SVC(),\n",
    "                param_grid=parameters,\n",
    "                cv=6,\n",
    "                scoring='accuracy')"
   ]
  },
  {
   "cell_type": "code",
   "execution_count": 112,
   "id": "1e363f10",
   "metadata": {},
   "outputs": [
    {
     "data": {
      "text/html": [
       "<style>#sk-container-id-1 {color: black;background-color: white;}#sk-container-id-1 pre{padding: 0;}#sk-container-id-1 div.sk-toggleable {background-color: white;}#sk-container-id-1 label.sk-toggleable__label {cursor: pointer;display: block;width: 100%;margin-bottom: 0;padding: 0.3em;box-sizing: border-box;text-align: center;}#sk-container-id-1 label.sk-toggleable__label-arrow:before {content: \"▸\";float: left;margin-right: 0.25em;color: #696969;}#sk-container-id-1 label.sk-toggleable__label-arrow:hover:before {color: black;}#sk-container-id-1 div.sk-estimator:hover label.sk-toggleable__label-arrow:before {color: black;}#sk-container-id-1 div.sk-toggleable__content {max-height: 0;max-width: 0;overflow: hidden;text-align: left;background-color: #f0f8ff;}#sk-container-id-1 div.sk-toggleable__content pre {margin: 0.2em;color: black;border-radius: 0.25em;background-color: #f0f8ff;}#sk-container-id-1 input.sk-toggleable__control:checked~div.sk-toggleable__content {max-height: 200px;max-width: 100%;overflow: auto;}#sk-container-id-1 input.sk-toggleable__control:checked~label.sk-toggleable__label-arrow:before {content: \"▾\";}#sk-container-id-1 div.sk-estimator input.sk-toggleable__control:checked~label.sk-toggleable__label {background-color: #d4ebff;}#sk-container-id-1 div.sk-label input.sk-toggleable__control:checked~label.sk-toggleable__label {background-color: #d4ebff;}#sk-container-id-1 input.sk-hidden--visually {border: 0;clip: rect(1px 1px 1px 1px);clip: rect(1px, 1px, 1px, 1px);height: 1px;margin: -1px;overflow: hidden;padding: 0;position: absolute;width: 1px;}#sk-container-id-1 div.sk-estimator {font-family: monospace;background-color: #f0f8ff;border: 1px dotted black;border-radius: 0.25em;box-sizing: border-box;margin-bottom: 0.5em;}#sk-container-id-1 div.sk-estimator:hover {background-color: #d4ebff;}#sk-container-id-1 div.sk-parallel-item::after {content: \"\";width: 100%;border-bottom: 1px solid gray;flex-grow: 1;}#sk-container-id-1 div.sk-label:hover label.sk-toggleable__label {background-color: #d4ebff;}#sk-container-id-1 div.sk-serial::before {content: \"\";position: absolute;border-left: 1px solid gray;box-sizing: border-box;top: 0;bottom: 0;left: 50%;z-index: 0;}#sk-container-id-1 div.sk-serial {display: flex;flex-direction: column;align-items: center;background-color: white;padding-right: 0.2em;padding-left: 0.2em;position: relative;}#sk-container-id-1 div.sk-item {position: relative;z-index: 1;}#sk-container-id-1 div.sk-parallel {display: flex;align-items: stretch;justify-content: center;background-color: white;position: relative;}#sk-container-id-1 div.sk-item::before, #sk-container-id-1 div.sk-parallel-item::before {content: \"\";position: absolute;border-left: 1px solid gray;box-sizing: border-box;top: 0;bottom: 0;left: 50%;z-index: -1;}#sk-container-id-1 div.sk-parallel-item {display: flex;flex-direction: column;z-index: 1;position: relative;background-color: white;}#sk-container-id-1 div.sk-parallel-item:first-child::after {align-self: flex-end;width: 50%;}#sk-container-id-1 div.sk-parallel-item:last-child::after {align-self: flex-start;width: 50%;}#sk-container-id-1 div.sk-parallel-item:only-child::after {width: 0;}#sk-container-id-1 div.sk-dashed-wrapped {border: 1px dashed gray;margin: 0 0.4em 0.5em 0.4em;box-sizing: border-box;padding-bottom: 0.4em;background-color: white;}#sk-container-id-1 div.sk-label label {font-family: monospace;font-weight: bold;display: inline-block;line-height: 1.2em;}#sk-container-id-1 div.sk-label-container {text-align: center;}#sk-container-id-1 div.sk-container {/* jupyter's `normalize.less` sets `[hidden] { display: none; }` but bootstrap.min.css set `[hidden] { display: none !important; }` so we also need the `!important` here to be able to override the default hidden behavior on the sphinx rendered scikit-learn.org. See: https://github.com/scikit-learn/scikit-learn/issues/21755 */display: inline-block !important;position: relative;}#sk-container-id-1 div.sk-text-repr-fallback {display: none;}</style><div id=\"sk-container-id-1\" class=\"sk-top-container\"><div class=\"sk-text-repr-fallback\"><pre>GridSearchCV(cv=6, estimator=SVC(),\n",
       "             param_grid={&#x27;C&#x27;: [0.1, 1, 10, 100, 1000],\n",
       "                         &#x27;degree&#x27;: [1, 2, 3, 4, 5],\n",
       "                         &#x27;gamma&#x27;: [1, 0.1, 0.01, 0.001, 0.0001],\n",
       "                         &#x27;kernel&#x27;: [&#x27;rbf&#x27;, &#x27;linear&#x27;, &#x27;poly&#x27;, &#x27;sigmoid&#x27;]},\n",
       "             scoring=&#x27;accuracy&#x27;)</pre><b>In a Jupyter environment, please rerun this cell to show the HTML representation or trust the notebook. <br />On GitHub, the HTML representation is unable to render, please try loading this page with nbviewer.org.</b></div><div class=\"sk-container\" hidden><div class=\"sk-item sk-dashed-wrapped\"><div class=\"sk-label-container\"><div class=\"sk-label sk-toggleable\"><input class=\"sk-toggleable__control sk-hidden--visually\" id=\"sk-estimator-id-1\" type=\"checkbox\" ><label for=\"sk-estimator-id-1\" class=\"sk-toggleable__label sk-toggleable__label-arrow\">GridSearchCV</label><div class=\"sk-toggleable__content\"><pre>GridSearchCV(cv=6, estimator=SVC(),\n",
       "             param_grid={&#x27;C&#x27;: [0.1, 1, 10, 100, 1000],\n",
       "                         &#x27;degree&#x27;: [1, 2, 3, 4, 5],\n",
       "                         &#x27;gamma&#x27;: [1, 0.1, 0.01, 0.001, 0.0001],\n",
       "                         &#x27;kernel&#x27;: [&#x27;rbf&#x27;, &#x27;linear&#x27;, &#x27;poly&#x27;, &#x27;sigmoid&#x27;]},\n",
       "             scoring=&#x27;accuracy&#x27;)</pre></div></div></div><div class=\"sk-parallel\"><div class=\"sk-parallel-item\"><div class=\"sk-item\"><div class=\"sk-label-container\"><div class=\"sk-label sk-toggleable\"><input class=\"sk-toggleable__control sk-hidden--visually\" id=\"sk-estimator-id-2\" type=\"checkbox\" ><label for=\"sk-estimator-id-2\" class=\"sk-toggleable__label sk-toggleable__label-arrow\">estimator: SVC</label><div class=\"sk-toggleable__content\"><pre>SVC()</pre></div></div></div><div class=\"sk-serial\"><div class=\"sk-item\"><div class=\"sk-estimator sk-toggleable\"><input class=\"sk-toggleable__control sk-hidden--visually\" id=\"sk-estimator-id-3\" type=\"checkbox\" ><label for=\"sk-estimator-id-3\" class=\"sk-toggleable__label sk-toggleable__label-arrow\">SVC</label><div class=\"sk-toggleable__content\"><pre>SVC()</pre></div></div></div></div></div></div></div></div></div></div>"
      ],
      "text/plain": [
       "GridSearchCV(cv=6, estimator=SVC(),\n",
       "             param_grid={'C': [0.1, 1, 10, 100, 1000],\n",
       "                         'degree': [1, 2, 3, 4, 5],\n",
       "                         'gamma': [1, 0.1, 0.01, 0.001, 0.0001],\n",
       "                         'kernel': ['rbf', 'linear', 'poly', 'sigmoid']},\n",
       "             scoring='accuracy')"
      ]
     },
     "execution_count": 112,
     "metadata": {},
     "output_type": "execute_result"
    }
   ],
   "source": [
    "GCV.fit(x_train,y_train)"
   ]
  },
  {
   "cell_type": "code",
   "execution_count": 113,
   "id": "05b31ee8",
   "metadata": {},
   "outputs": [
    {
     "data": {
      "text/plain": [
       "{'C': 10, 'degree': 1, 'gamma': 0.1, 'kernel': 'rbf'}"
      ]
     },
     "execution_count": 113,
     "metadata": {},
     "output_type": "execute_result"
    }
   ],
   "source": [
    "GCV.best_params_"
   ]
  },
  {
   "cell_type": "code",
   "execution_count": 114,
   "id": "c045c566",
   "metadata": {},
   "outputs": [
    {
     "data": {
      "text/html": [
       "<style>#sk-container-id-2 {color: black;background-color: white;}#sk-container-id-2 pre{padding: 0;}#sk-container-id-2 div.sk-toggleable {background-color: white;}#sk-container-id-2 label.sk-toggleable__label {cursor: pointer;display: block;width: 100%;margin-bottom: 0;padding: 0.3em;box-sizing: border-box;text-align: center;}#sk-container-id-2 label.sk-toggleable__label-arrow:before {content: \"▸\";float: left;margin-right: 0.25em;color: #696969;}#sk-container-id-2 label.sk-toggleable__label-arrow:hover:before {color: black;}#sk-container-id-2 div.sk-estimator:hover label.sk-toggleable__label-arrow:before {color: black;}#sk-container-id-2 div.sk-toggleable__content {max-height: 0;max-width: 0;overflow: hidden;text-align: left;background-color: #f0f8ff;}#sk-container-id-2 div.sk-toggleable__content pre {margin: 0.2em;color: black;border-radius: 0.25em;background-color: #f0f8ff;}#sk-container-id-2 input.sk-toggleable__control:checked~div.sk-toggleable__content {max-height: 200px;max-width: 100%;overflow: auto;}#sk-container-id-2 input.sk-toggleable__control:checked~label.sk-toggleable__label-arrow:before {content: \"▾\";}#sk-container-id-2 div.sk-estimator input.sk-toggleable__control:checked~label.sk-toggleable__label {background-color: #d4ebff;}#sk-container-id-2 div.sk-label input.sk-toggleable__control:checked~label.sk-toggleable__label {background-color: #d4ebff;}#sk-container-id-2 input.sk-hidden--visually {border: 0;clip: rect(1px 1px 1px 1px);clip: rect(1px, 1px, 1px, 1px);height: 1px;margin: -1px;overflow: hidden;padding: 0;position: absolute;width: 1px;}#sk-container-id-2 div.sk-estimator {font-family: monospace;background-color: #f0f8ff;border: 1px dotted black;border-radius: 0.25em;box-sizing: border-box;margin-bottom: 0.5em;}#sk-container-id-2 div.sk-estimator:hover {background-color: #d4ebff;}#sk-container-id-2 div.sk-parallel-item::after {content: \"\";width: 100%;border-bottom: 1px solid gray;flex-grow: 1;}#sk-container-id-2 div.sk-label:hover label.sk-toggleable__label {background-color: #d4ebff;}#sk-container-id-2 div.sk-serial::before {content: \"\";position: absolute;border-left: 1px solid gray;box-sizing: border-box;top: 0;bottom: 0;left: 50%;z-index: 0;}#sk-container-id-2 div.sk-serial {display: flex;flex-direction: column;align-items: center;background-color: white;padding-right: 0.2em;padding-left: 0.2em;position: relative;}#sk-container-id-2 div.sk-item {position: relative;z-index: 1;}#sk-container-id-2 div.sk-parallel {display: flex;align-items: stretch;justify-content: center;background-color: white;position: relative;}#sk-container-id-2 div.sk-item::before, #sk-container-id-2 div.sk-parallel-item::before {content: \"\";position: absolute;border-left: 1px solid gray;box-sizing: border-box;top: 0;bottom: 0;left: 50%;z-index: -1;}#sk-container-id-2 div.sk-parallel-item {display: flex;flex-direction: column;z-index: 1;position: relative;background-color: white;}#sk-container-id-2 div.sk-parallel-item:first-child::after {align-self: flex-end;width: 50%;}#sk-container-id-2 div.sk-parallel-item:last-child::after {align-self: flex-start;width: 50%;}#sk-container-id-2 div.sk-parallel-item:only-child::after {width: 0;}#sk-container-id-2 div.sk-dashed-wrapped {border: 1px dashed gray;margin: 0 0.4em 0.5em 0.4em;box-sizing: border-box;padding-bottom: 0.4em;background-color: white;}#sk-container-id-2 div.sk-label label {font-family: monospace;font-weight: bold;display: inline-block;line-height: 1.2em;}#sk-container-id-2 div.sk-label-container {text-align: center;}#sk-container-id-2 div.sk-container {/* jupyter's `normalize.less` sets `[hidden] { display: none; }` but bootstrap.min.css set `[hidden] { display: none !important; }` so we also need the `!important` here to be able to override the default hidden behavior on the sphinx rendered scikit-learn.org. See: https://github.com/scikit-learn/scikit-learn/issues/21755 */display: inline-block !important;position: relative;}#sk-container-id-2 div.sk-text-repr-fallback {display: none;}</style><div id=\"sk-container-id-2\" class=\"sk-top-container\"><div class=\"sk-text-repr-fallback\"><pre>SVC(C=10, degree=1, gamma=0.1)</pre><b>In a Jupyter environment, please rerun this cell to show the HTML representation or trust the notebook. <br />On GitHub, the HTML representation is unable to render, please try loading this page with nbviewer.org.</b></div><div class=\"sk-container\" hidden><div class=\"sk-item\"><div class=\"sk-estimator sk-toggleable\"><input class=\"sk-toggleable__control sk-hidden--visually\" id=\"sk-estimator-id-4\" type=\"checkbox\" checked><label for=\"sk-estimator-id-4\" class=\"sk-toggleable__label sk-toggleable__label-arrow\">SVC</label><div class=\"sk-toggleable__content\"><pre>SVC(C=10, degree=1, gamma=0.1)</pre></div></div></div></div></div>"
      ],
      "text/plain": [
       "SVC(C=10, degree=1, gamma=0.1)"
      ]
     },
     "execution_count": 114,
     "metadata": {},
     "output_type": "execute_result"
    }
   ],
   "source": [
    "GCV.best_estimator_"
   ]
  },
  {
   "cell_type": "code",
   "execution_count": 119,
   "id": "f5a7692f",
   "metadata": {},
   "outputs": [
    {
     "name": "stdout",
     "output_type": "stream",
     "text": [
      "Final Accuracy is with SVC =  1.0\n"
     ]
    }
   ],
   "source": [
    "# Checking score with best parameter\n",
    "final_model=SVC(C=10,degree=1,gamma=0.1,kernel='rbf')\n",
    "final_model.fit(x_train,y_train)\n",
    "predfinal=final_model.predict(x_test)\n",
    "print('Final Accuracy is with SVC = ',accuracy_score(y_test,predfinal))"
   ]
  },
  {
   "cell_type": "markdown",
   "id": "d7198cfb",
   "metadata": {},
   "source": [
    "**AUC ROC Curve with Best Estimator**"
   ]
  },
  {
   "cell_type": "code",
   "execution_count": 120,
   "id": "eb7d22fa",
   "metadata": {},
   "outputs": [
    {
     "data": {
      "text/plain": [
       "<function matplotlib.pyplot.show(close=None, block=None)>"
      ]
     },
     "execution_count": 120,
     "metadata": {},
     "output_type": "execute_result"
    },
    {
     "data": {
      "image/png": "[encoded data removed]",
      "text/plain": [
       "<Figure size 432x288 with 1 Axes>"
      ]
     },
     "metadata": {
      "needs_background": "light"
     },
     "output_type": "display_data"
    }
   ],
   "source": [
    "from sklearn.metrics import plot_roc_curve\n",
    "plot_roc_curve(GCV.best_estimator_,x_test,y_test)\n",
    "plt.title('AUC ROC Curve')\n",
    "plt.show"
   ]
  },
  {
   "cell_type": "markdown",
   "id": "137563c7",
   "metadata": {},
   "source": [
    "# Saving the Model"
   ]
  },
  {
   "cell_type": "code",
   "execution_count": 121,
   "id": "7de821b9",
   "metadata": {},
   "outputs": [
    {
     "data": {
      "text/plain": [
       "['Glass_Identification.pkl']"
      ]
     },
     "execution_count": 121,
     "metadata": {},
     "output_type": "execute_result"
    }
   ],
   "source": [
    "import joblib\n",
    "joblib.dump(GCV.best_estimator_, \"Glass_Identification.pkl\")"
   ]
  },
  {
   "cell_type": "markdown",
   "id": "acb6c7ca",
   "metadata": {},
   "source": [
    "# Conclusion"
   ]
  },
  {
   "cell_type": "code",
   "execution_count": 123,
   "id": "f4b8931e",
   "metadata": {},
   "outputs": [
    {
     "data": {
      "text/html": [
       "<div>\n",
       "<style scoped>\n",
       "    .dataframe tbody tr th:only-of-type {\n",
       "        vertical-align: middle;\n",
       "    }\n",
       "\n",
       "    .dataframe tbody tr th {\n",
       "        vertical-align: top;\n",
       "    }\n",
       "\n",
       "    .dataframe thead th {\n",
       "        text-align: right;\n",
       "    }\n",
       "</style>\n",
       "<table border=\"1\" class=\"dataframe\">\n",
       "  <thead>\n",
       "    <tr style=\"text-align: right;\">\n",
       "      <th></th>\n",
       "      <th>Original</th>\n",
       "      <th>Predicted</th>\n",
       "    </tr>\n",
       "  </thead>\n",
       "  <tbody>\n",
       "    <tr>\n",
       "      <th>0</th>\n",
       "      <td>2</td>\n",
       "      <td>2</td>\n",
       "    </tr>\n",
       "    <tr>\n",
       "      <th>1</th>\n",
       "      <td>1</td>\n",
       "      <td>1</td>\n",
       "    </tr>\n",
       "    <tr>\n",
       "      <th>2</th>\n",
       "      <td>1</td>\n",
       "      <td>1</td>\n",
       "    </tr>\n",
       "    <tr>\n",
       "      <th>3</th>\n",
       "      <td>2</td>\n",
       "      <td>2</td>\n",
       "    </tr>\n",
       "    <tr>\n",
       "      <th>4</th>\n",
       "      <td>1</td>\n",
       "      <td>1</td>\n",
       "    </tr>\n",
       "    <tr>\n",
       "      <th>...</th>\n",
       "      <td>...</td>\n",
       "      <td>...</td>\n",
       "    </tr>\n",
       "    <tr>\n",
       "      <th>57</th>\n",
       "      <td>2</td>\n",
       "      <td>2</td>\n",
       "    </tr>\n",
       "    <tr>\n",
       "      <th>58</th>\n",
       "      <td>2</td>\n",
       "      <td>2</td>\n",
       "    </tr>\n",
       "    <tr>\n",
       "      <th>59</th>\n",
       "      <td>2</td>\n",
       "      <td>2</td>\n",
       "    </tr>\n",
       "    <tr>\n",
       "      <th>60</th>\n",
       "      <td>2</td>\n",
       "      <td>2</td>\n",
       "    </tr>\n",
       "    <tr>\n",
       "      <th>61</th>\n",
       "      <td>1</td>\n",
       "      <td>1</td>\n",
       "    </tr>\n",
       "  </tbody>\n",
       "</table>\n",
       "<p>62 rows × 2 columns</p>\n",
       "</div>"
      ],
      "text/plain": [
       "    Original  Predicted\n",
       "0          2          2\n",
       "1          1          1\n",
       "2          1          1\n",
       "3          2          2\n",
       "4          1          1\n",
       "..       ...        ...\n",
       "57         2          2\n",
       "58         2          2\n",
       "59         2          2\n",
       "60         2          2\n",
       "61         1          1\n",
       "\n",
       "[62 rows x 2 columns]"
      ]
     },
     "execution_count": 123,
     "metadata": {},
     "output_type": "execute_result"
    }
   ],
   "source": [
    "a=np.array(y_test)\n",
    "predicted=np.array(predfinal)\n",
    "df_con=pd.DataFrame({'Original':a,'Predicted':predicted}, index=range(len(a)))\n",
    "df_con"
   ]
  },
  {
   "cell_type": "code",
   "execution_count": null,
   "id": "58176cc8",
   "metadata": {},
   "outputs": [],
   "source": []
  }
 ],
 "metadata": {
  "kernelspec": {
   "display_name": "Python 3 (ipykernel)",
   "language": "python",
   "name": "python3"
  },
  "language_info": {
   "codemirror_mode": {
    "name": "ipython",
    "version": 3
   },
   "file_extension": ".py",
   "mimetype": "text/x-python",
   "name": "python",
   "nbconvert_exporter": "python",
   "pygments_lexer": "ipython3",
   "version": "3.9.12"
  }
 },
 "nbformat": 4,
 "nbformat_minor": 5
}
