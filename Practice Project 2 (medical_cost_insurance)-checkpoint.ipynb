{
 "cells": [
  {
   "cell_type": "markdown",
   "id": "814c4f9f",
   "metadata": {},
   "source": [
    "# Problem Statement"
   ]
  },
  {
   "cell_type": "markdown",
   "id": "a5c41a62",
   "metadata": {},
   "source": [
    "Insurance Forecast by using Regression Algorithms\n",
    "\n",
    "Health insurance is a type of insurance that covers medical expenses that arise due to an illness. These expenses could be related to hospitalisation costs, cost of medicines or doctor consultation fees. The main purpose of medical insurance is to receive the best medical care without any strain on your finances. Health insurance plans offer protection against high medical costs. It covers hospitalization expenses, day care procedures, domiciliary expenses, and ambulance charges, besides many others. Based on certain input features such as age , bmi,,no of dependents ,smoker ,region  medical insurance is calculated ."
   ]
  },
  {
   "cell_type": "code",
   "execution_count": 1,
   "id": "87d9d4c9",
   "metadata": {},
   "outputs": [],
   "source": [
    "# Importing Libraries\n",
    "import pandas as pd\n",
    "import numpy as np\n",
    "import matplotlib.pyplot as plt\n",
    "import seaborn as sns\n",
    "\n",
    "\n",
    "\n",
    "import warnings\n",
    "warnings.filterwarnings('ignore')"
   ]
  },
  {
   "cell_type": "markdown",
   "id": "ba56bd27",
   "metadata": {},
   "source": [
    "**Loading Data fron Github**"
   ]
  },
  {
   "cell_type": "code",
   "execution_count": 2,
   "id": "23479fd6",
   "metadata": {},
   "outputs": [
    {
     "data": {
      "text/html": [
       "<div>\n",
       "<style scoped>\n",
       "    .dataframe tbody tr th:only-of-type {\n",
       "        vertical-align: middle;\n",
       "    }\n",
       "\n",
       "    .dataframe tbody tr th {\n",
       "        vertical-align: top;\n",
       "    }\n",
       "\n",
       "    .dataframe thead th {\n",
       "        text-align: right;\n",
       "    }\n",
       "</style>\n",
       "<table border=\"1\" class=\"dataframe\">\n",
       "  <thead>\n",
       "    <tr style=\"text-align: right;\">\n",
       "      <th></th>\n",
       "      <th>age</th>\n",
       "      <th>sex</th>\n",
       "      <th>bmi</th>\n",
       "      <th>children</th>\n",
       "      <th>smoker</th>\n",
       "      <th>region</th>\n",
       "      <th>charges</th>\n",
       "    </tr>\n",
       "  </thead>\n",
       "  <tbody>\n",
       "    <tr>\n",
       "      <th>0</th>\n",
       "      <td>19</td>\n",
       "      <td>female</td>\n",
       "      <td>27.900</td>\n",
       "      <td>0</td>\n",
       "      <td>yes</td>\n",
       "      <td>southwest</td>\n",
       "      <td>16884.92400</td>\n",
       "    </tr>\n",
       "    <tr>\n",
       "      <th>1</th>\n",
       "      <td>18</td>\n",
       "      <td>male</td>\n",
       "      <td>33.770</td>\n",
       "      <td>1</td>\n",
       "      <td>no</td>\n",
       "      <td>southeast</td>\n",
       "      <td>1725.55230</td>\n",
       "    </tr>\n",
       "    <tr>\n",
       "      <th>2</th>\n",
       "      <td>28</td>\n",
       "      <td>male</td>\n",
       "      <td>33.000</td>\n",
       "      <td>3</td>\n",
       "      <td>no</td>\n",
       "      <td>southeast</td>\n",
       "      <td>4449.46200</td>\n",
       "    </tr>\n",
       "    <tr>\n",
       "      <th>3</th>\n",
       "      <td>33</td>\n",
       "      <td>male</td>\n",
       "      <td>22.705</td>\n",
       "      <td>0</td>\n",
       "      <td>no</td>\n",
       "      <td>northwest</td>\n",
       "      <td>21984.47061</td>\n",
       "    </tr>\n",
       "    <tr>\n",
       "      <th>4</th>\n",
       "      <td>32</td>\n",
       "      <td>male</td>\n",
       "      <td>28.880</td>\n",
       "      <td>0</td>\n",
       "      <td>no</td>\n",
       "      <td>northwest</td>\n",
       "      <td>3866.85520</td>\n",
       "    </tr>\n",
       "    <tr>\n",
       "      <th>...</th>\n",
       "      <td>...</td>\n",
       "      <td>...</td>\n",
       "      <td>...</td>\n",
       "      <td>...</td>\n",
       "      <td>...</td>\n",
       "      <td>...</td>\n",
       "      <td>...</td>\n",
       "    </tr>\n",
       "    <tr>\n",
       "      <th>1333</th>\n",
       "      <td>50</td>\n",
       "      <td>male</td>\n",
       "      <td>30.970</td>\n",
       "      <td>3</td>\n",
       "      <td>no</td>\n",
       "      <td>northwest</td>\n",
       "      <td>10600.54830</td>\n",
       "    </tr>\n",
       "    <tr>\n",
       "      <th>1334</th>\n",
       "      <td>18</td>\n",
       "      <td>female</td>\n",
       "      <td>31.920</td>\n",
       "      <td>0</td>\n",
       "      <td>no</td>\n",
       "      <td>northeast</td>\n",
       "      <td>2205.98080</td>\n",
       "    </tr>\n",
       "    <tr>\n",
       "      <th>1335</th>\n",
       "      <td>18</td>\n",
       "      <td>female</td>\n",
       "      <td>36.850</td>\n",
       "      <td>0</td>\n",
       "      <td>no</td>\n",
       "      <td>southeast</td>\n",
       "      <td>1629.83350</td>\n",
       "    </tr>\n",
       "    <tr>\n",
       "      <th>1336</th>\n",
       "      <td>21</td>\n",
       "      <td>female</td>\n",
       "      <td>25.800</td>\n",
       "      <td>0</td>\n",
       "      <td>no</td>\n",
       "      <td>southwest</td>\n",
       "      <td>2007.94500</td>\n",
       "    </tr>\n",
       "    <tr>\n",
       "      <th>1337</th>\n",
       "      <td>61</td>\n",
       "      <td>female</td>\n",
       "      <td>29.070</td>\n",
       "      <td>0</td>\n",
       "      <td>yes</td>\n",
       "      <td>northwest</td>\n",
       "      <td>29141.36030</td>\n",
       "    </tr>\n",
       "  </tbody>\n",
       "</table>\n",
       "<p>1338 rows × 7 columns</p>\n",
       "</div>"
      ],
      "text/plain": [
       "      age     sex     bmi  children smoker     region      charges\n",
       "0      19  female  27.900         0    yes  southwest  16884.92400\n",
       "1      18    male  33.770         1     no  southeast   1725.55230\n",
       "2      28    male  33.000         3     no  southeast   4449.46200\n",
       "3      33    male  22.705         0     no  northwest  21984.47061\n",
       "4      32    male  28.880         0     no  northwest   3866.85520\n",
       "...   ...     ...     ...       ...    ...        ...          ...\n",
       "1333   50    male  30.970         3     no  northwest  10600.54830\n",
       "1334   18  female  31.920         0     no  northeast   2205.98080\n",
       "1335   18  female  36.850         0     no  southeast   1629.83350\n",
       "1336   21  female  25.800         0     no  southwest   2007.94500\n",
       "1337   61  female  29.070         0    yes  northwest  29141.36030\n",
       "\n",
       "[1338 rows x 7 columns]"
      ]
     },
     "execution_count": 2,
     "metadata": {},
     "output_type": "execute_result"
    }
   ],
   "source": [
    "df=pd.read_csv('https://raw.githubusercontent.com/dsrscientist/dataset4/main/medical_cost_insurance.csv')\n",
    "df"
   ]
  },
  {
   "cell_type": "code",
   "execution_count": 3,
   "id": "2fdd3dbc",
   "metadata": {},
   "outputs": [
    {
     "data": {
      "text/plain": [
       "Index(['age', 'sex', 'bmi', 'children', 'smoker', 'region', 'charges'], dtype='object')"
      ]
     },
     "execution_count": 3,
     "metadata": {},
     "output_type": "execute_result"
    }
   ],
   "source": [
    "df.columns"
   ]
  },
  {
   "cell_type": "markdown",
   "id": "32e7c563",
   "metadata": {},
   "source": [
    "**Details of the Insurance data**\n",
    "\n",
    "Input Parameters                                           \n",
    "\n",
    "·         age: age of primary beneficiary\n",
    "\n",
    "·         sex: insurance contractor gender, female, male\n",
    "\n",
    "·       bmi: Body mass index, providing an understanding of body, weights that are relatively high or low relative to height, objective index of body weight (kg / m ^ 2) using the ratio of height to weight, ideally 18.5 to 24.9.\n",
    "\n",
    "·       children: Number of children covered by health insurance / Number of dependents\n",
    "\n",
    "·     smoker: Smoking\n",
    "\n",
    "·      region: the beneficiary's residential area in the US, northeast, southeast, southwest, northwest.\n",
    "\n",
    "Output Parameter\n",
    "\n",
    "·     charges: Individual medical costs billed by health insurance"
   ]
  },
  {
   "cell_type": "code",
   "execution_count": 4,
   "id": "d1168d4a",
   "metadata": {},
   "outputs": [
    {
     "data": {
      "text/plain": [
       "age           int64\n",
       "sex          object\n",
       "bmi         float64\n",
       "children      int64\n",
       "smoker       object\n",
       "region       object\n",
       "charges     float64\n",
       "dtype: object"
      ]
     },
     "execution_count": 4,
     "metadata": {},
     "output_type": "execute_result"
    }
   ],
   "source": [
    "df.dtypes"
   ]
  },
  {
   "cell_type": "markdown",
   "id": "a9aa4d7f",
   "metadata": {},
   "source": [
    "**Checking for null values**"
   ]
  },
  {
   "cell_type": "code",
   "execution_count": 5,
   "id": "fb6b099d",
   "metadata": {},
   "outputs": [
    {
     "data": {
      "text/plain": [
       "age         0\n",
       "sex         0\n",
       "bmi         0\n",
       "children    0\n",
       "smoker      0\n",
       "region      0\n",
       "charges     0\n",
       "dtype: int64"
      ]
     },
     "execution_count": 5,
     "metadata": {},
     "output_type": "execute_result"
    }
   ],
   "source": [
    "df.isnull().sum()"
   ]
  },
  {
   "cell_type": "markdown",
   "id": "25f2eb55",
   "metadata": {},
   "source": [
    "No null values are available"
   ]
  },
  {
   "cell_type": "markdown",
   "id": "31891cc5",
   "metadata": {},
   "source": [
    "# EDA (Data Visualization)"
   ]
  },
  {
   "cell_type": "code",
   "execution_count": 6,
   "id": "d06e52ce",
   "metadata": {},
   "outputs": [
    {
     "data": {
      "text/plain": [
       "male      676\n",
       "female    662\n",
       "Name: sex, dtype: int64"
      ]
     },
     "execution_count": 6,
     "metadata": {},
     "output_type": "execute_result"
    },
    {
     "data": {
      "image/png": "[encoded data removed]",
      "text/plain": [
       "<Figure size 432x288 with 1 Axes>"
      ]
     },
     "metadata": {
      "needs_background": "light"
     },
     "output_type": "display_data"
    }
   ],
   "source": [
    "sns.countplot(df['sex'])\n",
    "df['sex'].value_counts()"
   ]
  },
  {
   "cell_type": "code",
   "execution_count": 7,
   "id": "789e29f2",
   "metadata": {},
   "outputs": [
    {
     "data": {
      "text/plain": [
       "no     1064\n",
       "yes     274\n",
       "Name: smoker, dtype: int64"
      ]
     },
     "execution_count": 7,
     "metadata": {},
     "output_type": "execute_result"
    },
    {
     "data": {
      "image/png": "[encoded data removed]",
      "text/plain": [
       "<Figure size 432x288 with 1 Axes>"
      ]
     },
     "metadata": {
      "needs_background": "light"
     },
     "output_type": "display_data"
    }
   ],
   "source": [
    "sns.countplot(df['smoker'])\n",
    "df['smoker'].value_counts()"
   ]
  },
  {
   "cell_type": "code",
   "execution_count": 8,
   "id": "deee9560",
   "metadata": {},
   "outputs": [
    {
     "data": {
      "text/plain": [
       "southeast    364\n",
       "southwest    325\n",
       "northwest    325\n",
       "northeast    324\n",
       "Name: region, dtype: int64"
      ]
     },
     "execution_count": 8,
     "metadata": {},
     "output_type": "execute_result"
    },
    {
     "data": {
      "image/png": "[encoded data removed]",
      "text/plain": [
       "<Figure size 432x288 with 1 Axes>"
      ]
     },
     "metadata": {
      "needs_background": "light"
     },
     "output_type": "display_data"
    }
   ],
   "source": [
    "sns.countplot(df['region'])\n",
    "df['region'].value_counts()"
   ]
  },
  {
   "cell_type": "code",
   "execution_count": 9,
   "id": "72171a7d",
   "metadata": {},
   "outputs": [
    {
     "data": {
      "text/plain": [
       "0    574\n",
       "1    324\n",
       "2    240\n",
       "3    157\n",
       "4     25\n",
       "5     18\n",
       "Name: children, dtype: int64"
      ]
     },
     "execution_count": 9,
     "metadata": {},
     "output_type": "execute_result"
    },
    {
     "data": {
      "image/png": "[encoded data removed]",
      "text/plain": [
       "<Figure size 432x288 with 1 Axes>"
      ]
     },
     "metadata": {
      "needs_background": "light"
     },
     "output_type": "display_data"
    }
   ],
   "source": [
    "sns.countplot(df['children'])\n",
    "df['children'].value_counts()"
   ]
  },
  {
   "cell_type": "code",
   "execution_count": 10,
   "id": "0f46c47c",
   "metadata": {},
   "outputs": [
    {
     "data": {
      "text/plain": [
       "<seaborn.axisgrid.FacetGrid at 0xa63fef0af0>"
      ]
     },
     "execution_count": 10,
     "metadata": {},
     "output_type": "execute_result"
    },
    {
     "data": {
      "image/png": "[encoded data removed]",
      "text/plain": [
       "<Figure size 360x360 with 1 Axes>"
      ]
     },
     "metadata": {
      "needs_background": "light"
     },
     "output_type": "display_data"
    }
   ],
   "source": [
    "sns.catplot(x='children', y='age',data=df)"
   ]
  },
  {
   "cell_type": "code",
   "execution_count": 11,
   "id": "0d12d7a7",
   "metadata": {},
   "outputs": [
    {
     "data": {
      "text/plain": [
       "<AxesSubplot:xlabel='bmi', ylabel='Density'>"
      ]
     },
     "execution_count": 11,
     "metadata": {},
     "output_type": "execute_result"
    },
    {
     "data": {
      "image/png": "[encoded data removed]",
      "text/plain": [
       "<Figure size 432x288 with 1 Axes>"
      ]
     },
     "metadata": {
      "needs_background": "light"
     },
     "output_type": "display_data"
    }
   ],
   "source": [
    "# cheking the distribution of the contnuous data\n",
    "# for the columns BMI and Charges\n",
    "sns.distplot(df['bmi'],kde=True)"
   ]
  },
  {
   "cell_type": "code",
   "execution_count": 12,
   "id": "f8813b08",
   "metadata": {},
   "outputs": [
    {
     "data": {
      "text/plain": [
       "<AxesSubplot:xlabel='charges', ylabel='Density'>"
      ]
     },
     "execution_count": 12,
     "metadata": {},
     "output_type": "execute_result"
    },
    {
     "data": {
      "image/png": "[encoded data removed]",
      "text/plain": [
       "<Figure size 432x288 with 1 Axes>"
      ]
     },
     "metadata": {
      "needs_background": "light"
     },
     "output_type": "display_data"
    }
   ],
   "source": [
    "sns.distplot(df['charges'],kde=True)"
   ]
  },
  {
   "cell_type": "markdown",
   "id": "d9806ee1",
   "metadata": {},
   "source": [
    "# Preprocessing the data "
   ]
  },
  {
   "cell_type": "markdown",
   "id": "c45c20ef",
   "metadata": {},
   "source": [
    "**Encoding the data**"
   ]
  },
  {
   "cell_type": "code",
   "execution_count": 13,
   "id": "97694463",
   "metadata": {},
   "outputs": [
    {
     "data": {
      "text/html": [
       "<div>\n",
       "<style scoped>\n",
       "    .dataframe tbody tr th:only-of-type {\n",
       "        vertical-align: middle;\n",
       "    }\n",
       "\n",
       "    .dataframe tbody tr th {\n",
       "        vertical-align: top;\n",
       "    }\n",
       "\n",
       "    .dataframe thead th {\n",
       "        text-align: right;\n",
       "    }\n",
       "</style>\n",
       "<table border=\"1\" class=\"dataframe\">\n",
       "  <thead>\n",
       "    <tr style=\"text-align: right;\">\n",
       "      <th></th>\n",
       "      <th>age</th>\n",
       "      <th>sex</th>\n",
       "      <th>bmi</th>\n",
       "      <th>children</th>\n",
       "      <th>smoker</th>\n",
       "      <th>region</th>\n",
       "      <th>charges</th>\n",
       "    </tr>\n",
       "  </thead>\n",
       "  <tbody>\n",
       "    <tr>\n",
       "      <th>0</th>\n",
       "      <td>19</td>\n",
       "      <td>0.0</td>\n",
       "      <td>27.900</td>\n",
       "      <td>0</td>\n",
       "      <td>1.0</td>\n",
       "      <td>3.0</td>\n",
       "      <td>16884.92400</td>\n",
       "    </tr>\n",
       "    <tr>\n",
       "      <th>1</th>\n",
       "      <td>18</td>\n",
       "      <td>1.0</td>\n",
       "      <td>33.770</td>\n",
       "      <td>1</td>\n",
       "      <td>0.0</td>\n",
       "      <td>2.0</td>\n",
       "      <td>1725.55230</td>\n",
       "    </tr>\n",
       "    <tr>\n",
       "      <th>2</th>\n",
       "      <td>28</td>\n",
       "      <td>1.0</td>\n",
       "      <td>33.000</td>\n",
       "      <td>3</td>\n",
       "      <td>0.0</td>\n",
       "      <td>2.0</td>\n",
       "      <td>4449.46200</td>\n",
       "    </tr>\n",
       "    <tr>\n",
       "      <th>3</th>\n",
       "      <td>33</td>\n",
       "      <td>1.0</td>\n",
       "      <td>22.705</td>\n",
       "      <td>0</td>\n",
       "      <td>0.0</td>\n",
       "      <td>1.0</td>\n",
       "      <td>21984.47061</td>\n",
       "    </tr>\n",
       "    <tr>\n",
       "      <th>4</th>\n",
       "      <td>32</td>\n",
       "      <td>1.0</td>\n",
       "      <td>28.880</td>\n",
       "      <td>0</td>\n",
       "      <td>0.0</td>\n",
       "      <td>1.0</td>\n",
       "      <td>3866.85520</td>\n",
       "    </tr>\n",
       "    <tr>\n",
       "      <th>...</th>\n",
       "      <td>...</td>\n",
       "      <td>...</td>\n",
       "      <td>...</td>\n",
       "      <td>...</td>\n",
       "      <td>...</td>\n",
       "      <td>...</td>\n",
       "      <td>...</td>\n",
       "    </tr>\n",
       "    <tr>\n",
       "      <th>1333</th>\n",
       "      <td>50</td>\n",
       "      <td>1.0</td>\n",
       "      <td>30.970</td>\n",
       "      <td>3</td>\n",
       "      <td>0.0</td>\n",
       "      <td>1.0</td>\n",
       "      <td>10600.54830</td>\n",
       "    </tr>\n",
       "    <tr>\n",
       "      <th>1334</th>\n",
       "      <td>18</td>\n",
       "      <td>0.0</td>\n",
       "      <td>31.920</td>\n",
       "      <td>0</td>\n",
       "      <td>0.0</td>\n",
       "      <td>0.0</td>\n",
       "      <td>2205.98080</td>\n",
       "    </tr>\n",
       "    <tr>\n",
       "      <th>1335</th>\n",
       "      <td>18</td>\n",
       "      <td>0.0</td>\n",
       "      <td>36.850</td>\n",
       "      <td>0</td>\n",
       "      <td>0.0</td>\n",
       "      <td>2.0</td>\n",
       "      <td>1629.83350</td>\n",
       "    </tr>\n",
       "    <tr>\n",
       "      <th>1336</th>\n",
       "      <td>21</td>\n",
       "      <td>0.0</td>\n",
       "      <td>25.800</td>\n",
       "      <td>0</td>\n",
       "      <td>0.0</td>\n",
       "      <td>3.0</td>\n",
       "      <td>2007.94500</td>\n",
       "    </tr>\n",
       "    <tr>\n",
       "      <th>1337</th>\n",
       "      <td>61</td>\n",
       "      <td>0.0</td>\n",
       "      <td>29.070</td>\n",
       "      <td>0</td>\n",
       "      <td>1.0</td>\n",
       "      <td>1.0</td>\n",
       "      <td>29141.36030</td>\n",
       "    </tr>\n",
       "  </tbody>\n",
       "</table>\n",
       "<p>1338 rows × 7 columns</p>\n",
       "</div>"
      ],
      "text/plain": [
       "      age  sex     bmi  children  smoker  region      charges\n",
       "0      19  0.0  27.900         0     1.0     3.0  16884.92400\n",
       "1      18  1.0  33.770         1     0.0     2.0   1725.55230\n",
       "2      28  1.0  33.000         3     0.0     2.0   4449.46200\n",
       "3      33  1.0  22.705         0     0.0     1.0  21984.47061\n",
       "4      32  1.0  28.880         0     0.0     1.0   3866.85520\n",
       "...   ...  ...     ...       ...     ...     ...          ...\n",
       "1333   50  1.0  30.970         3     0.0     1.0  10600.54830\n",
       "1334   18  0.0  31.920         0     0.0     0.0   2205.98080\n",
       "1335   18  0.0  36.850         0     0.0     2.0   1629.83350\n",
       "1336   21  0.0  25.800         0     0.0     3.0   2007.94500\n",
       "1337   61  0.0  29.070         0     1.0     1.0  29141.36030\n",
       "\n",
       "[1338 rows x 7 columns]"
      ]
     },
     "execution_count": 13,
     "metadata": {},
     "output_type": "execute_result"
    }
   ],
   "source": [
    "#importing library\n",
    "from sklearn.preprocessing import OrdinalEncoder\n",
    "oren=OrdinalEncoder()\n",
    "\n",
    "for i in df.columns:\n",
    "    if df[i].dtypes=='object':\n",
    "        df[i]=oren.fit_transform(df[i].values.reshape(-1,1))\n",
    "        \n",
    "df"
   ]
  },
  {
   "cell_type": "markdown",
   "id": "51fa3096",
   "metadata": {},
   "source": [
    "**using describe function**"
   ]
  },
  {
   "cell_type": "code",
   "execution_count": 14,
   "id": "e236b263",
   "metadata": {},
   "outputs": [
    {
     "data": {
      "text/html": [
       "<div>\n",
       "<style scoped>\n",
       "    .dataframe tbody tr th:only-of-type {\n",
       "        vertical-align: middle;\n",
       "    }\n",
       "\n",
       "    .dataframe tbody tr th {\n",
       "        vertical-align: top;\n",
       "    }\n",
       "\n",
       "    .dataframe thead th {\n",
       "        text-align: right;\n",
       "    }\n",
       "</style>\n",
       "<table border=\"1\" class=\"dataframe\">\n",
       "  <thead>\n",
       "    <tr style=\"text-align: right;\">\n",
       "      <th></th>\n",
       "      <th>age</th>\n",
       "      <th>sex</th>\n",
       "      <th>bmi</th>\n",
       "      <th>children</th>\n",
       "      <th>smoker</th>\n",
       "      <th>region</th>\n",
       "      <th>charges</th>\n",
       "    </tr>\n",
       "  </thead>\n",
       "  <tbody>\n",
       "    <tr>\n",
       "      <th>count</th>\n",
       "      <td>1338.000000</td>\n",
       "      <td>1338.000000</td>\n",
       "      <td>1338.000000</td>\n",
       "      <td>1338.000000</td>\n",
       "      <td>1338.000000</td>\n",
       "      <td>1338.000000</td>\n",
       "      <td>1338.000000</td>\n",
       "    </tr>\n",
       "    <tr>\n",
       "      <th>mean</th>\n",
       "      <td>39.207025</td>\n",
       "      <td>0.505232</td>\n",
       "      <td>30.663397</td>\n",
       "      <td>1.094918</td>\n",
       "      <td>0.204783</td>\n",
       "      <td>1.515695</td>\n",
       "      <td>13270.422265</td>\n",
       "    </tr>\n",
       "    <tr>\n",
       "      <th>std</th>\n",
       "      <td>14.049960</td>\n",
       "      <td>0.500160</td>\n",
       "      <td>6.098187</td>\n",
       "      <td>1.205493</td>\n",
       "      <td>0.403694</td>\n",
       "      <td>1.104885</td>\n",
       "      <td>12110.011237</td>\n",
       "    </tr>\n",
       "    <tr>\n",
       "      <th>min</th>\n",
       "      <td>18.000000</td>\n",
       "      <td>0.000000</td>\n",
       "      <td>15.960000</td>\n",
       "      <td>0.000000</td>\n",
       "      <td>0.000000</td>\n",
       "      <td>0.000000</td>\n",
       "      <td>1121.873900</td>\n",
       "    </tr>\n",
       "    <tr>\n",
       "      <th>25%</th>\n",
       "      <td>27.000000</td>\n",
       "      <td>0.000000</td>\n",
       "      <td>26.296250</td>\n",
       "      <td>0.000000</td>\n",
       "      <td>0.000000</td>\n",
       "      <td>1.000000</td>\n",
       "      <td>4740.287150</td>\n",
       "    </tr>\n",
       "    <tr>\n",
       "      <th>50%</th>\n",
       "      <td>39.000000</td>\n",
       "      <td>1.000000</td>\n",
       "      <td>30.400000</td>\n",
       "      <td>1.000000</td>\n",
       "      <td>0.000000</td>\n",
       "      <td>2.000000</td>\n",
       "      <td>9382.033000</td>\n",
       "    </tr>\n",
       "    <tr>\n",
       "      <th>75%</th>\n",
       "      <td>51.000000</td>\n",
       "      <td>1.000000</td>\n",
       "      <td>34.693750</td>\n",
       "      <td>2.000000</td>\n",
       "      <td>0.000000</td>\n",
       "      <td>2.000000</td>\n",
       "      <td>16639.912515</td>\n",
       "    </tr>\n",
       "    <tr>\n",
       "      <th>max</th>\n",
       "      <td>64.000000</td>\n",
       "      <td>1.000000</td>\n",
       "      <td>53.130000</td>\n",
       "      <td>5.000000</td>\n",
       "      <td>1.000000</td>\n",
       "      <td>3.000000</td>\n",
       "      <td>63770.428010</td>\n",
       "    </tr>\n",
       "  </tbody>\n",
       "</table>\n",
       "</div>"
      ],
      "text/plain": [
       "               age          sex          bmi     children       smoker  \\\n",
       "count  1338.000000  1338.000000  1338.000000  1338.000000  1338.000000   \n",
       "mean     39.207025     0.505232    30.663397     1.094918     0.204783   \n",
       "std      14.049960     0.500160     6.098187     1.205493     0.403694   \n",
       "min      18.000000     0.000000    15.960000     0.000000     0.000000   \n",
       "25%      27.000000     0.000000    26.296250     0.000000     0.000000   \n",
       "50%      39.000000     1.000000    30.400000     1.000000     0.000000   \n",
       "75%      51.000000     1.000000    34.693750     2.000000     0.000000   \n",
       "max      64.000000     1.000000    53.130000     5.000000     1.000000   \n",
       "\n",
       "            region       charges  \n",
       "count  1338.000000   1338.000000  \n",
       "mean      1.515695  13270.422265  \n",
       "std       1.104885  12110.011237  \n",
       "min       0.000000   1121.873900  \n",
       "25%       1.000000   4740.287150  \n",
       "50%       2.000000   9382.033000  \n",
       "75%       2.000000  16639.912515  \n",
       "max       3.000000  63770.428010  "
      ]
     },
     "execution_count": 14,
     "metadata": {},
     "output_type": "execute_result"
    }
   ],
   "source": [
    "df.describe()"
   ]
  },
  {
   "cell_type": "markdown",
   "id": "4f4228dc",
   "metadata": {},
   "source": [
    "**Observations**\n",
    "\n",
    "We can only draw some conclusion from the continuos columns i.e. BMI only\n",
    "we can see that the mean and median of the bmi column is nearly same we can say that the it is near normal distribution it also resembles from the histplot done earlier\n",
    "\n",
    "**charges column the data is right (positive) skewed as mean is greater than median**\n"
   ]
  },
  {
   "cell_type": "markdown",
   "id": "e3dee898",
   "metadata": {},
   "source": [
    "**Correlation of the data**"
   ]
  },
  {
   "cell_type": "code",
   "execution_count": 15,
   "id": "3f8336e8",
   "metadata": {},
   "outputs": [
    {
     "data": {
      "text/html": [
       "<div>\n",
       "<style scoped>\n",
       "    .dataframe tbody tr th:only-of-type {\n",
       "        vertical-align: middle;\n",
       "    }\n",
       "\n",
       "    .dataframe tbody tr th {\n",
       "        vertical-align: top;\n",
       "    }\n",
       "\n",
       "    .dataframe thead th {\n",
       "        text-align: right;\n",
       "    }\n",
       "</style>\n",
       "<table border=\"1\" class=\"dataframe\">\n",
       "  <thead>\n",
       "    <tr style=\"text-align: right;\">\n",
       "      <th></th>\n",
       "      <th>age</th>\n",
       "      <th>sex</th>\n",
       "      <th>bmi</th>\n",
       "      <th>children</th>\n",
       "      <th>smoker</th>\n",
       "      <th>region</th>\n",
       "      <th>charges</th>\n",
       "    </tr>\n",
       "  </thead>\n",
       "  <tbody>\n",
       "    <tr>\n",
       "      <th>age</th>\n",
       "      <td>1.000000</td>\n",
       "      <td>-0.020856</td>\n",
       "      <td>0.109272</td>\n",
       "      <td>0.042469</td>\n",
       "      <td>-0.025019</td>\n",
       "      <td>0.002127</td>\n",
       "      <td>0.299008</td>\n",
       "    </tr>\n",
       "    <tr>\n",
       "      <th>sex</th>\n",
       "      <td>-0.020856</td>\n",
       "      <td>1.000000</td>\n",
       "      <td>0.046371</td>\n",
       "      <td>0.017163</td>\n",
       "      <td>0.076185</td>\n",
       "      <td>0.004588</td>\n",
       "      <td>0.057292</td>\n",
       "    </tr>\n",
       "    <tr>\n",
       "      <th>bmi</th>\n",
       "      <td>0.109272</td>\n",
       "      <td>0.046371</td>\n",
       "      <td>1.000000</td>\n",
       "      <td>0.012759</td>\n",
       "      <td>0.003750</td>\n",
       "      <td>0.157566</td>\n",
       "      <td>0.198341</td>\n",
       "    </tr>\n",
       "    <tr>\n",
       "      <th>children</th>\n",
       "      <td>0.042469</td>\n",
       "      <td>0.017163</td>\n",
       "      <td>0.012759</td>\n",
       "      <td>1.000000</td>\n",
       "      <td>0.007673</td>\n",
       "      <td>0.016569</td>\n",
       "      <td>0.067998</td>\n",
       "    </tr>\n",
       "    <tr>\n",
       "      <th>smoker</th>\n",
       "      <td>-0.025019</td>\n",
       "      <td>0.076185</td>\n",
       "      <td>0.003750</td>\n",
       "      <td>0.007673</td>\n",
       "      <td>1.000000</td>\n",
       "      <td>-0.002181</td>\n",
       "      <td>0.787251</td>\n",
       "    </tr>\n",
       "    <tr>\n",
       "      <th>region</th>\n",
       "      <td>0.002127</td>\n",
       "      <td>0.004588</td>\n",
       "      <td>0.157566</td>\n",
       "      <td>0.016569</td>\n",
       "      <td>-0.002181</td>\n",
       "      <td>1.000000</td>\n",
       "      <td>-0.006208</td>\n",
       "    </tr>\n",
       "    <tr>\n",
       "      <th>charges</th>\n",
       "      <td>0.299008</td>\n",
       "      <td>0.057292</td>\n",
       "      <td>0.198341</td>\n",
       "      <td>0.067998</td>\n",
       "      <td>0.787251</td>\n",
       "      <td>-0.006208</td>\n",
       "      <td>1.000000</td>\n",
       "    </tr>\n",
       "  </tbody>\n",
       "</table>\n",
       "</div>"
      ],
      "text/plain": [
       "               age       sex       bmi  children    smoker    region   charges\n",
       "age       1.000000 -0.020856  0.109272  0.042469 -0.025019  0.002127  0.299008\n",
       "sex      -0.020856  1.000000  0.046371  0.017163  0.076185  0.004588  0.057292\n",
       "bmi       0.109272  0.046371  1.000000  0.012759  0.003750  0.157566  0.198341\n",
       "children  0.042469  0.017163  0.012759  1.000000  0.007673  0.016569  0.067998\n",
       "smoker   -0.025019  0.076185  0.003750  0.007673  1.000000 -0.002181  0.787251\n",
       "region    0.002127  0.004588  0.157566  0.016569 -0.002181  1.000000 -0.006208\n",
       "charges   0.299008  0.057292  0.198341  0.067998  0.787251 -0.006208  1.000000"
      ]
     },
     "execution_count": 15,
     "metadata": {},
     "output_type": "execute_result"
    }
   ],
   "source": [
    "df.corr()"
   ]
  },
  {
   "cell_type": "code",
   "execution_count": 16,
   "id": "f435d78a",
   "metadata": {},
   "outputs": [
    {
     "data": {
      "text/plain": [
       "<AxesSubplot:>"
      ]
     },
     "execution_count": 16,
     "metadata": {},
     "output_type": "execute_result"
    },
    {
     "data": {
      "image/png": "[encoded data removed]",
      "text/plain": [
       "<Figure size 720x360 with 2 Axes>"
      ]
     },
     "metadata": {
      "needs_background": "light"
     },
     "output_type": "display_data"
    }
   ],
   "source": [
    "plt.figure(figsize=(10,5))\n",
    "sns.heatmap(df.corr(), annot=True, )"
   ]
  },
  {
   "cell_type": "code",
   "execution_count": 17,
   "id": "1c83497c",
   "metadata": {},
   "outputs": [
    {
     "data": {
      "text/plain": [
       "charges     1.000000\n",
       "smoker      0.787251\n",
       "age         0.299008\n",
       "bmi         0.198341\n",
       "children    0.067998\n",
       "sex         0.057292\n",
       "region     -0.006208\n",
       "Name: charges, dtype: float64"
      ]
     },
     "execution_count": 17,
     "metadata": {},
     "output_type": "execute_result"
    }
   ],
   "source": [
    "df.corr()['charges'].sort_values(ascending=False)"
   ]
  },
  {
   "cell_type": "markdown",
   "id": "006ae64b",
   "metadata": {},
   "source": [
    "**Observation from the correlation**\n",
    "\n",
    "1. smoker is highly coorelated with charges with 78.72%\n",
    "2. age is having some (less) correlation with charges with 29.99%\n",
    "3. bmi is 19.83% correlation (very less) with target\n",
    "4. children is 6.79% very weak bond with charges\n",
    "5. gender is also having 5.72% weak bond\n",
    "6. region is not having any correlation from above data"
   ]
  },
  {
   "cell_type": "markdown",
   "id": "73b3028a",
   "metadata": {},
   "source": [
    "**to chech the skewness of the data**"
   ]
  },
  {
   "cell_type": "code",
   "execution_count": 18,
   "id": "18a37bc1",
   "metadata": {},
   "outputs": [
    {
     "data": {
      "text/plain": [
       "age         0.055673\n",
       "sex        -0.020951\n",
       "bmi         0.284047\n",
       "children    0.938380\n",
       "smoker      1.464766\n",
       "region     -0.038101\n",
       "charges     1.515880\n",
       "dtype: float64"
      ]
     },
     "execution_count": 18,
     "metadata": {},
     "output_type": "execute_result"
    }
   ],
   "source": [
    "df.skew()"
   ]
  },
  {
   "cell_type": "markdown",
   "id": "37feca5f",
   "metadata": {},
   "source": [
    "**Observations**\n",
    "1. charges column is the target (label) not to betrated to remove the skewness\n",
    "2. smoker is categorical data cannot be treated for skewnes\n",
    "3. even children no. cannot be trated for skewness\n",
    "4. age is also not a continuous data cannot be trated for skewness\n",
    "\n",
    "**hence none of the is skewed and cannot be trated for removing skewness**"
   ]
  },
  {
   "cell_type": "markdown",
   "id": "a45beccf",
   "metadata": {},
   "source": [
    "**Checking outliers**"
   ]
  },
  {
   "cell_type": "code",
   "execution_count": 19,
   "id": "babe98b0",
   "metadata": {},
   "outputs": [
    {
     "data": {
      "text/plain": [
       "age            AxesSubplot(0.125,0.536818;0.168478x0.343182)\n",
       "sex         AxesSubplot(0.327174,0.536818;0.168478x0.343182)\n",
       "bmi         AxesSubplot(0.529348,0.536818;0.168478x0.343182)\n",
       "children    AxesSubplot(0.731522,0.536818;0.168478x0.343182)\n",
       "smoker            AxesSubplot(0.125,0.125;0.168478x0.343182)\n",
       "region         AxesSubplot(0.327174,0.125;0.168478x0.343182)\n",
       "charges        AxesSubplot(0.529348,0.125;0.168478x0.343182)\n",
       "dtype: object"
      ]
     },
     "execution_count": 19,
     "metadata": {},
     "output_type": "execute_result"
    },
    {
     "data": {
      "image/png": "[encoded data removed]",
      "text/plain": [
       "<Figure size 432x288 with 8 Axes>"
      ]
     },
     "metadata": {
      "needs_background": "light"
     },
     "output_type": "display_data"
    }
   ],
   "source": [
    "df.plot(kind='box',subplots=True, layout=(2,4))"
   ]
  },
  {
   "cell_type": "code",
   "execution_count": 20,
   "id": "3410620f",
   "metadata": {},
   "outputs": [
    {
     "data": {
      "text/plain": [
       "(1338, 7)"
      ]
     },
     "execution_count": 20,
     "metadata": {},
     "output_type": "execute_result"
    }
   ],
   "source": [
    "df.shape"
   ]
  },
  {
   "cell_type": "markdown",
   "id": "8fc73473",
   "metadata": {},
   "source": [
    "**Removing Outliers with zscore method**"
   ]
  },
  {
   "cell_type": "code",
   "execution_count": 21,
   "id": "8f53aff7",
   "metadata": {},
   "outputs": [
    {
     "data": {
      "text/plain": [
       "(array([  32,   34,   71,  116,  166,  413,  425,  438,  543,  568,  577,\n",
       "         640,  819,  847,  877,  932,  937,  969,  984, 1047, 1085, 1116,\n",
       "        1130, 1146, 1230, 1245, 1272, 1300, 1317], dtype=int64),\n",
       " array([3, 6, 3, 2, 3, 3, 3, 3, 6, 3, 6, 3, 6, 2, 3, 3, 3, 3, 3, 2, 3, 3,\n",
       "        3, 6, 6, 3, 3, 6, 2], dtype=int64))"
      ]
     },
     "execution_count": 21,
     "metadata": {},
     "output_type": "execute_result"
    }
   ],
   "source": [
    "#importing libraries\n",
    "\n",
    "from scipy.stats import zscore\n",
    "\n",
    "z=np.abs(zscore(df))\n",
    "threshold=3\n",
    "np.where(z>3)\n",
    "\n"
   ]
  },
  {
   "cell_type": "code",
   "execution_count": 22,
   "id": "77737588",
   "metadata": {},
   "outputs": [
    {
     "data": {
      "text/html": [
       "<div>\n",
       "<style scoped>\n",
       "    .dataframe tbody tr th:only-of-type {\n",
       "        vertical-align: middle;\n",
       "    }\n",
       "\n",
       "    .dataframe tbody tr th {\n",
       "        vertical-align: top;\n",
       "    }\n",
       "\n",
       "    .dataframe thead th {\n",
       "        text-align: right;\n",
       "    }\n",
       "</style>\n",
       "<table border=\"1\" class=\"dataframe\">\n",
       "  <thead>\n",
       "    <tr style=\"text-align: right;\">\n",
       "      <th></th>\n",
       "      <th>age</th>\n",
       "      <th>sex</th>\n",
       "      <th>bmi</th>\n",
       "      <th>children</th>\n",
       "      <th>smoker</th>\n",
       "      <th>region</th>\n",
       "      <th>charges</th>\n",
       "    </tr>\n",
       "  </thead>\n",
       "  <tbody>\n",
       "    <tr>\n",
       "      <th>0</th>\n",
       "      <td>19</td>\n",
       "      <td>0.0</td>\n",
       "      <td>27.900</td>\n",
       "      <td>0</td>\n",
       "      <td>1.0</td>\n",
       "      <td>3.0</td>\n",
       "      <td>16884.92400</td>\n",
       "    </tr>\n",
       "    <tr>\n",
       "      <th>1</th>\n",
       "      <td>18</td>\n",
       "      <td>1.0</td>\n",
       "      <td>33.770</td>\n",
       "      <td>1</td>\n",
       "      <td>0.0</td>\n",
       "      <td>2.0</td>\n",
       "      <td>1725.55230</td>\n",
       "    </tr>\n",
       "    <tr>\n",
       "      <th>2</th>\n",
       "      <td>28</td>\n",
       "      <td>1.0</td>\n",
       "      <td>33.000</td>\n",
       "      <td>3</td>\n",
       "      <td>0.0</td>\n",
       "      <td>2.0</td>\n",
       "      <td>4449.46200</td>\n",
       "    </tr>\n",
       "    <tr>\n",
       "      <th>3</th>\n",
       "      <td>33</td>\n",
       "      <td>1.0</td>\n",
       "      <td>22.705</td>\n",
       "      <td>0</td>\n",
       "      <td>0.0</td>\n",
       "      <td>1.0</td>\n",
       "      <td>21984.47061</td>\n",
       "    </tr>\n",
       "    <tr>\n",
       "      <th>4</th>\n",
       "      <td>32</td>\n",
       "      <td>1.0</td>\n",
       "      <td>28.880</td>\n",
       "      <td>0</td>\n",
       "      <td>0.0</td>\n",
       "      <td>1.0</td>\n",
       "      <td>3866.85520</td>\n",
       "    </tr>\n",
       "    <tr>\n",
       "      <th>...</th>\n",
       "      <td>...</td>\n",
       "      <td>...</td>\n",
       "      <td>...</td>\n",
       "      <td>...</td>\n",
       "      <td>...</td>\n",
       "      <td>...</td>\n",
       "      <td>...</td>\n",
       "    </tr>\n",
       "    <tr>\n",
       "      <th>1333</th>\n",
       "      <td>50</td>\n",
       "      <td>1.0</td>\n",
       "      <td>30.970</td>\n",
       "      <td>3</td>\n",
       "      <td>0.0</td>\n",
       "      <td>1.0</td>\n",
       "      <td>10600.54830</td>\n",
       "    </tr>\n",
       "    <tr>\n",
       "      <th>1334</th>\n",
       "      <td>18</td>\n",
       "      <td>0.0</td>\n",
       "      <td>31.920</td>\n",
       "      <td>0</td>\n",
       "      <td>0.0</td>\n",
       "      <td>0.0</td>\n",
       "      <td>2205.98080</td>\n",
       "    </tr>\n",
       "    <tr>\n",
       "      <th>1335</th>\n",
       "      <td>18</td>\n",
       "      <td>0.0</td>\n",
       "      <td>36.850</td>\n",
       "      <td>0</td>\n",
       "      <td>0.0</td>\n",
       "      <td>2.0</td>\n",
       "      <td>1629.83350</td>\n",
       "    </tr>\n",
       "    <tr>\n",
       "      <th>1336</th>\n",
       "      <td>21</td>\n",
       "      <td>0.0</td>\n",
       "      <td>25.800</td>\n",
       "      <td>0</td>\n",
       "      <td>0.0</td>\n",
       "      <td>3.0</td>\n",
       "      <td>2007.94500</td>\n",
       "    </tr>\n",
       "    <tr>\n",
       "      <th>1337</th>\n",
       "      <td>61</td>\n",
       "      <td>0.0</td>\n",
       "      <td>29.070</td>\n",
       "      <td>0</td>\n",
       "      <td>1.0</td>\n",
       "      <td>1.0</td>\n",
       "      <td>29141.36030</td>\n",
       "    </tr>\n",
       "  </tbody>\n",
       "</table>\n",
       "<p>1309 rows × 7 columns</p>\n",
       "</div>"
      ],
      "text/plain": [
       "      age  sex     bmi  children  smoker  region      charges\n",
       "0      19  0.0  27.900         0     1.0     3.0  16884.92400\n",
       "1      18  1.0  33.770         1     0.0     2.0   1725.55230\n",
       "2      28  1.0  33.000         3     0.0     2.0   4449.46200\n",
       "3      33  1.0  22.705         0     0.0     1.0  21984.47061\n",
       "4      32  1.0  28.880         0     0.0     1.0   3866.85520\n",
       "...   ...  ...     ...       ...     ...     ...          ...\n",
       "1333   50  1.0  30.970         3     0.0     1.0  10600.54830\n",
       "1334   18  0.0  31.920         0     0.0     0.0   2205.98080\n",
       "1335   18  0.0  36.850         0     0.0     2.0   1629.83350\n",
       "1336   21  0.0  25.800         0     0.0     3.0   2007.94500\n",
       "1337   61  0.0  29.070         0     1.0     1.0  29141.36030\n",
       "\n",
       "[1309 rows x 7 columns]"
      ]
     },
     "execution_count": 22,
     "metadata": {},
     "output_type": "execute_result"
    }
   ],
   "source": [
    "df_new=df[(z<3).all(axis=1)]\n",
    "df_new"
   ]
  },
  {
   "cell_type": "code",
   "execution_count": 23,
   "id": "d6cd4c1a",
   "metadata": {},
   "outputs": [
    {
     "data": {
      "text/plain": [
       "2.167414050822123"
      ]
     },
     "execution_count": 23,
     "metadata": {},
     "output_type": "execute_result"
    }
   ],
   "source": [
    "#dataloss\n",
    "loss=(1338-1309)/1338*100\n",
    "loss"
   ]
  },
  {
   "cell_type": "markdown",
   "id": "8754957e",
   "metadata": {},
   "source": [
    "the loss of the data is 2.16% which can be neglected and we can proceed further"
   ]
  },
  {
   "cell_type": "markdown",
   "id": "0c3b50d6",
   "metadata": {},
   "source": [
    "**dividing the data into inputs and output**"
   ]
  },
  {
   "cell_type": "code",
   "execution_count": 24,
   "id": "d2126fb4",
   "metadata": {},
   "outputs": [
    {
     "data": {
      "text/html": [
       "<div>\n",
       "<style scoped>\n",
       "    .dataframe tbody tr th:only-of-type {\n",
       "        vertical-align: middle;\n",
       "    }\n",
       "\n",
       "    .dataframe tbody tr th {\n",
       "        vertical-align: top;\n",
       "    }\n",
       "\n",
       "    .dataframe thead th {\n",
       "        text-align: right;\n",
       "    }\n",
       "</style>\n",
       "<table border=\"1\" class=\"dataframe\">\n",
       "  <thead>\n",
       "    <tr style=\"text-align: right;\">\n",
       "      <th></th>\n",
       "      <th>age</th>\n",
       "      <th>sex</th>\n",
       "      <th>bmi</th>\n",
       "      <th>children</th>\n",
       "      <th>smoker</th>\n",
       "      <th>region</th>\n",
       "    </tr>\n",
       "  </thead>\n",
       "  <tbody>\n",
       "    <tr>\n",
       "      <th>0</th>\n",
       "      <td>19</td>\n",
       "      <td>0.0</td>\n",
       "      <td>27.900</td>\n",
       "      <td>0</td>\n",
       "      <td>1.0</td>\n",
       "      <td>3.0</td>\n",
       "    </tr>\n",
       "    <tr>\n",
       "      <th>1</th>\n",
       "      <td>18</td>\n",
       "      <td>1.0</td>\n",
       "      <td>33.770</td>\n",
       "      <td>1</td>\n",
       "      <td>0.0</td>\n",
       "      <td>2.0</td>\n",
       "    </tr>\n",
       "    <tr>\n",
       "      <th>2</th>\n",
       "      <td>28</td>\n",
       "      <td>1.0</td>\n",
       "      <td>33.000</td>\n",
       "      <td>3</td>\n",
       "      <td>0.0</td>\n",
       "      <td>2.0</td>\n",
       "    </tr>\n",
       "    <tr>\n",
       "      <th>3</th>\n",
       "      <td>33</td>\n",
       "      <td>1.0</td>\n",
       "      <td>22.705</td>\n",
       "      <td>0</td>\n",
       "      <td>0.0</td>\n",
       "      <td>1.0</td>\n",
       "    </tr>\n",
       "    <tr>\n",
       "      <th>4</th>\n",
       "      <td>32</td>\n",
       "      <td>1.0</td>\n",
       "      <td>28.880</td>\n",
       "      <td>0</td>\n",
       "      <td>0.0</td>\n",
       "      <td>1.0</td>\n",
       "    </tr>\n",
       "    <tr>\n",
       "      <th>...</th>\n",
       "      <td>...</td>\n",
       "      <td>...</td>\n",
       "      <td>...</td>\n",
       "      <td>...</td>\n",
       "      <td>...</td>\n",
       "      <td>...</td>\n",
       "    </tr>\n",
       "    <tr>\n",
       "      <th>1333</th>\n",
       "      <td>50</td>\n",
       "      <td>1.0</td>\n",
       "      <td>30.970</td>\n",
       "      <td>3</td>\n",
       "      <td>0.0</td>\n",
       "      <td>1.0</td>\n",
       "    </tr>\n",
       "    <tr>\n",
       "      <th>1334</th>\n",
       "      <td>18</td>\n",
       "      <td>0.0</td>\n",
       "      <td>31.920</td>\n",
       "      <td>0</td>\n",
       "      <td>0.0</td>\n",
       "      <td>0.0</td>\n",
       "    </tr>\n",
       "    <tr>\n",
       "      <th>1335</th>\n",
       "      <td>18</td>\n",
       "      <td>0.0</td>\n",
       "      <td>36.850</td>\n",
       "      <td>0</td>\n",
       "      <td>0.0</td>\n",
       "      <td>2.0</td>\n",
       "    </tr>\n",
       "    <tr>\n",
       "      <th>1336</th>\n",
       "      <td>21</td>\n",
       "      <td>0.0</td>\n",
       "      <td>25.800</td>\n",
       "      <td>0</td>\n",
       "      <td>0.0</td>\n",
       "      <td>3.0</td>\n",
       "    </tr>\n",
       "    <tr>\n",
       "      <th>1337</th>\n",
       "      <td>61</td>\n",
       "      <td>0.0</td>\n",
       "      <td>29.070</td>\n",
       "      <td>0</td>\n",
       "      <td>1.0</td>\n",
       "      <td>1.0</td>\n",
       "    </tr>\n",
       "  </tbody>\n",
       "</table>\n",
       "<p>1309 rows × 6 columns</p>\n",
       "</div>"
      ],
      "text/plain": [
       "      age  sex     bmi  children  smoker  region\n",
       "0      19  0.0  27.900         0     1.0     3.0\n",
       "1      18  1.0  33.770         1     0.0     2.0\n",
       "2      28  1.0  33.000         3     0.0     2.0\n",
       "3      33  1.0  22.705         0     0.0     1.0\n",
       "4      32  1.0  28.880         0     0.0     1.0\n",
       "...   ...  ...     ...       ...     ...     ...\n",
       "1333   50  1.0  30.970         3     0.0     1.0\n",
       "1334   18  0.0  31.920         0     0.0     0.0\n",
       "1335   18  0.0  36.850         0     0.0     2.0\n",
       "1336   21  0.0  25.800         0     0.0     3.0\n",
       "1337   61  0.0  29.070         0     1.0     1.0\n",
       "\n",
       "[1309 rows x 6 columns]"
      ]
     },
     "execution_count": 24,
     "metadata": {},
     "output_type": "execute_result"
    }
   ],
   "source": [
    "df=df_new\n",
    "x=df_new.iloc[:,:-1]\n",
    "x"
   ]
  },
  {
   "cell_type": "code",
   "execution_count": 25,
   "id": "0ee59b35",
   "metadata": {},
   "outputs": [
    {
     "data": {
      "text/plain": [
       "0       16884.92400\n",
       "1        1725.55230\n",
       "2        4449.46200\n",
       "3       21984.47061\n",
       "4        3866.85520\n",
       "           ...     \n",
       "1333    10600.54830\n",
       "1334     2205.98080\n",
       "1335     1629.83350\n",
       "1336     2007.94500\n",
       "1337    29141.36030\n",
       "Name: charges, Length: 1309, dtype: float64"
      ]
     },
     "execution_count": 25,
     "metadata": {},
     "output_type": "execute_result"
    }
   ],
   "source": [
    "y=df.iloc[:,-1]\n",
    "y"
   ]
  },
  {
   "cell_type": "code",
   "execution_count": 26,
   "id": "6ac40bd1",
   "metadata": {},
   "outputs": [
    {
     "data": {
      "text/plain": [
       "(1309, 6)"
      ]
     },
     "execution_count": 26,
     "metadata": {},
     "output_type": "execute_result"
    }
   ],
   "source": [
    "x.shape"
   ]
  },
  {
   "cell_type": "code",
   "execution_count": 27,
   "id": "af74e7c8",
   "metadata": {},
   "outputs": [
    {
     "data": {
      "text/plain": [
       "(1309,)"
      ]
     },
     "execution_count": 27,
     "metadata": {},
     "output_type": "execute_result"
    }
   ],
   "source": [
    "y.shape"
   ]
  },
  {
   "cell_type": "markdown",
   "id": "360803d1",
   "metadata": {},
   "source": [
    "**applying scaling method**"
   ]
  },
  {
   "cell_type": "code",
   "execution_count": 28,
   "id": "91f1d067",
   "metadata": {},
   "outputs": [
    {
     "data": {
      "text/plain": [
       "array([[-1.43906316, -1.00536197, -0.44935891, -0.92961644,  1.98484827,\n",
       "         1.35275274],\n",
       "       [-1.5100858 ,  0.99466663,  0.53339072, -0.04009311, -0.50381685,\n",
       "         0.44745962],\n",
       "       [-0.79985933,  0.99466663,  0.40447808,  1.73895356, -0.50381685,\n",
       "         0.44745962],\n",
       "       ...,\n",
       "       [-1.5100858 , -1.00536197,  1.04904129, -0.92961644, -0.50381685,\n",
       "         0.44745962],\n",
       "       [-1.29701786, -1.00536197, -0.80093884, -0.92961644, -0.50381685,\n",
       "         1.35275274],\n",
       "       [ 1.54388803, -1.00536197, -0.25347866, -0.92961644,  1.98484827,\n",
       "        -0.45783349]])"
      ]
     },
     "execution_count": 28,
     "metadata": {},
     "output_type": "execute_result"
    }
   ],
   "source": [
    "# importing libraries\n",
    "from sklearn.preprocessing import StandardScaler\n",
    "sc=StandardScaler()\n",
    "x=sc.fit_transform(x)\n",
    "x"
   ]
  },
  {
   "cell_type": "markdown",
   "id": "c857af2e",
   "metadata": {},
   "source": [
    "# Modelling the data set"
   ]
  },
  {
   "cell_type": "code",
   "execution_count": 36,
   "id": "fbd94862",
   "metadata": {},
   "outputs": [],
   "source": [
    "# Since the dataset and problem statments demands to use Linear regression alogorithm for ML\n",
    "#hence Importing libraries for the same\n",
    "from sklearn.linear_model import LinearRegression\n",
    "from sklearn.model_selection import train_test_split\n",
    "from sklearn.metrics import r2_score"
   ]
  },
  {
   "cell_type": "code",
   "execution_count": 45,
   "id": "ecb06ec6",
   "metadata": {},
   "outputs": [
    {
     "name": "stdout",
     "output_type": "stream",
     "text": [
      "training r2 score is  0.7417605652316128 at randon state  0\n",
      "testing r2 score is  0.7892477599105712 at randon state  0\n",
      "\n",
      "\n",
      "max r2 score 0.7892477599105712 max_random_state 0\n",
      "training r2 score is  0.7522616000855948 at randon state  1\n",
      "testing r2 score is  0.7549280680101378 at randon state  1\n",
      "\n",
      "\n",
      "training r2 score is  0.7618751946366729 at randon state  2\n",
      "testing r2 score is  0.7163471107004837 at randon state  2\n",
      "\n",
      "\n",
      "training r2 score is  0.7553168693545468 at randon state  3\n",
      "testing r2 score is  0.7429714679722454 at randon state  3\n",
      "\n",
      "\n",
      "training r2 score is  0.7569205597007563 at randon state  4\n",
      "testing r2 score is  0.7352088866730078 at randon state  4\n",
      "\n",
      "\n",
      "training r2 score is  0.7544674693947364 at randon state  5\n",
      "testing r2 score is  0.7460223930639374 at randon state  5\n",
      "\n",
      "\n",
      "training r2 score is  0.7493264966818254 at randon state  6\n",
      "testing r2 score is  0.767234919352479 at randon state  6\n",
      "\n",
      "\n",
      "training r2 score is  0.7597044836124265 at randon state  7\n",
      "testing r2 score is  0.7236812667176103 at randon state  7\n",
      "\n",
      "\n",
      "training r2 score is  0.7566009701669908 at randon state  8\n",
      "testing r2 score is  0.7346156719767027 at randon state  8\n",
      "\n",
      "\n",
      "training r2 score is  0.7440919178192946 at randon state  9\n",
      "testing r2 score is  0.7796405823230849 at randon state  9\n",
      "\n",
      "\n",
      "training r2 score is  0.7435168248619872 at randon state  10\n",
      "testing r2 score is  0.7856137444224736 at randon state  10\n",
      "\n",
      "\n",
      "training r2 score is  0.7535052340194464 at randon state  11\n",
      "testing r2 score is  0.7500071959675432 at randon state  11\n",
      "\n",
      "\n",
      "training r2 score is  0.7483424183373256 at randon state  12\n",
      "testing r2 score is  0.7661708531502771 at randon state  12\n",
      "\n",
      "\n",
      "training r2 score is  0.7516951031538712 at randon state  13\n",
      "testing r2 score is  0.7556560427094249 at randon state  13\n",
      "\n",
      "\n",
      "training r2 score is  0.7561260375761347 at randon state  14\n",
      "testing r2 score is  0.7356133268064731 at randon state  14\n",
      "\n",
      "\n",
      "training r2 score is  0.7519730980780805 at randon state  15\n",
      "testing r2 score is  0.7562378488050758 at randon state  15\n",
      "\n",
      "\n",
      "training r2 score is  0.7584238305724467 at randon state  16\n",
      "testing r2 score is  0.7235164694793752 at randon state  16\n",
      "\n",
      "\n",
      "training r2 score is  0.7671275819601155 at randon state  17\n",
      "testing r2 score is  0.6826422099679126 at randon state  17\n",
      "\n",
      "\n",
      "training r2 score is  0.7570157609554786 at randon state  18\n",
      "testing r2 score is  0.7303350233013777 at randon state  18\n",
      "\n",
      "\n",
      "training r2 score is  0.7486023777453104 at randon state  19\n",
      "testing r2 score is  0.7703265888378614 at randon state  19\n",
      "\n",
      "\n",
      "training r2 score is  0.7574830845856324 at randon state  20\n",
      "testing r2 score is  0.7316187142430983 at randon state  20\n",
      "\n",
      "\n",
      "training r2 score is  0.7567473965835239 at randon state  21\n",
      "testing r2 score is  0.7377066580427818 at randon state  21\n",
      "\n",
      "\n",
      "training r2 score is  0.7572420975322921 at randon state  22\n",
      "testing r2 score is  0.7328246984241231 at randon state  22\n",
      "\n",
      "\n",
      "training r2 score is  0.7450437954623688 at randon state  23\n",
      "testing r2 score is  0.7826738917523407 at randon state  23\n",
      "\n",
      "\n",
      "training r2 score is  0.7677176856752774 at randon state  24\n",
      "testing r2 score is  0.6890041969841817 at randon state  24\n",
      "\n",
      "\n",
      "training r2 score is  0.747997814527338 at randon state  25\n",
      "testing r2 score is  0.7725077166668534 at randon state  25\n",
      "\n",
      "\n",
      "training r2 score is  0.7534568953489656 at randon state  26\n",
      "testing r2 score is  0.737517412760418 at randon state  26\n",
      "\n",
      "\n",
      "training r2 score is  0.7458950790013703 at randon state  27\n",
      "testing r2 score is  0.7814944675071387 at randon state  27\n",
      "\n",
      "\n",
      "training r2 score is  0.7484424070903082 at randon state  28\n",
      "testing r2 score is  0.769606087778687 at randon state  28\n",
      "\n",
      "\n",
      "training r2 score is  0.7477368209206783 at randon state  29\n",
      "testing r2 score is  0.7687575449047017 at randon state  29\n",
      "\n",
      "\n",
      "training r2 score is  0.7482785308496471 at randon state  30\n",
      "testing r2 score is  0.7696124644579783 at randon state  30\n",
      "\n",
      "\n",
      "training r2 score is  0.764961372769903 at randon state  31\n",
      "testing r2 score is  0.7056794611243615 at randon state  31\n",
      "\n",
      "\n",
      "training r2 score is  0.7457734167724652 at randon state  32\n",
      "testing r2 score is  0.7793852869391474 at randon state  32\n",
      "\n",
      "\n",
      "training r2 score is  0.7540395107084144 at randon state  33\n",
      "testing r2 score is  0.7427796799871516 at randon state  33\n",
      "\n",
      "\n",
      "training r2 score is  0.7482344145074951 at randon state  34\n",
      "testing r2 score is  0.7705794837433846 at randon state  34\n",
      "\n",
      "\n",
      "training r2 score is  0.7593257046583927 at randon state  35\n",
      "testing r2 score is  0.7143509288494491 at randon state  35\n",
      "\n",
      "\n",
      "training r2 score is  0.749201218541852 at randon state  36\n",
      "testing r2 score is  0.7622847627683853 at randon state  36\n",
      "\n",
      "\n",
      "training r2 score is  0.7358654009716387 at randon state  37\n",
      "testing r2 score is  0.8066173621547079 at randon state  37\n",
      "\n",
      "\n",
      "max r2 score 0.8066173621547079 max_random_state 37\n",
      "training r2 score is  0.7644889356098415 at randon state  38\n",
      "testing r2 score is  0.6820599241614065 at randon state  38\n",
      "\n",
      "\n",
      "training r2 score is  0.7542566409183118 at randon state  39\n",
      "testing r2 score is  0.7475064264598352 at randon state  39\n",
      "\n",
      "\n",
      "training r2 score is  0.7576508097501264 at randon state  40\n",
      "testing r2 score is  0.7329483873027138 at randon state  40\n",
      "\n",
      "\n",
      "training r2 score is  0.7538154620223178 at randon state  41\n",
      "testing r2 score is  0.7470075130770975 at randon state  41\n",
      "\n",
      "\n",
      "training r2 score is  0.7466293537134443 at randon state  42\n",
      "testing r2 score is  0.7783539090730872 at randon state  42\n",
      "\n",
      "\n",
      "training r2 score is  0.7566540831323297 at randon state  43\n",
      "testing r2 score is  0.734936806658741 at randon state  43\n",
      "\n",
      "\n",
      "training r2 score is  0.7565129946454944 at randon state  44\n",
      "testing r2 score is  0.7308152003157583 at randon state  44\n",
      "\n",
      "\n",
      "training r2 score is  0.746626190220359 at randon state  45\n",
      "testing r2 score is  0.7651197068305146 at randon state  45\n",
      "\n",
      "\n",
      "training r2 score is  0.7519291281466969 at randon state  46\n",
      "testing r2 score is  0.7572709976270744 at randon state  46\n",
      "\n",
      "\n",
      "training r2 score is  0.759930430789566 at randon state  47\n",
      "testing r2 score is  0.724958581620234 at randon state  47\n",
      "\n",
      "\n",
      "training r2 score is  0.7471389738634959 at randon state  48\n",
      "testing r2 score is  0.7756256565586005 at randon state  48\n",
      "\n",
      "\n",
      "training r2 score is  0.755315192763697 at randon state  49\n",
      "testing r2 score is  0.7434617014390579 at randon state  49\n",
      "\n",
      "\n",
      "training r2 score is  0.7474267414667903 at randon state  50\n",
      "testing r2 score is  0.7729986051033432 at randon state  50\n",
      "\n",
      "\n",
      "training r2 score is  0.7574107728411144 at randon state  51\n",
      "testing r2 score is  0.7340676310373903 at randon state  51\n",
      "\n",
      "\n",
      "training r2 score is  0.7621442725360783 at randon state  52\n",
      "testing r2 score is  0.7118913334351131 at randon state  52\n",
      "\n",
      "\n",
      "training r2 score is  0.7560277992524266 at randon state  53\n",
      "testing r2 score is  0.7372471333816422 at randon state  53\n",
      "\n",
      "\n",
      "training r2 score is  0.7561414485407714 at randon state  54\n",
      "testing r2 score is  0.7343215921578081 at randon state  54\n",
      "\n",
      "\n",
      "training r2 score is  0.7643008659762919 at randon state  55\n",
      "testing r2 score is  0.7032686301328059 at randon state  55\n",
      "\n",
      "\n",
      "training r2 score is  0.7493544514518569 at randon state  56\n",
      "testing r2 score is  0.7681420807129803 at randon state  56\n",
      "\n",
      "\n",
      "training r2 score is  0.7419864531211458 at randon state  57\n",
      "testing r2 score is  0.7934117041481266 at randon state  57\n",
      "\n",
      "\n",
      "training r2 score is  0.7533225239059268 at randon state  58\n",
      "testing r2 score is  0.7507937327287068 at randon state  58\n",
      "\n",
      "\n",
      "training r2 score is  0.7518874477046397 at randon state  59\n",
      "testing r2 score is  0.755843591820982 at randon state  59\n",
      "\n",
      "\n",
      "training r2 score is  0.7384917451487811 at randon state  60\n",
      "testing r2 score is  0.8063347176378765 at randon state  60\n",
      "\n",
      "\n",
      "training r2 score is  0.7619565431539873 at randon state  61\n",
      "testing r2 score is  0.7144106303957088 at randon state  61\n",
      "\n",
      "\n",
      "training r2 score is  0.7475902565284986 at randon state  62\n",
      "testing r2 score is  0.7705746793570257 at randon state  62\n",
      "\n",
      "\n",
      "training r2 score is  0.7520804105953104 at randon state  63\n",
      "testing r2 score is  0.7548910641918649 at randon state  63\n",
      "\n",
      "\n",
      "training r2 score is  0.749781131682693 at randon state  64\n",
      "testing r2 score is  0.7624187111932565 at randon state  64\n",
      "\n",
      "\n",
      "training r2 score is  0.7516922475766347 at randon state  65\n",
      "testing r2 score is  0.7575804291151479 at randon state  65\n",
      "\n",
      "\n",
      "training r2 score is  0.7568112475196944 at randon state  66\n",
      "testing r2 score is  0.7360388689639439 at randon state  66\n",
      "\n",
      "\n",
      "training r2 score is  0.7659393022108338 at randon state  67\n",
      "testing r2 score is  0.7048237503236265 at randon state  67\n",
      "\n",
      "\n"
     ]
    },
    {
     "name": "stdout",
     "output_type": "stream",
     "text": [
      "training r2 score is  0.7688683694928464 at randon state  68\n",
      "testing r2 score is  0.6854336105708956 at randon state  68\n",
      "\n",
      "\n",
      "training r2 score is  0.7389744400607852 at randon state  69\n",
      "testing r2 score is  0.8009526052816609 at randon state  69\n",
      "\n",
      "\n",
      "training r2 score is  0.7532177551357403 at randon state  70\n",
      "testing r2 score is  0.7502035032024043 at randon state  70\n",
      "\n",
      "\n",
      "training r2 score is  0.7495277289962154 at randon state  71\n",
      "testing r2 score is  0.7667668564100336 at randon state  71\n",
      "\n",
      "\n",
      "training r2 score is  0.7322433493305848 at randon state  72\n",
      "testing r2 score is  0.8256637902479007 at randon state  72\n",
      "\n",
      "\n",
      "max r2 score 0.8256637902479007 max_random_state 72\n",
      "training r2 score is  0.7497332193427375 at randon state  73\n",
      "testing r2 score is  0.7656259384613368 at randon state  73\n",
      "\n",
      "\n",
      "training r2 score is  0.7486058775155127 at randon state  74\n",
      "testing r2 score is  0.7652748111238623 at randon state  74\n",
      "\n",
      "\n",
      "training r2 score is  0.7535750929673348 at randon state  75\n",
      "testing r2 score is  0.7462930050228813 at randon state  75\n",
      "\n",
      "\n",
      "training r2 score is  0.7562669397894553 at randon state  76\n",
      "testing r2 score is  0.7315298145191879 at randon state  76\n",
      "\n",
      "\n",
      "training r2 score is  0.767557983696364 at randon state  77\n",
      "testing r2 score is  0.6737209921337345 at randon state  77\n",
      "\n",
      "\n",
      "training r2 score is  0.7546087805057843 at randon state  78\n",
      "testing r2 score is  0.7446672249537858 at randon state  78\n",
      "\n",
      "\n",
      "training r2 score is  0.7657196734135205 at randon state  79\n",
      "testing r2 score is  0.6994562660374595 at randon state  79\n",
      "\n",
      "\n",
      "training r2 score is  0.754597926238983 at randon state  80\n",
      "testing r2 score is  0.743431279724488 at randon state  80\n",
      "\n",
      "\n",
      "training r2 score is  0.7358568915216308 at randon state  81\n",
      "testing r2 score is  0.8068241032849666 at randon state  81\n",
      "\n",
      "\n",
      "training r2 score is  0.7320128873681694 at randon state  82\n",
      "testing r2 score is  0.8136812306124637 at randon state  82\n",
      "\n",
      "\n",
      "training r2 score is  0.7533877202780043 at randon state  83\n",
      "testing r2 score is  0.7481077010658315 at randon state  83\n",
      "\n",
      "\n",
      "training r2 score is  0.7613930538658527 at randon state  84\n",
      "testing r2 score is  0.7187326335177305 at randon state  84\n",
      "\n",
      "\n",
      "training r2 score is  0.7470077866313856 at randon state  85\n",
      "testing r2 score is  0.7700983941742308 at randon state  85\n",
      "\n",
      "\n",
      "training r2 score is  0.7578989039336809 at randon state  86\n",
      "testing r2 score is  0.728895632239361 at randon state  86\n",
      "\n",
      "\n",
      "training r2 score is  0.7529927837228724 at randon state  87\n",
      "testing r2 score is  0.7530275497607269 at randon state  87\n",
      "\n",
      "\n",
      "training r2 score is  0.7473666165538313 at randon state  88\n",
      "testing r2 score is  0.7750801518522138 at randon state  88\n",
      "\n",
      "\n",
      "training r2 score is  0.7433436865688032 at randon state  89\n",
      "testing r2 score is  0.7881625006026939 at randon state  89\n",
      "\n",
      "\n",
      "training r2 score is  0.7543825249924339 at randon state  90\n",
      "testing r2 score is  0.7430077526735543 at randon state  90\n",
      "\n",
      "\n",
      "training r2 score is  0.7670773366173868 at randon state  91\n",
      "testing r2 score is  0.6866812357084342 at randon state  91\n",
      "\n",
      "\n",
      "training r2 score is  0.758830857870892 at randon state  92\n",
      "testing r2 score is  0.726464314978662 at randon state  92\n",
      "\n",
      "\n",
      "training r2 score is  0.7446585524925364 at randon state  93\n",
      "testing r2 score is  0.7827259170013208 at randon state  93\n",
      "\n",
      "\n",
      "training r2 score is  0.7511180602485585 at randon state  94\n",
      "testing r2 score is  0.7581105343257559 at randon state  94\n",
      "\n",
      "\n",
      "training r2 score is  0.7450034903671455 at randon state  95\n",
      "testing r2 score is  0.7800343966441206 at randon state  95\n",
      "\n",
      "\n",
      "training r2 score is  0.7456846910566881 at randon state  96\n",
      "testing r2 score is  0.7758220573463125 at randon state  96\n",
      "\n",
      "\n",
      "training r2 score is  0.7592441684360982 at randon state  97\n",
      "testing r2 score is  0.7222663966992873 at randon state  97\n",
      "\n",
      "\n",
      "training r2 score is  0.7564400613960389 at randon state  98\n",
      "testing r2 score is  0.737626232882809 at randon state  98\n",
      "\n",
      "\n",
      "training r2 score is  0.7492477483679885 at randon state  99\n",
      "testing r2 score is  0.7650873199925301 at randon state  99\n",
      "\n",
      "\n"
     ]
    }
   ],
   "source": [
    "lr=LinearRegression()\n",
    "\n",
    "maxr2=0\n",
    "maxrs=0\n",
    "\n",
    "for i in range(0,100):\n",
    "    xtrain,xtest,ytrain,ytest=train_test_split(x, y, test_size=.20, random_state=i)\n",
    "    lr.fit(xtrain,ytrain)\n",
    "    predlrtrain=lr.predict(xtrain)\n",
    "    predlrtest=lr.predict(xtest)\n",
    "    scoretrain=r2_score(ytrain,predlrtrain)\n",
    "    scoretest=r2_score(ytest,predlrtest)\n",
    "    print('training r2 score is ', scoretrain, 'at randon state ', i)\n",
    "    print('testing r2 score is ', scoretest, 'at randon state ', i)\n",
    "    print(\"\\n\")\n",
    "    \n",
    "    if scoretest>maxr2:\n",
    "        maxr2=scoretest\n",
    "        maxrs=i\n",
    "        print('max r2 score', maxr2 , 'max_random_state', i)"
   ]
  },
  {
   "cell_type": "code",
   "execution_count": 46,
   "id": "18fa0547",
   "metadata": {},
   "outputs": [
    {
     "name": "stdout",
     "output_type": "stream",
     "text": [
      "0.8256637902479007 72\n"
     ]
    }
   ],
   "source": [
    "print(maxr2,maxrs)"
   ]
  },
  {
   "cell_type": "code",
   "execution_count": 47,
   "id": "c1de6463",
   "metadata": {},
   "outputs": [
    {
     "data": {
      "image/png": "[encoded data removed]",
      "text/plain": [
       "<Figure size 432x288 with 1 Axes>"
      ]
     },
     "metadata": {
      "needs_background": "light"
     },
     "output_type": "display_data"
    }
   ],
   "source": [
    "plt.scatter(x=ytest, y=predlrtest, color='r')\n",
    "plt.plot(ytest,ytest,color='b')\n",
    "plt.xlabel('Actual charges')\n",
    "plt.ylabel('predicted charges')\n",
    "plt.title('Linear regression')\n",
    "plt.show()"
   ]
  },
  {
   "cell_type": "markdown",
   "id": "1f7618ee",
   "metadata": {},
   "source": [
    "**Cross validation of the model**"
   ]
  },
  {
   "cell_type": "code",
   "execution_count": 42,
   "id": "88f9222f",
   "metadata": {},
   "outputs": [
    {
     "name": "stdout",
     "output_type": "stream",
     "text": [
      " At Cross validation 2 the CV score is 0.7507263874653842 and the training accuracy is 0.7566046872583662 with testing accuracy 0.7374408026814219\n",
      "\n",
      "\n",
      " At Cross validation 3 the CV score is 0.7482863513140566 and the training accuracy is 0.7566046872583662 with testing accuracy 0.7374408026814219\n",
      "\n",
      "\n",
      " At Cross validation 4 the CV score is 0.7464940705596477 and the training accuracy is 0.7566046872583662 with testing accuracy 0.7374408026814219\n",
      "\n",
      "\n",
      " At Cross validation 5 the CV score is 0.7507037701961409 and the training accuracy is 0.7566046872583662 with testing accuracy 0.7374408026814219\n",
      "\n",
      "\n",
      " At Cross validation 6 the CV score is 0.7479467120568 and the training accuracy is 0.7566046872583662 with testing accuracy 0.7374408026814219\n",
      "\n",
      "\n",
      " At Cross validation 7 the CV score is 0.7476013200228121 and the training accuracy is 0.7566046872583662 with testing accuracy 0.7374408026814219\n",
      "\n",
      "\n",
      " At Cross validation 8 the CV score is 0.7450165785585103 and the training accuracy is 0.7566046872583662 with testing accuracy 0.7374408026814219\n",
      "\n",
      "\n",
      " At Cross validation 9 the CV score is 0.7459578432259708 and the training accuracy is 0.7566046872583662 with testing accuracy 0.7374408026814219\n",
      "\n",
      "\n"
     ]
    }
   ],
   "source": [
    "#importing library\n",
    "from sklearn.model_selection import cross_val_score\n",
    "\n",
    "Train_Accuracy=r2_score(ytrain,predlrtrain)\n",
    "Test_Accuracy=r2_score(ytest,predlrtest)\n",
    "\n",
    "for j in range(2,10):\n",
    "    cv_score=cross_val_score(lr,x,y, cv=j)\n",
    "    cv_mean=cv_score.mean()\n",
    "    print(f\" At Cross validation {j} the CV score is {cv_mean} and the training accuracy is {Train_Accuracy} with testing accuracy {Test_Accuracy}\")\n",
    "    print('\\n')\n"
   ]
  },
  {
   "cell_type": "markdown",
   "id": "a0527280",
   "metadata": {},
   "source": [
    "**Observations drawn**\n",
    "\n",
    "from the cross validation it is clear that the Linear regression model giving the r2 score value as 0.82 is overfitting(and trapping noise due to which we have to go for regularization techniques"
   ]
  },
  {
   "cell_type": "markdown",
   "id": "c110e592",
   "metadata": {},
   "source": [
    "**Regularizing the model with lasso** with hyper parameter tuning"
   ]
  },
  {
   "cell_type": "code",
   "execution_count": 49,
   "id": "c64b50f2",
   "metadata": {},
   "outputs": [],
   "source": [
    "#importing libraries\n",
    "from sklearn.model_selection import GridSearchCV\n",
    "from sklearn.linear_model import Lasso"
   ]
  },
  {
   "cell_type": "code",
   "execution_count": 51,
   "id": "8b6d7655",
   "metadata": {},
   "outputs": [
    {
     "name": "stdout",
     "output_type": "stream",
     "text": [
      "{'alpha': 10, 'random_state': 0}\n"
     ]
    }
   ],
   "source": [
    "parameters={'alpha':[.00001,0.0001,0.001,0.01,0.1,1,10,100],\n",
    "            'random_state':list(range(0,10))}\n",
    "\n",
    "ls=Lasso()\n",
    "clf=GridSearchCV(ls,parameters)\n",
    "clf.fit(xtrain,ytrain)\n",
    "\n",
    "print(clf.best_params_)"
   ]
  },
  {
   "cell_type": "markdown",
   "id": "f60adb31",
   "metadata": {},
   "source": [
    "**from above hyper parameter tuning it is observed best parameters combination is the alpha value at 10 and and randon state as 0**\n",
    "\n",
    "Then implementing the same for getting final training the data"
   ]
  },
  {
   "cell_type": "code",
   "execution_count": 53,
   "id": "552a92b7",
   "metadata": {},
   "outputs": [
    {
     "name": "stdout",
     "output_type": "stream",
     "text": [
      "lasso training score is  0.7492433548939192\n",
      "lasso testing score is  0.7654607338882393\n"
     ]
    }
   ],
   "source": [
    "ls=Lasso(alpha=10,random_state=0)\n",
    "ls.fit(xtrain,ytrain)\n",
    "ls_score_training=ls.score(xtrain,ytrain)\n",
    "predls=ls.predict(xtest)\n",
    "print('lasso training score is ',ls_score_training)\n",
    "print('lasso testing score is ', r2_score(ytest,predls))"
   ]
  },
  {
   "cell_type": "code",
   "execution_count": 54,
   "id": "47b5ccf9",
   "metadata": {},
   "outputs": [
    {
     "data": {
      "text/plain": [
       "0.7507235896211752"
      ]
     },
     "execution_count": 54,
     "metadata": {},
     "output_type": "execute_result"
    }
   ],
   "source": [
    "cv_score=cross_val_score(ls,x,y,cv=5)\n",
    "cv_mean=cv_score.mean()\n",
    "cv_mean"
   ]
  },
  {
   "cell_type": "markdown",
   "id": "1efc65f2",
   "metadata": {},
   "source": [
    "**Ensemble method**"
   ]
  },
  {
   "cell_type": "code",
   "execution_count": 55,
   "id": "e8b15ba6",
   "metadata": {},
   "outputs": [
    {
     "data": {
      "text/plain": [
       "{'criterion': 'mse', 'max_features': 'log2'}"
      ]
     },
     "execution_count": 55,
     "metadata": {},
     "output_type": "execute_result"
    }
   ],
   "source": [
    "#importing Libraries\n",
    "from sklearn.ensemble import RandomForestRegressor\n",
    "\n",
    "parameters={'criterion':['mse','mae'],\n",
    "            'max_features':['auto','sqrt','log2']}\n",
    "\n",
    "rf=RandomForestRegressor()\n",
    "\n",
    "clf=GridSearchCV(rf,parameters)\n",
    "clf.fit(xtrain,ytrain)\n",
    "\n",
    "clf.best_params_"
   ]
  },
  {
   "cell_type": "code",
   "execution_count": 57,
   "id": "5706cd4c",
   "metadata": {},
   "outputs": [
    {
     "name": "stdout",
     "output_type": "stream",
     "text": [
      "R2 score is  0.8721364549664591\n",
      "CV score is  0.8378861906572513\n"
     ]
    }
   ],
   "source": [
    "rf=RandomForestRegressor(criterion='mse', max_features= 'log2')\n",
    "rf.fit(xtrain,ytrain)\n",
    "rf.score(xtrain,ytrain)\n",
    "predrf=rf.predict(xtest)\n",
    "\n",
    "rfs=r2_score(ytest,predrf)\n",
    "print('R2 score is ', rfs)\n",
    "\n",
    "\n",
    "rfcvscore=cross_val_score(rf,x,y,cv=5)\n",
    "rfcv_mean=rfcvscore.mean()\n",
    "print('CV score is ', rfcv_mean)"
   ]
  },
  {
   "cell_type": "code",
   "execution_count": null,
   "id": "2cdca778",
   "metadata": {},
   "outputs": [],
   "source": []
  },
  {
   "cell_type": "code",
   "execution_count": null,
   "id": "697b6090",
   "metadata": {},
   "outputs": [],
   "source": []
  },
  {
   "cell_type": "code",
   "execution_count": null,
   "id": "305b9754",
   "metadata": {},
   "outputs": [],
   "source": []
  },
  {
   "cell_type": "code",
   "execution_count": null,
   "id": "5d8d44e6",
   "metadata": {},
   "outputs": [],
   "source": []
  },
  {
   "cell_type": "code",
   "execution_count": null,
   "id": "b79cdb3a",
   "metadata": {},
   "outputs": [],
   "source": []
  }
 ],
 "metadata": {
  "kernelspec": {
   "display_name": "Python 3 (ipykernel)",
   "language": "python",
   "name": "python3"
  },
  "language_info": {
   "codemirror_mode": {
    "name": "ipython",
    "version": 3
   },
   "file_extension": ".py",
   "mimetype": "text/x-python",
   "name": "python",
   "nbconvert_exporter": "python",
   "pygments_lexer": "ipython3",
   "version": "3.9.12"
  }
 },
 "nbformat": 4,
 "nbformat_minor": 5
}
